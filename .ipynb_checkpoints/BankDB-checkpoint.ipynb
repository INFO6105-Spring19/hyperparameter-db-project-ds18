{
 "cells": [
  {
   "cell_type": "markdown",
   "metadata": {},
   "source": [
    "# AI Skunkworks Project - Hyperparameters Database"
   ]
  },
  {
   "cell_type": "markdown",
   "metadata": {},
   "source": [
    "# Contents\n",
    "\n",
    "- <a href='#1'>1. Project Description</a>\n",
    "- <a href='#2'>2. Exploratory Data Analysis</a>\n",
    "    - <a href='#2.1'>2.1 Auditing and cleansing the loaded data</a>\n",
    "    - <a href='#2.2'>2.2 Exploring the data</a>\n",
    "    - <a href='#2.3'>2.3 Data visualization</a>\n",
    "- <a href='#3'>3. </a>\n",
    "- <a href='#4'>4. </a>\n",
    "- <a href='#4'>4. Conclusion</a>\n",
    "- <a href='#5'>5. Contributions statement</a>\n",
    "- <a href='#6'>6. Citations</a>\n",
    "- <a href='#7'>7. License</a>"
   ]
  },
  {
   "cell_type": "markdown",
   "metadata": {},
   "source": [
    "# <a id='1'>1. Project Description</a>"
   ]
  },
  {
   "cell_type": "markdown",
   "metadata": {},
   "source": [
    "#### Goals and Objectives :\n",
    "<ul>\n",
    "<li>In statistics, hyperparameter is a parameter from a prior distribution; it captures the prior belief before data is observed.</li>\n",
    "<li>In any machine learning algorithms, these parameters need to be initialized before training amodel.</li>\n",
    "<li>Hyperparameters are important because they directly control the behaviour of the training algorithm and have a significant impact on the performance of the model is being trained.</li>\n",
    "<li>Our aim is to find proper hyperparameter with proper tuning for our dataset which would help the database team in modelling the database schema in an efficient way. We would create H2O models for this dataset for getting proper hyperparameters.</li>\n",
    "</ul>\n",
    "\n",
    "#### Background Research:\n",
    "Hyperparameters are variables that we need to set before applying a learning algorithm to a dataset. In machine learning scenarios, a significant part of model performance depends on the hyperparameter values selected. The goal of hyperparameter exploration is to search across various hyperparameter configurations to find the one that results in the optimal performance.  The challenge with hyperparameters is that there are no magic number that works everywhere. The best numbers depend on each task and each dataset. The hyperparameter database to be developed as a part of this project is an open resource with algorithms, tools, and data that allows users to visualize and understand how to choose hyperparameters that maximize the predictive power of their models. Phase I of the project involves selecting a unique dataset containing predicted target variables, hyperparameters, meta-data etc. by running different models (with varying hyperparameters) on it using H2O.<br>\n",
    "\n",
    "**Hyperparameters can be divided into 2 categories:** <br>\n",
    "1. Optimizer hyperparameters\n",
    "<ul>\n",
    "<li>They are related more to the optimization and training process</li>\n",
    "<li>If our learning rate is too small than optimal value then it would take a much longer time (hundreds or thousands) of epochs to reach the ideal state</li>\n",
    "<li>If our learning rate is too large than optimal value then it would overshoot the ideal state and our algorithm might not converge</li>\n",
    "</ul><br>\n",
    "\n",
    "2. Model Specific hyperparameters\n",
    "<ul>\n",
    "<li>They are more involved in the structure of the model</li>\n",
    "</ul>\n",
    "\n",
    "Currently, the hyperparameter database analyzes the effect of hyperparameters on the following algorithms: Distributed Random Forest (DRF), Generalized Linear Model (GLM), Gradient Boosting Machine (GBM). Naïve Bayes Classifier, Stacked Ensembles, XGBoost and Deep Learning Models (Neural Networks).\n",
    "\n",
    "\n",
    "**Algorithms and code sources:**\n",
    "<ul>\n",
    "<li>Deciding the algorithms based on the type of dataset(Classification or Regression algorithm)</li>\n",
    "<li>We would be using H20 python module.</li>\n",
    "<li>This Python module provides access to the H2O JVM, as well as its extensions, objects, machine-learning algorithms, and modeling support capabilities, such as basic munging and feature generation. </li>\n",
    "</ul>\n",
    "    \n",
    "**How and what the team will work on?:**\n",
    "<ul>\n",
    "<li>Find a dataset</li>\n",
    "<li>Figure out the algorithms that will work for that dataset. The type of algorithm like classification or Regression algorithm.</li>\n",
    "<li>Perform H2O in python for generating various models at various runtime.</li>\n",
    "<li>Suppose hypothetically if five algorithms are used then the best models for those algorithms will be selected to get the hyperparameter.</li>\n",
    "<li>All the models will be stored for reference irrespective of it being best or the worst model.</li>\n",
    "<li>Further communicate with the database team to give them the insight of the data and the conclusions drawn from the H2O analysis. This would help them in designing the ER Diagrams and designing the data models and schema.</li>\n",
    "<li>We will try to follow this process on as many datasets as possible within the given time constraint.</li>\n",
    "</ul>\n",
    "    \n",
    "**Challenges:**\n",
    "<ul>\n",
    "<li>Implementing H2O analysis.</li>\n",
    "<li>Getting optimized hyperparameters.</li>\n",
    "<li>The model might overfit for the training dataset which will not work well on the test dataset.</li>\n",
    "<li>Other challenge would be to tune model and feature parameters well.</li>\n",
    "</ul>"
   ]
  },
  {
   "cell_type": "code",
   "execution_count": null,
   "metadata": {},
   "outputs": [],
   "source": []
  },
  {
   "cell_type": "code",
   "execution_count": null,
   "metadata": {},
   "outputs": [],
   "source": []
  },
  {
   "cell_type": "code",
   "execution_count": null,
   "metadata": {},
   "outputs": [],
   "source": []
  },
  {
   "cell_type": "code",
   "execution_count": null,
   "metadata": {},
   "outputs": [],
   "source": []
  }
 ],
 "metadata": {
  "kernelspec": {
   "display_name": "Python 3",
   "language": "python",
   "name": "python3"
  },
  "language_info": {
   "codemirror_mode": {
    "name": "ipython",
    "version": 3
   },
   "file_extension": ".py",
   "mimetype": "text/x-python",
   "name": "python",
   "nbconvert_exporter": "python",
   "pygments_lexer": "ipython3",
   "version": "3.7.3"
  }
 },
 "nbformat": 4,
 "nbformat_minor": 2
}
