{
 "cells": [
  {
   "cell_type": "markdown",
   "metadata": {},
   "source": [
    "# AI Skunkworks Project - Hyperparameters Database"
   ]
  },
  {
   "cell_type": "markdown",
   "metadata": {},
   "source": [
    "# Contents\n",
    "\n",
    "- <a href='#1'>1. Project Description</a>\n",
    "- <a href='#2'>2. Exploratory Data Analysis</a>\n",
    "    - <a href='#2.1'>2.1 Auditing and cleansing the loaded data</a>\n",
    "    - <a href='#2.2'>2.2 Exploring the data</a>\n",
    "    - <a href='#2.3'>2.3 Data visualization</a>\n",
    "- <a href='#3'>3. </a>\n",
    "- <a href='#4'>4. </a>\n",
    "- <a href='#4'>4. Conclusion</a>\n",
    "- <a href='#5'>5. Contributions statement</a>\n",
    "- <a href='#6'>6. Citations</a>\n",
    "- <a href='#7'>7. License</a>"
   ]
  },
  {
   "cell_type": "markdown",
   "metadata": {},
   "source": [
    "# <a id='1'>1. Project Description</a>"
   ]
  },
  {
   "cell_type": "markdown",
   "metadata": {},
   "source": [
    "#### Goals and Objectives :\n",
    "<ul>\n",
    "<li>In statistics, hyperparameter is a parameter from a prior distribution; it captures the prior belief before data is observed.</li>\n",
    "<li>In any machine learning algorithms, these parameters need to be initialized before training amodel.</li>\n",
    "<li>Hyperparameters are important because they directly control the behaviour of the training algorithm and have a significant impact on the performance of the model is being trained.</li>\n",
    "<li>Our aim is to find proper hyperparameter with proper tuning for our dataset which would help the database team in modelling the database schema in an efficient way. We would create H2O models for this dataset for getting proper hyperparameters.</li>\n",
    "</ul>\n",
    "\n",
    "#### Background Research:\n",
    "Hyperparameters are variables that we need to set before applying a learning algorithm to a dataset. In machine learning scenarios, a significant part of model performance depends on the hyperparameter values selected. The goal of hyperparameter exploration is to search across various hyperparameter configurations to find the one that results in the optimal performance.  The challenge with hyperparameters is that there are no magic number that works everywhere. The best numbers depend on each task and each dataset. The hyperparameter database to be developed as a part of this project is an open resource with algorithms, tools, and data that allows users to visualize and understand how to choose hyperparameters that maximize the predictive power of their models. Phase I of the project involves selecting a unique dataset containing predicted target variables, hyperparameters, meta-data etc. by running different models (with varying hyperparameters) on it using H2O.<br>\n",
    "\n",
    "**Hyperparameters can be divided into 2 categories:** <br>\n",
    "1. Optimizer hyperparameters\n",
    "<ul>\n",
    "<li>They are related more to the optimization and training process</li>\n",
    "<li>If our learning rate is too small than optimal value then it would take a much longer time (hundreds or thousands) of epochs to reach the ideal state</li>\n",
    "<li>If our learning rate is too large than optimal value then it would overshoot the ideal state and our algorithm might not converge</li>\n",
    "</ul><br>\n",
    "\n",
    "2. Model Specific hyperparameters\n",
    "<ul>\n",
    "<li>They are more involved in the structure of the model</li>\n",
    "</ul>\n",
    "\n",
    "Currently, the hyperparameter database analyzes the effect of hyperparameters on the following algorithms: Distributed Random Forest (DRF), Generalized Linear Model (GLM), Gradient Boosting Machine (GBM). Naïve Bayes Classifier, Stacked Ensembles, XGBoost and Deep Learning Models (Neural Networks).\n",
    "\n",
    "\n",
    "**Algorithms and code sources:**\n",
    "<ul>\n",
    "<li>Deciding the algorithms based on the type of dataset(Classification or Regression algorithm)</li>\n",
    "<li>We would be using H20 python module.</li>\n",
    "<li>This Python module provides access to the H2O JVM, as well as its extensions, objects, machine-learning algorithms, and modeling support capabilities, such as basic munging and feature generation. </li>\n",
    "</ul>\n",
    "    \n",
    "**How and what the team will work on?:**\n",
    "<ul>\n",
    "<li>Find a dataset</li>\n",
    "<li>Figure out the algorithms that will work for that dataset. The type of algorithm like classification or Regression algorithm.</li>\n",
    "<li>Perform H2O in python for generating various models at various runtime.</li>\n",
    "<li>Suppose hypothetically if five algorithms are used then the best models for those algorithms will be selected to get the hyperparameter.</li>\n",
    "<li>All the models will be stored for reference irrespective of it being best or the worst model.</li>\n",
    "<li>Further communicate with the database team to give them the insight of the data and the conclusions drawn from the H2O analysis. This would help them in designing the ER Diagrams and designing the data models and schema.</li>\n",
    "<li>We will try to follow this process on as many datasets as possible within the given time constraint.</li>\n",
    "</ul>\n",
    "    \n",
    "**Challenges:**\n",
    "<ul>\n",
    "<li>Implementing H2O analysis.</li>\n",
    "<li>Getting optimized hyperparameters.</li>\n",
    "<li>The model might overfit for the training dataset which will not work well on the test dataset.</li>\n",
    "<li>Other challenge would be to tune model and feature parameters well.</li>\n",
    "</ul>"
   ]
  },
  {
   "cell_type": "markdown",
   "metadata": {},
   "source": [
    "# <a id='2'>2. Exploratory Data Analysis</a>"
   ]
  },
  {
   "cell_type": "markdown",
   "metadata": {},
   "source": [
    "### <a id=\"2.1\">2.1 Auditing and cleansing the loaded data</a>\n",
    "In this task, we are inspecting and auditing the data to identify the data problems, and then fix the problems. Different generic and major data problems could be found in the data might include:\n",
    "* Lexical errors, e.g., typos and spelling mistakes\n",
    "* Irregularities, e.g., abnormal data values and data formats\n",
    "* Violations of the Integrity constraint.\n",
    "* Outliers\n",
    "* Duplications\n",
    "* Missing values\n",
    "* Inconsistency, e.g., inhomogeneity in values and types in representing the same data"
   ]
  },
  {
   "cell_type": "markdown",
   "metadata": {},
   "source": [
    "### The following libraries are used throughout this notebook for purpose of data visualization and much more"
   ]
  },
  {
   "cell_type": "markdown",
   "metadata": {},
   "source": [
    "\n",
    "<table>\n",
    "<thead><tr>\n",
    "<th style=\"text-align:center\">Serial No.</th>\n",
    "<th style=\"text-align:center\">Package</th>\n",
    "<th style=\"text-align:center\">Plots used in this kernel</th>\n",
    "<th style=\"text-align:center\">Remark</th>\n",
    "<th style=\"text-align:center\">Nature of plots</th>\n",
    "</tr>\n",
    "</thead>\n",
    "<tbody>\n",
    "<tr>\n",
    "<td style=\"text-align:center\">1</td>\n",
    "<td style=\"text-align:center\"><strong>Matplotlib</strong></td>\n",
    "<td style=\"text-align:center\">1. vendor_id histogram, 2. store and fwd flag histogram</td>\n",
    "<td style=\"text-align:center\">Matplotlib is oldest and most widely used python visualization package, its a decade old but still its the first name come to our mind when it comes to plotting. Many libraries are built on top of it, and uses its functions in the backend. Its style is very simple and that's the reason plotting is fast in this. It is used to create axis and design the layout for plotting using other libraries like seaborn.</td>\n",
    "</tr>\n",
    "<tr>\n",
    "<td style=\"text-align:center\">2</td>\n",
    "<td style=\"text-align:center\"><strong>Seaborn</strong></td>\n",
    "<td style=\"text-align:center\">1.Violin plot (passenger count vs trip duration), 2. Boxplots( Weekday vs trip duration, 3. tsplot (hours, weekday vs avg trip duration), 4. distplots of lat-long, and trip_duration</td>\n",
    "<td style=\"text-align:center\">Seaborn is my favorite plotting library (Not at all a fan of house greyjoy though :P) Plots from this package are soothing to eyes. Its build as a wrapper on matplotlib and many matplotlib's functions are also work with it.colors are amazing in this package's plots</td>\n",
    "</tr>\n",
    "<tr>\n",
    "<td style=\"text-align:center\">3</td>\n",
    "<td style=\"text-align:center\"><strong>Pandas</strong></td>\n",
    "<td style=\"text-align:center\">1. Parallel coordinates (for cluster characteristics)</td>\n",
    "<td style=\"text-align:center\">Pandas also offer many plotting functions and it's also a package built on matplotlib, so you need to know matplotlib to tweak the defaults of pandas. It offers Alluvial plots (which are nowhere near what R offers as alluvial plots) which are used in this notebook to show cluster characteristics.</td>\n",
    "</tr>\n",
    "<tr>\n",
    "<td style=\"text-align:center\">4</td>\n",
    "<td style=\"text-align:center\"><strong>Bokeh</strong></td>\n",
    "<td style=\"text-align:center\">1. Time series plot (day of the year vs avg trip duration)</td>\n",
    "<td style=\"text-align:center\">Bokeh is one great package which offers interactive plots, you can use bokeh with other libraries like seaborn, data-shader or holoviews, but bokeh its offers various different kind of plots. zoom, axis, and interactive legends makes bokeh different than others</td>\n",
    "<td style=\"text-align:center\"><strong>Interactive</strong></td>\n",
    "</tr>\n",
    "<tr>\n",
    "<td style=\"text-align:center\">5</td>\n",
    "<td style=\"text-align:center\"><strong>Folium</strong></td>\n",
    "<td style=\"text-align:center\">1.pickup locations in Manhattan, 2. cluster's location in the USA, 3. clusters location in Manhattan</td>\n",
    "<td style=\"text-align:center\">This package offers geographical-maps and that too are interactive in nature. This package offers a different kind of terrains for maps- stemmer terrain, open street maps to name a few. you can place bubble at the locations, shift the zoom, and scroll the plot left-right-up-down and add interactions, for example - cluster plots shown in this notebook offers information about clusters like number of vehicles going out, most frequently visited clusters etc. <em>kaggle started supporting this package during this competition only</em></td>\n",
    "<td style=\"text-align:center\"><strong>interactive</strong></td>\n",
    "</tr>\n",
    "<tr>\n",
    "<td style=\"text-align:center\">6</td>\n",
    "<td style=\"text-align:center\"><strong>Pygmaps</strong></td>\n",
    "<td style=\"text-align:center\">1. location visualizations 2. cluster visualizations</td>\n",
    "<td style=\"text-align:center\">Pygmaps is available as archive package and can't even be installed using pip install command, but this package was the predecessor of gamps package but offers few great interactions which even gmaps doesn't offer. for example, a scattering of a cluster can be plotting with this one better than with gmaps. This package was way underdeveloped and developed version of it is know as gmaps yet, it was able to generate beautiful vizs. plots made my this package are best viewed in browsers.</td>\n",
    "<td style=\"text-align:center\"><strong>interactive</strong></td>\n",
    "</tr>\n",
    "<tr>\n",
    "<td style=\"text-align:center\">7</td>\n",
    "<td style=\"text-align:center\"><strong>Plotly</strong></td>\n",
    "<td style=\"text-align:center\">1.bubble plot</td>\n",
    "<td style=\"text-align:center\">This is another great package which offers colorful visualizations, but some of these beautiful plots require to interact with plotly server so you need API key and it will call the API.</td>\n",
    "<td style=\"text-align:center\"><strong>interactive</strong></td>\n",
    "</tr>\n",
    "<tr>\n",
    "<td style=\"text-align:center\">8</td>\n",
    "<td style=\"text-align:center\"><strong>Gmaps</strong></td>\n",
    "<td style=\"text-align:center\"><em>To be updated</em></td>\n",
    "<td style=\"text-align:center\">gmaps provide great features like- route features, and we all are too used to gmaps, so feel like home.</td>\n",
    "<td style=\"text-align:center\"><strong>interactive</strong></td>\n",
    "</tr>\n",
    "<tr>\n",
    "<td style=\"text-align:center\">9</td>\n",
    "<td style=\"text-align:center\"><strong>Ggplot2</strong></td>\n",
    "<td style=\"text-align:center\">1. Weather plots of NYC for given period</td>\n",
    "<td style=\"text-align:center\">gglots are now available in python as well, and its kind of in developing state and documentation is less of this package which makes it a little difficult but at the same time it provides very beautiful plots, so there is a tradeoff ;)</td>\n",
    "<td style=\"text-align:center\"><strong>interactive</strong></td>\n",
    "</tr>\n",
    "<tr>\n",
    "<td style=\"text-align:center\">10</td>\n",
    "<td style=\"text-align:center\"><strong>Basemaps</strong></td>\n",
    "<td style=\"text-align:center\"><em>Will not be added in this kernel</em></td>\n",
    "<td style=\"text-align:center\">As long as you are not developing any maps related library, there are no benefits of using basemaps. They offer many options but using them is difficult, due to lots of arguments, different style, and less amount of documentation, and many lines of codes sometimes will be required to plot a map.</td>\n",
    "</tr>\n",
    "<tr>\n",
    "<td style=\"text-align:center\">11</td>\n",
    "<td style=\"text-align:center\"><strong>No package</strong></td>\n",
    "<td style=\"text-align:center\">1. heatmaps of NYC taxi traffic</td>\n",
    "<td style=\"text-align:center\">Instead of depending on data-shadder, I tried plotting the heatmap of traffic data with a row image, you will get to know the basics of image processing( reading image, color schemes that's all :P ) and how such basic exercise can result in traffic heatmap</td>\n",
    "</tr>\n",
    "<tr>\n",
    "<td style=\"text-align:center\">12</td>\n",
    "<td style=\"text-align:center\"><strong>Datashader</strong></td>\n",
    "<td style=\"text-align:center\">1.locations' heatmap</td>\n",
    "<td style=\"text-align:center\">If you really have a very large size of data that you want to plot on a map, data shader is one of the best easiest option available in marker. But I found that row image processing and generating plots using a scipy.mics or cv2 is considerably faster than using this package.</td>\n",
    "<td style=\"text-align:center\"><strong>interactive</strong></td>\n",
    "</tr>\n",
    "<tr>\n",
    "<td style=\"text-align:center\">13</td>\n",
    "<td style=\"text-align:center\"><strong>Holoviews</strong></td>\n",
    "<td style=\"text-align:center\">1. Pairplot for feature interaction.</td>\n",
    "<td style=\"text-align:center\">Holoviews is another alternative for making interactive visualizations, this package offers artistic plots. But you need really good RAM etc to use this package, else the notebook will get hang. plots exported to HTML works perfectly fine</td>\n",
    "<td style=\"text-align:center\"><strong>interactive</strong></td>\n",
    "</tr>\n",
    "</tbody>\n",
    "</table>"
   ]
  },
  {
   "cell_type": "markdown",
   "metadata": {},
   "source": [
    "### Loading required libraries"
   ]
  },
  {
   "cell_type": "code",
   "execution_count": 2,
   "metadata": {},
   "outputs": [],
   "source": [
    "import pandas as pd  #pandas for using dataframe and reading csv \n",
    "import numpy as np   #numpy for vector operations and basic maths \n",
    "import urllib        #for url stuff\n",
    "import re            #for processing regular expressions\n",
    "import datetime      #for datetime operations\n",
    "import calendar      #for calendar for datetime operations\n",
    "import time          #to get the system time\n",
    "import scipy         #for other dependancies\n",
    "from scipy.misc import imread, imresize, imsave  # for plots \n",
    "import seaborn as sns #for making plots\n",
    "import matplotlib.pyplot as plt # for plotting\n",
    "import plotly.plotly as py\n",
    "import plotly.graph_objs as go\n",
    "from matplotlib.pyplot import *\n",
    "from matplotlib import cm\n",
    "\n",
    "import warnings                 # Ignore  Warnings\n",
    "warnings.filterwarnings(\"ignore\")"
   ]
  },
  {
   "cell_type": "markdown",
   "metadata": {},
   "source": [
    "### <a id=\"2.2\">2.2 Exploring the data</a>"
   ]
  },
  {
   "cell_type": "markdown",
   "metadata": {},
   "source": [
    "### Importing Data Set and Exploring them using Pandas head function"
   ]
  },
  {
   "cell_type": "code",
   "execution_count": 3,
   "metadata": {},
   "outputs": [],
   "source": [
    "data = pd.read_csv('bank-additional-full.csv')"
   ]
  },
  {
   "cell_type": "code",
   "execution_count": 4,
   "metadata": {},
   "outputs": [
    {
     "data": {
      "text/html": [
       "<div>\n",
       "<style scoped>\n",
       "    .dataframe tbody tr th:only-of-type {\n",
       "        vertical-align: middle;\n",
       "    }\n",
       "\n",
       "    .dataframe tbody tr th {\n",
       "        vertical-align: top;\n",
       "    }\n",
       "\n",
       "    .dataframe thead th {\n",
       "        text-align: right;\n",
       "    }\n",
       "</style>\n",
       "<table border=\"1\" class=\"dataframe\">\n",
       "  <thead>\n",
       "    <tr style=\"text-align: right;\">\n",
       "      <th></th>\n",
       "      <th>age;\"job\";\"marital\";\"education\";\"default\";\"housing\";\"loan\";\"contact\";\"month\";\"day_of_week\";\"duration\";\"campaign\";\"pdays\";\"previous\";\"poutcome\";\"emp.var.rate\";\"cons.price.idx\";\"cons.conf.idx\";\"euribor3m\";\"nr.employed\";\"y\"</th>\n",
       "    </tr>\n",
       "  </thead>\n",
       "  <tbody>\n",
       "    <tr>\n",
       "      <th>0</th>\n",
       "      <td>56;\"housemaid\";\"married\";\"basic.4y\";\"no\";\"no\";...</td>\n",
       "    </tr>\n",
       "    <tr>\n",
       "      <th>1</th>\n",
       "      <td>57;\"services\";\"married\";\"high.school\";\"unknown...</td>\n",
       "    </tr>\n",
       "    <tr>\n",
       "      <th>2</th>\n",
       "      <td>37;\"services\";\"married\";\"high.school\";\"no\";\"ye...</td>\n",
       "    </tr>\n",
       "    <tr>\n",
       "      <th>3</th>\n",
       "      <td>40;\"admin.\";\"married\";\"basic.6y\";\"no\";\"no\";\"no...</td>\n",
       "    </tr>\n",
       "    <tr>\n",
       "      <th>4</th>\n",
       "      <td>56;\"services\";\"married\";\"high.school\";\"no\";\"no...</td>\n",
       "    </tr>\n",
       "  </tbody>\n",
       "</table>\n",
       "</div>"
      ],
      "text/plain": [
       "  age;\"job\";\"marital\";\"education\";\"default\";\"housing\";\"loan\";\"contact\";\"month\";\"day_of_week\";\"duration\";\"campaign\";\"pdays\";\"previous\";\"poutcome\";\"emp.var.rate\";\"cons.price.idx\";\"cons.conf.idx\";\"euribor3m\";\"nr.employed\";\"y\"\n",
       "0  56;\"housemaid\";\"married\";\"basic.4y\";\"no\";\"no\";...                                                                                                                                                                          \n",
       "1  57;\"services\";\"married\";\"high.school\";\"unknown...                                                                                                                                                                          \n",
       "2  37;\"services\";\"married\";\"high.school\";\"no\";\"ye...                                                                                                                                                                          \n",
       "3  40;\"admin.\";\"married\";\"basic.6y\";\"no\";\"no\";\"no...                                                                                                                                                                          \n",
       "4  56;\"services\";\"married\";\"high.school\";\"no\";\"no...                                                                                                                                                                          "
      ]
     },
     "execution_count": 4,
     "metadata": {},
     "output_type": "execute_result"
    }
   ],
   "source": [
    "data.head()"
   ]
  },
  {
   "cell_type": "code",
   "execution_count": null,
   "metadata": {},
   "outputs": [],
   "source": []
  }
 ],
 "metadata": {
  "kernelspec": {
   "display_name": "Python 3",
   "language": "python",
   "name": "python3"
  },
  "language_info": {
   "codemirror_mode": {
    "name": "ipython",
    "version": 3
   },
   "file_extension": ".py",
   "mimetype": "text/x-python",
   "name": "python",
   "nbconvert_exporter": "python",
   "pygments_lexer": "ipython3",
   "version": "3.7.3"
  }
 },
 "nbformat": 4,
 "nbformat_minor": 2
}
