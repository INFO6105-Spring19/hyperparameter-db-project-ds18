{
 "cells": [
  {
   "cell_type": "markdown",
   "metadata": {},
   "source": [
    "# AI Skunkworks Project - Hyperparameters Database"
   ]
  },
  {
   "cell_type": "markdown",
   "metadata": {},
   "source": [
    "# Contents\n",
    "\n",
    "- <a href='#1'>1. Project Description</a>\n",
    "- <a href='#2'>2. Data Description</a>\n",
    "- <a href='#3'>3. Exploratory Data Analysis</a>\n",
    "    - <a href='#3.1'>3.1 Auditing and cleansing the loaded data</a>\n",
    "    - <a href='#3.2'>3.2 Exploring the data</a>\n",
    "    - <a href='#3.3'>3.3 Data visualization</a>\n",
    "- <a href='#4'>4. </a>\n",
    "- <a href='#5'>5. </a>\n",
    "- <a href='#6'>6. Conclusion</a>\n",
    "- <a href='#5'>5. Contributions statement</a>\n",
    "- <a href='#6'>6. Citations</a>\n",
    "- <a href='#7'>7. License</a>"
   ]
  },
  {
   "cell_type": "markdown",
   "metadata": {},
   "source": [
    "# <a id='1'>1. Project Description</a>"
   ]
  },
  {
   "cell_type": "markdown",
   "metadata": {},
   "source": [
    "#### Goals and Objectives :\n",
    "<ul>\n",
    "<li>In statistics, hyperparameter is a parameter from a prior distribution; it captures the prior belief before data is observed.</li>\n",
    "<li>In any machine learning algorithms, these parameters need to be initialized before training amodel.</li>\n",
    "<li>Hyperparameters are important because they directly control the behaviour of the training algorithm and have a significant impact on the performance of the model is being trained.</li>\n",
    "<li>Our aim is to find proper hyperparameter with proper tuning for our dataset which would help the database team in modelling the database schema in an efficient way. We would create H2O models for this dataset for getting proper hyperparameters.</li>\n",
    "</ul>\n",
    "\n",
    "#### Background Research:\n",
    "Hyperparameters are variables that we need to set before applying a learning algorithm to a dataset. In machine learning scenarios, a significant part of model performance depends on the hyperparameter values selected. The goal of hyperparameter exploration is to search across various hyperparameter configurations to find the one that results in the optimal performance.  The challenge with hyperparameters is that there are no magic number that works everywhere. The best numbers depend on each task and each dataset. The hyperparameter database to be developed as a part of this project is an open resource with algorithms, tools, and data that allows users to visualize and understand how to choose hyperparameters that maximize the predictive power of their models. Phase I of the project involves selecting a unique dataset containing predicted target variables, hyperparameters, meta-data etc. by running different models (with varying hyperparameters) on it using H2O.<br>\n",
    "\n",
    "**Hyperparameters can be divided into 2 categories:** <br>\n",
    "1. Optimizer hyperparameters\n",
    "<ul>\n",
    "<li>They are related more to the optimization and training process</li>\n",
    "<li>If our learning rate is too small than optimal value then it would take a much longer time (hundreds or thousands) of epochs to reach the ideal state</li>\n",
    "<li>If our learning rate is too large than optimal value then it would overshoot the ideal state and our algorithm might not converge</li>\n",
    "</ul><br>\n",
    "\n",
    "2. Model Specific hyperparameters\n",
    "<ul>\n",
    "<li>They are more involved in the structure of the model</li>\n",
    "</ul>\n",
    "\n",
    "Currently, the hyperparameter database analyzes the effect of hyperparameters on the following algorithms: Distributed Random Forest (DRF), Generalized Linear Model (GLM), Gradient Boosting Machine (GBM). Naïve Bayes Classifier, Stacked Ensembles, XGBoost and Deep Learning Models (Neural Networks).\n",
    "\n",
    "\n",
    "**Algorithms and code sources:**\n",
    "<ul>\n",
    "<li>Deciding the algorithms based on the type of dataset(Classification or Regression algorithm)</li>\n",
    "<li>We would be using H20 python module.</li>\n",
    "<li>This Python module provides access to the H2O JVM, as well as its extensions, objects, machine-learning algorithms, and modeling support capabilities, such as basic munging and feature generation. </li>\n",
    "</ul>\n",
    "    \n",
    "**How and what the team will work on?:**\n",
    "<ul>\n",
    "<li>Find a dataset</li>\n",
    "<li>Figure out the algorithms that will work for that dataset. The type of algorithm like classification or Regression algorithm.</li>\n",
    "<li>Perform H2O in python for generating various models at various runtime.</li>\n",
    "<li>Suppose hypothetically if five algorithms are used then the best models for those algorithms will be selected to get the hyperparameter.</li>\n",
    "<li>All the models will be stored for reference irrespective of it being best or the worst model.</li>\n",
    "<li>Further communicate with the database team to give them the insight of the data and the conclusions drawn from the H2O analysis. This would help them in designing the ER Diagrams and designing the data models and schema.</li>\n",
    "<li>We will try to follow this process on as many datasets as possible within the given time constraint.</li>\n",
    "</ul>\n",
    "    \n",
    "**Challenges:**\n",
    "<ul>\n",
    "<li>Implementing H2O analysis.</li>\n",
    "<li>Getting optimized hyperparameters.</li>\n",
    "<li>The model might overfit for the training dataset which will not work well on the test dataset.</li>\n",
    "<li>Other challenge would be to tune model and feature parameters well.</li>\n",
    "</ul>"
   ]
  },
  {
   "cell_type": "markdown",
   "metadata": {},
   "source": [
    "# <a id='2'>2. Data Description</a>"
   ]
  },
  {
   "cell_type": "markdown",
   "metadata": {},
   "source": [
    "### Bank Marketing\n",
    "\n",
    "**Abstract:** The data is related with direct marketing campaigns (phone calls) of a Portuguese banking institution. The classification goal is to predict if the client will subscribe a term deposit (variable y).\n",
    "\n",
    "**Data Set Information:** The data is related with direct marketing campaigns of a Portuguese banking institution. The marketing campaigns were based on phone calls. Often, more than one contact to the same client was required, in order to access if the product (bank term deposit) would be ('yes') or not ('no') subscribed.\n",
    "\n",
    "### Attribute Information:\n",
    "\n",
    "**Bank client data:**\n",
    "<ul>\n",
    "<li>Age (numeric)</li>\n",
    "\n",
    "<li>Job : type of job (categorical: 'admin.', 'blue-collar', 'entrepreneur', 'housemaid', 'management', 'retired', 'self-employed', 'services', 'student', 'technician', 'unemployed', 'unknown')</li>\n",
    "<li>Marital : marital status (categorical: 'divorced', 'married', 'single', 'unknown' ; note: 'divorced' means divorced or widowed)\n",
    "Education (categorical: 'basic.4y', 'basic.6y', 'basic.9y', 'high.school', 'illiterate', 'professional.course', 'university.degree', 'unknown')</li>\n",
    "<li>Default: has credit in default? (categorical: 'no', 'yes', 'unknown')</li>\n",
    "<li>Housing: has housing loan? (categorical: 'no', 'yes', 'unknown')</li>\n",
    "<li>Loan: has personal loan? (categorical: 'no', 'yes', 'unknown')</li>\n",
    "</ul>\n",
    "\n",
    "**Related with the last contact of the current campaign:**\n",
    "<ul>\n",
    "<li>Contact: contact communication type (categorical: 'cellular','telephone')</li>\n",
    "<li>Month: last contact month of year (categorical: 'jan', 'feb', 'mar', ..., 'nov', 'dec')</li>\n",
    "<li>Day_of_week: last contact day of the week (categorical: 'mon','tue','wed','thu','fri')</li>\n",
    "<li>Duration: last contact duration, in seconds (numeric). Important note: this attribute highly affects the output target (e.g., if duration=0 then y='no'). Yet, the duration is not known before a call is performed. Also, after the end of the call y is obviously known. Thus, this input should only be included for benchmark purposes and should be discarded if the intention is to have a realistic predictive model.</li>\n",
    "</ul>\n",
    "\n",
    "**Other attributes:**\n",
    "<ul>\n",
    "<li>Campaign: number of contacts performed during this campaign and for this client (numeric, includes last contact)</li>\n",
    "<li>Pdays: number of days that passed by after the client was last contacted from a previous campaign (numeric; 999 means client was not previously contacted)</li>\n",
    "<li>Previous: number of contacts performed before this campaign and for this client (numeric)</li>\n",
    "<li>Poutcome: outcome of the previous marketing campaign (categorical: 'failure','nonexistent','success')</li>\n",
    "<li>Social and economic context attributes\n",
    "Emp.var.rate: employment variation rate - quarterly indicator (numeric)</li>\n",
    "<li>Cons.price.idx: consumer price index - monthly indicator (numeric)</li>\n",
    "<li>Cons.conf.idx: consumer confidence index - monthly indicator (numeric)</li>\n",
    "<li>Euribor3m: euribor 3 month rate - daily indicator (numeric)</li>\n",
    "<li>Nr.employed: number of employees - quarterly indicator (numeric)</li>\n",
    "</ul>\n",
    "\n",
    "**Output variable (desired target):**\n",
    "<ul>\n",
    "<li>y - has the client subscribed a term deposit? (binary: 'yes', 'no')</li>\n",
    "</ul>\n",
    "\n",
    "### Source:\n",
    "<ul>\n",
    "<li>Dataset from : http://archive.ics.uci.edu/ml/datasets/Bank+Marketing#</li>\n",
    "    </ul>"
   ]
  },
  {
   "cell_type": "markdown",
   "metadata": {},
   "source": [
    "# <a id='3'>3. Exploratory Data Analysis</a>"
   ]
  },
  {
   "cell_type": "markdown",
   "metadata": {},
   "source": [
    "### <a id=\"3.1\">3.1 Auditing and cleansing the loaded data</a>\n",
    "In this task, we are inspecting and auditing the data to identify the data problems, and then fix the problems. Different generic and major data problems could be found in the data might include:\n",
    "* Lexical errors, e.g., typos and spelling mistakes\n",
    "* Irregularities, e.g., abnormal data values and data formats\n",
    "* Violations of the Integrity constraint.\n",
    "* Outliers\n",
    "* Duplications\n",
    "* Missing values\n",
    "* Inconsistency, e.g., inhomogeneity in values and types in representing the same data"
   ]
  },
  {
   "cell_type": "markdown",
   "metadata": {},
   "source": [
    "### The following libraries are used throughout this notebook for purpose of data visualization and much more"
   ]
  },
  {
   "cell_type": "markdown",
   "metadata": {},
   "source": [
    "\n",
    "<table>\n",
    "<thead><tr>\n",
    "<th style=\"text-align:center\">Serial No.</th>\n",
    "<th style=\"text-align:center\">Package</th>\n",
    "<th style=\"text-align:center\">Plots used in this kernel</th>\n",
    "<th style=\"text-align:center\">Remark</th>\n",
    "<th style=\"text-align:center\">Nature of plots</th>\n",
    "</tr>\n",
    "</thead>\n",
    "<tbody>\n",
    "<tr>\n",
    "<td style=\"text-align:center\">1</td>\n",
    "<td style=\"text-align:center\"><strong>Matplotlib</strong></td>\n",
    "<td style=\"text-align:center\">1. vendor_id histogram, 2. store and fwd flag histogram</td>\n",
    "<td style=\"text-align:center\">Matplotlib is oldest and most widely used python visualization package, its a decade old but still its the first name come to our mind when it comes to plotting. Many libraries are built on top of it, and uses its functions in the backend. Its style is very simple and that's the reason plotting is fast in this. It is used to create axis and design the layout for plotting using other libraries like seaborn.</td>\n",
    "</tr>\n",
    "<tr>\n",
    "<td style=\"text-align:center\">2</td>\n",
    "<td style=\"text-align:center\"><strong>Seaborn</strong></td>\n",
    "<td style=\"text-align:center\">1.Violin plot (passenger count vs trip duration), 2. Boxplots( Weekday vs trip duration, 3. tsplot (hours, weekday vs avg trip duration), 4. distplots of lat-long, and trip_duration</td>\n",
    "<td style=\"text-align:center\">Seaborn is my favorite plotting library (Not at all a fan of house greyjoy though :P) Plots from this package are soothing to eyes. Its build as a wrapper on matplotlib and many matplotlib's functions are also work with it.colors are amazing in this package's plots</td>\n",
    "</tr>\n",
    "<tr>\n",
    "<td style=\"text-align:center\">3</td>\n",
    "<td style=\"text-align:center\"><strong>Pandas</strong></td>\n",
    "<td style=\"text-align:center\">1. Parallel coordinates (for cluster characteristics)</td>\n",
    "<td style=\"text-align:center\">Pandas also offer many plotting functions and it's also a package built on matplotlib, so you need to know matplotlib to tweak the defaults of pandas. It offers Alluvial plots (which are nowhere near what R offers as alluvial plots) which are used in this notebook to show cluster characteristics.</td>\n",
    "</tr>\n",
    "<tr>\n",
    "<td style=\"text-align:center\">4</td>\n",
    "<td style=\"text-align:center\"><strong>Bokeh</strong></td>\n",
    "<td style=\"text-align:center\">1. Time series plot (day of the year vs avg trip duration)</td>\n",
    "<td style=\"text-align:center\">Bokeh is one great package which offers interactive plots, you can use bokeh with other libraries like seaborn, data-shader or holoviews, but bokeh its offers various different kind of plots. zoom, axis, and interactive legends makes bokeh different than others</td>\n",
    "<td style=\"text-align:center\"><strong>Interactive</strong></td>\n",
    "</tr>\n",
    "<tr>\n",
    "<td style=\"text-align:center\">5</td>\n",
    "<td style=\"text-align:center\"><strong>Folium</strong></td>\n",
    "<td style=\"text-align:center\">1.pickup locations in Manhattan, 2. cluster's location in the USA, 3. clusters location in Manhattan</td>\n",
    "<td style=\"text-align:center\">This package offers geographical-maps and that too are interactive in nature. This package offers a different kind of terrains for maps- stemmer terrain, open street maps to name a few. you can place bubble at the locations, shift the zoom, and scroll the plot left-right-up-down and add interactions, for example - cluster plots shown in this notebook offers information about clusters like number of vehicles going out, most frequently visited clusters etc. <em>kaggle started supporting this package during this competition only</em></td>\n",
    "<td style=\"text-align:center\"><strong>interactive</strong></td>\n",
    "</tr>\n",
    "<tr>\n",
    "<td style=\"text-align:center\">6</td>\n",
    "<td style=\"text-align:center\"><strong>Pygmaps</strong></td>\n",
    "<td style=\"text-align:center\">1. location visualizations 2. cluster visualizations</td>\n",
    "<td style=\"text-align:center\">Pygmaps is available as archive package and can't even be installed using pip install command, but this package was the predecessor of gamps package but offers few great interactions which even gmaps doesn't offer. for example, a scattering of a cluster can be plotting with this one better than with gmaps. This package was way underdeveloped and developed version of it is know as gmaps yet, it was able to generate beautiful vizs. plots made my this package are best viewed in browsers.</td>\n",
    "<td style=\"text-align:center\"><strong>interactive</strong></td>\n",
    "</tr>\n",
    "<tr>\n",
    "<td style=\"text-align:center\">7</td>\n",
    "<td style=\"text-align:center\"><strong>Plotly</strong></td>\n",
    "<td style=\"text-align:center\">1.bubble plot</td>\n",
    "<td style=\"text-align:center\">This is another great package which offers colorful visualizations, but some of these beautiful plots require to interact with plotly server so you need API key and it will call the API.</td>\n",
    "<td style=\"text-align:center\"><strong>interactive</strong></td>\n",
    "</tr>\n",
    "<tr>\n",
    "<td style=\"text-align:center\">8</td>\n",
    "<td style=\"text-align:center\"><strong>Gmaps</strong></td>\n",
    "<td style=\"text-align:center\"><em>To be updated</em></td>\n",
    "<td style=\"text-align:center\">gmaps provide great features like- route features, and we all are too used to gmaps, so feel like home.</td>\n",
    "<td style=\"text-align:center\"><strong>interactive</strong></td>\n",
    "</tr>\n",
    "<tr>\n",
    "<td style=\"text-align:center\">9</td>\n",
    "<td style=\"text-align:center\"><strong>Ggplot2</strong></td>\n",
    "<td style=\"text-align:center\">1. Weather plots of NYC for given period</td>\n",
    "<td style=\"text-align:center\">gglots are now available in python as well, and its kind of in developing state and documentation is less of this package which makes it a little difficult but at the same time it provides very beautiful plots, so there is a tradeoff ;)</td>\n",
    "<td style=\"text-align:center\"><strong>interactive</strong></td>\n",
    "</tr>\n",
    "<tr>\n",
    "<td style=\"text-align:center\">10</td>\n",
    "<td style=\"text-align:center\"><strong>Basemaps</strong></td>\n",
    "<td style=\"text-align:center\"><em>Will not be added in this kernel</em></td>\n",
    "<td style=\"text-align:center\">As long as you are not developing any maps related library, there are no benefits of using basemaps. They offer many options but using them is difficult, due to lots of arguments, different style, and less amount of documentation, and many lines of codes sometimes will be required to plot a map.</td>\n",
    "</tr>\n",
    "<tr>\n",
    "<td style=\"text-align:center\">11</td>\n",
    "<td style=\"text-align:center\"><strong>No package</strong></td>\n",
    "<td style=\"text-align:center\">1. heatmaps of NYC taxi traffic</td>\n",
    "<td style=\"text-align:center\">Instead of depending on data-shadder, I tried plotting the heatmap of traffic data with a row image, you will get to know the basics of image processing( reading image, color schemes that's all :P ) and how such basic exercise can result in traffic heatmap</td>\n",
    "</tr>\n",
    "<tr>\n",
    "<td style=\"text-align:center\">12</td>\n",
    "<td style=\"text-align:center\"><strong>Datashader</strong></td>\n",
    "<td style=\"text-align:center\">1.locations' heatmap</td>\n",
    "<td style=\"text-align:center\">If you really have a very large size of data that you want to plot on a map, data shader is one of the best easiest option available in marker. But I found that row image processing and generating plots using a scipy.mics or cv2 is considerably faster than using this package.</td>\n",
    "<td style=\"text-align:center\"><strong>interactive</strong></td>\n",
    "</tr>\n",
    "<tr>\n",
    "<td style=\"text-align:center\">13</td>\n",
    "<td style=\"text-align:center\"><strong>Holoviews</strong></td>\n",
    "<td style=\"text-align:center\">1. Pairplot for feature interaction.</td>\n",
    "<td style=\"text-align:center\">Holoviews is another alternative for making interactive visualizations, this package offers artistic plots. But you need really good RAM etc to use this package, else the notebook will get hang. plots exported to HTML works perfectly fine</td>\n",
    "<td style=\"text-align:center\"><strong>interactive</strong></td>\n",
    "</tr>\n",
    "</tbody>\n",
    "</table>"
   ]
  },
  {
   "cell_type": "markdown",
   "metadata": {},
   "source": [
    "### Loading required libraries"
   ]
  },
  {
   "cell_type": "code",
   "execution_count": 35,
   "metadata": {},
   "outputs": [],
   "source": [
    "import pandas as pd  #pandas for using dataframe and reading csv \n",
    "import numpy as np   #numpy for vector operations and basic maths \n",
    "import urllib        #for url stuff\n",
    "import re            #for processing regular expressions\n",
    "import datetime      #for datetime operations\n",
    "import calendar      #for calendar for datetime operations\n",
    "import time          #to get the system time\n",
    "import scipy         #for other dependancies\n",
    "from scipy.misc import imread, imresize, imsave  # for plots \n",
    "import seaborn as sns #for making plots\n",
    "import matplotlib.pyplot as plt # for plotting\n",
    "import plotly.plotly as py\n",
    "import plotly.graph_objs as go\n",
    "from matplotlib.pyplot import *\n",
    "from matplotlib import cm\n",
    "import h2o\n",
    "from h2o.automl import H2OAutoML\n",
    "import random, os, sys\n",
    "from datetime import datetime\n",
    "import logging\n",
    "import csv\n",
    "import optparse\n",
    "import time\n",
    "import json\n",
    "from distutils.util import strtobool\n",
    "import psutil\n",
    "import warnings                 # Ignore  Warnings\n",
    "warnings.filterwarnings(\"ignore\")"
   ]
  },
  {
   "cell_type": "markdown",
   "metadata": {},
   "source": [
    "### <a id=\"3.2\">3.2 Exploring the data</a>"
   ]
  },
  {
   "cell_type": "markdown",
   "metadata": {},
   "source": [
    "### Importing Data Set and Exploring them using Pandas head function"
   ]
  },
  {
   "cell_type": "code",
   "execution_count": 2,
   "metadata": {},
   "outputs": [
    {
     "data": {
      "text/html": [
       "<div>\n",
       "<style scoped>\n",
       "    .dataframe tbody tr th:only-of-type {\n",
       "        vertical-align: middle;\n",
       "    }\n",
       "\n",
       "    .dataframe tbody tr th {\n",
       "        vertical-align: top;\n",
       "    }\n",
       "\n",
       "    .dataframe thead th {\n",
       "        text-align: right;\n",
       "    }\n",
       "</style>\n",
       "<table border=\"1\" class=\"dataframe\">\n",
       "  <thead>\n",
       "    <tr style=\"text-align: right;\">\n",
       "      <th></th>\n",
       "      <th>age</th>\n",
       "      <th>job</th>\n",
       "      <th>marital</th>\n",
       "      <th>education</th>\n",
       "      <th>default</th>\n",
       "      <th>housing</th>\n",
       "      <th>loan</th>\n",
       "      <th>contact</th>\n",
       "      <th>month</th>\n",
       "      <th>day_of_week</th>\n",
       "      <th>...</th>\n",
       "      <th>campaign</th>\n",
       "      <th>pdays</th>\n",
       "      <th>previous</th>\n",
       "      <th>poutcome</th>\n",
       "      <th>emp.var.rate</th>\n",
       "      <th>cons.price.idx</th>\n",
       "      <th>cons.conf.idx</th>\n",
       "      <th>euribor3m</th>\n",
       "      <th>nr.employed</th>\n",
       "      <th>y</th>\n",
       "    </tr>\n",
       "  </thead>\n",
       "  <tbody>\n",
       "    <tr>\n",
       "      <th>0</th>\n",
       "      <td>56</td>\n",
       "      <td>housemaid</td>\n",
       "      <td>married</td>\n",
       "      <td>basic.4y</td>\n",
       "      <td>no</td>\n",
       "      <td>no</td>\n",
       "      <td>no</td>\n",
       "      <td>telephone</td>\n",
       "      <td>may</td>\n",
       "      <td>mon</td>\n",
       "      <td>...</td>\n",
       "      <td>1</td>\n",
       "      <td>999</td>\n",
       "      <td>0</td>\n",
       "      <td>nonexistent</td>\n",
       "      <td>1.1</td>\n",
       "      <td>93.994</td>\n",
       "      <td>-36.4</td>\n",
       "      <td>4.857</td>\n",
       "      <td>5191.0</td>\n",
       "      <td>no</td>\n",
       "    </tr>\n",
       "    <tr>\n",
       "      <th>1</th>\n",
       "      <td>57</td>\n",
       "      <td>services</td>\n",
       "      <td>married</td>\n",
       "      <td>high.school</td>\n",
       "      <td>unknown</td>\n",
       "      <td>no</td>\n",
       "      <td>no</td>\n",
       "      <td>telephone</td>\n",
       "      <td>may</td>\n",
       "      <td>mon</td>\n",
       "      <td>...</td>\n",
       "      <td>1</td>\n",
       "      <td>999</td>\n",
       "      <td>0</td>\n",
       "      <td>nonexistent</td>\n",
       "      <td>1.1</td>\n",
       "      <td>93.994</td>\n",
       "      <td>-36.4</td>\n",
       "      <td>4.857</td>\n",
       "      <td>5191.0</td>\n",
       "      <td>no</td>\n",
       "    </tr>\n",
       "    <tr>\n",
       "      <th>2</th>\n",
       "      <td>37</td>\n",
       "      <td>services</td>\n",
       "      <td>married</td>\n",
       "      <td>high.school</td>\n",
       "      <td>no</td>\n",
       "      <td>yes</td>\n",
       "      <td>no</td>\n",
       "      <td>telephone</td>\n",
       "      <td>may</td>\n",
       "      <td>mon</td>\n",
       "      <td>...</td>\n",
       "      <td>1</td>\n",
       "      <td>999</td>\n",
       "      <td>0</td>\n",
       "      <td>nonexistent</td>\n",
       "      <td>1.1</td>\n",
       "      <td>93.994</td>\n",
       "      <td>-36.4</td>\n",
       "      <td>4.857</td>\n",
       "      <td>5191.0</td>\n",
       "      <td>no</td>\n",
       "    </tr>\n",
       "    <tr>\n",
       "      <th>3</th>\n",
       "      <td>40</td>\n",
       "      <td>admin.</td>\n",
       "      <td>married</td>\n",
       "      <td>basic.6y</td>\n",
       "      <td>no</td>\n",
       "      <td>no</td>\n",
       "      <td>no</td>\n",
       "      <td>telephone</td>\n",
       "      <td>may</td>\n",
       "      <td>mon</td>\n",
       "      <td>...</td>\n",
       "      <td>1</td>\n",
       "      <td>999</td>\n",
       "      <td>0</td>\n",
       "      <td>nonexistent</td>\n",
       "      <td>1.1</td>\n",
       "      <td>93.994</td>\n",
       "      <td>-36.4</td>\n",
       "      <td>4.857</td>\n",
       "      <td>5191.0</td>\n",
       "      <td>no</td>\n",
       "    </tr>\n",
       "    <tr>\n",
       "      <th>4</th>\n",
       "      <td>56</td>\n",
       "      <td>services</td>\n",
       "      <td>married</td>\n",
       "      <td>high.school</td>\n",
       "      <td>no</td>\n",
       "      <td>no</td>\n",
       "      <td>yes</td>\n",
       "      <td>telephone</td>\n",
       "      <td>may</td>\n",
       "      <td>mon</td>\n",
       "      <td>...</td>\n",
       "      <td>1</td>\n",
       "      <td>999</td>\n",
       "      <td>0</td>\n",
       "      <td>nonexistent</td>\n",
       "      <td>1.1</td>\n",
       "      <td>93.994</td>\n",
       "      <td>-36.4</td>\n",
       "      <td>4.857</td>\n",
       "      <td>5191.0</td>\n",
       "      <td>no</td>\n",
       "    </tr>\n",
       "  </tbody>\n",
       "</table>\n",
       "<p>5 rows × 21 columns</p>\n",
       "</div>"
      ],
      "text/plain": [
       "   age        job  marital    education  default housing loan    contact  \\\n",
       "0   56  housemaid  married     basic.4y       no      no   no  telephone   \n",
       "1   57   services  married  high.school  unknown      no   no  telephone   \n",
       "2   37   services  married  high.school       no     yes   no  telephone   \n",
       "3   40     admin.  married     basic.6y       no      no   no  telephone   \n",
       "4   56   services  married  high.school       no      no  yes  telephone   \n",
       "\n",
       "  month day_of_week  ...  campaign  pdays  previous     poutcome emp.var.rate  \\\n",
       "0   may         mon  ...         1    999         0  nonexistent          1.1   \n",
       "1   may         mon  ...         1    999         0  nonexistent          1.1   \n",
       "2   may         mon  ...         1    999         0  nonexistent          1.1   \n",
       "3   may         mon  ...         1    999         0  nonexistent          1.1   \n",
       "4   may         mon  ...         1    999         0  nonexistent          1.1   \n",
       "\n",
       "   cons.price.idx  cons.conf.idx  euribor3m  nr.employed   y  \n",
       "0          93.994          -36.4      4.857       5191.0  no  \n",
       "1          93.994          -36.4      4.857       5191.0  no  \n",
       "2          93.994          -36.4      4.857       5191.0  no  \n",
       "3          93.994          -36.4      4.857       5191.0  no  \n",
       "4          93.994          -36.4      4.857       5191.0  no  \n",
       "\n",
       "[5 rows x 21 columns]"
      ]
     },
     "execution_count": 2,
     "metadata": {},
     "output_type": "execute_result"
    }
   ],
   "source": [
    "bank = pd.read_csv('bank-additional-full.csv', sep = ';')\n",
    "#Converting dependent variable categorical to dummy\n",
    "#y = pd.get_dummies(bank['y'], columns = ['y'], prefix = ['y'], drop_first = True)\n",
    "bank.head()"
   ]
  },
  {
   "cell_type": "code",
   "execution_count": 3,
   "metadata": {},
   "outputs": [
    {
     "name": "stdout",
     "output_type": "stream",
     "text": [
      "<class 'pandas.core.frame.DataFrame'>\n",
      "RangeIndex: 41188 entries, 0 to 41187\n",
      "Data columns (total 21 columns):\n",
      "age               41188 non-null int64\n",
      "job               41188 non-null object\n",
      "marital           41188 non-null object\n",
      "education         41188 non-null object\n",
      "default           41188 non-null object\n",
      "housing           41188 non-null object\n",
      "loan              41188 non-null object\n",
      "contact           41188 non-null object\n",
      "month             41188 non-null object\n",
      "day_of_week       41188 non-null object\n",
      "duration          41188 non-null int64\n",
      "campaign          41188 non-null int64\n",
      "pdays             41188 non-null int64\n",
      "previous          41188 non-null int64\n",
      "poutcome          41188 non-null object\n",
      "emp.var.rate      41188 non-null float64\n",
      "cons.price.idx    41188 non-null float64\n",
      "cons.conf.idx     41188 non-null float64\n",
      "euribor3m         41188 non-null float64\n",
      "nr.employed       41188 non-null float64\n",
      "y                 41188 non-null object\n",
      "dtypes: float64(5), int64(5), object(11)\n",
      "memory usage: 6.6+ MB\n"
     ]
    },
    {
     "data": {
      "text/plain": [
       "age               False\n",
       "job               False\n",
       "marital           False\n",
       "education         False\n",
       "default           False\n",
       "housing           False\n",
       "loan              False\n",
       "contact           False\n",
       "month             False\n",
       "day_of_week       False\n",
       "duration          False\n",
       "campaign          False\n",
       "pdays             False\n",
       "previous          False\n",
       "poutcome          False\n",
       "emp.var.rate      False\n",
       "cons.price.idx    False\n",
       "cons.conf.idx     False\n",
       "euribor3m         False\n",
       "nr.employed       False\n",
       "y                 False\n",
       "dtype: bool"
      ]
     },
     "execution_count": 3,
     "metadata": {},
     "output_type": "execute_result"
    }
   ],
   "source": [
    "# take a look at the type, number of columns, entries, null values etc..\n",
    "bank.info()\n",
    "bank.isnull().any() # one way to search for null values"
   ]
  },
  {
   "cell_type": "code",
   "execution_count": 4,
   "metadata": {},
   "outputs": [
    {
     "data": {
      "text/plain": [
       "Index(['age', 'job', 'marital', 'education', 'default', 'housing', 'loan',\n",
       "       'contact', 'month', 'day_of_week', 'duration', 'campaign', 'pdays',\n",
       "       'previous', 'poutcome', 'emp.var.rate', 'cons.price.idx',\n",
       "       'cons.conf.idx', 'euribor3m', 'nr.employed', 'y'],\n",
       "      dtype='object')"
      ]
     },
     "execution_count": 4,
     "metadata": {},
     "output_type": "execute_result"
    }
   ],
   "source": [
    "bank.columns"
   ]
  },
  {
   "cell_type": "markdown",
   "metadata": {},
   "source": [
    "### 1. Bank client data Analysis and Categorical Treatment¶\n",
    "<ul>\n",
    "<li>Work with the atributes related to bank clients</li>\n",
    "<li>To make things more clear, i'm going to creat a new datasets that contains just this part of data</li>\n",
    "</ul>"
   ]
  },
  {
   "cell_type": "code",
   "execution_count": 5,
   "metadata": {},
   "outputs": [
    {
     "data": {
      "text/html": [
       "<div>\n",
       "<style scoped>\n",
       "    .dataframe tbody tr th:only-of-type {\n",
       "        vertical-align: middle;\n",
       "    }\n",
       "\n",
       "    .dataframe tbody tr th {\n",
       "        vertical-align: top;\n",
       "    }\n",
       "\n",
       "    .dataframe thead th {\n",
       "        text-align: right;\n",
       "    }\n",
       "</style>\n",
       "<table border=\"1\" class=\"dataframe\">\n",
       "  <thead>\n",
       "    <tr style=\"text-align: right;\">\n",
       "      <th></th>\n",
       "      <th>age</th>\n",
       "      <th>job</th>\n",
       "      <th>marital</th>\n",
       "      <th>education</th>\n",
       "      <th>default</th>\n",
       "      <th>housing</th>\n",
       "      <th>loan</th>\n",
       "    </tr>\n",
       "  </thead>\n",
       "  <tbody>\n",
       "    <tr>\n",
       "      <th>0</th>\n",
       "      <td>56</td>\n",
       "      <td>housemaid</td>\n",
       "      <td>married</td>\n",
       "      <td>basic.4y</td>\n",
       "      <td>no</td>\n",
       "      <td>no</td>\n",
       "      <td>no</td>\n",
       "    </tr>\n",
       "    <tr>\n",
       "      <th>1</th>\n",
       "      <td>57</td>\n",
       "      <td>services</td>\n",
       "      <td>married</td>\n",
       "      <td>high.school</td>\n",
       "      <td>unknown</td>\n",
       "      <td>no</td>\n",
       "      <td>no</td>\n",
       "    </tr>\n",
       "    <tr>\n",
       "      <th>2</th>\n",
       "      <td>37</td>\n",
       "      <td>services</td>\n",
       "      <td>married</td>\n",
       "      <td>high.school</td>\n",
       "      <td>no</td>\n",
       "      <td>yes</td>\n",
       "      <td>no</td>\n",
       "    </tr>\n",
       "    <tr>\n",
       "      <th>3</th>\n",
       "      <td>40</td>\n",
       "      <td>admin.</td>\n",
       "      <td>married</td>\n",
       "      <td>basic.6y</td>\n",
       "      <td>no</td>\n",
       "      <td>no</td>\n",
       "      <td>no</td>\n",
       "    </tr>\n",
       "    <tr>\n",
       "      <th>4</th>\n",
       "      <td>56</td>\n",
       "      <td>services</td>\n",
       "      <td>married</td>\n",
       "      <td>high.school</td>\n",
       "      <td>no</td>\n",
       "      <td>no</td>\n",
       "      <td>yes</td>\n",
       "    </tr>\n",
       "  </tbody>\n",
       "</table>\n",
       "</div>"
      ],
      "text/plain": [
       "   age        job  marital    education  default housing loan\n",
       "0   56  housemaid  married     basic.4y       no      no   no\n",
       "1   57   services  married  high.school  unknown      no   no\n",
       "2   37   services  married  high.school       no     yes   no\n",
       "3   40     admin.  married     basic.6y       no      no   no\n",
       "4   56   services  married  high.school       no      no  yes"
      ]
     },
     "execution_count": 5,
     "metadata": {},
     "output_type": "execute_result"
    }
   ],
   "source": [
    "bank_client = bank.iloc[: , 0:7]\n",
    "bank_client.head()"
   ]
  },
  {
   "cell_type": "markdown",
   "metadata": {},
   "source": [
    "**Knowing the categorical variables**"
   ]
  },
  {
   "cell_type": "code",
   "execution_count": 6,
   "metadata": {},
   "outputs": [
    {
     "name": "stdout",
     "output_type": "stream",
     "text": [
      "Jobs:\n",
      " ['housemaid' 'services' 'admin.' 'blue-collar' 'technician' 'retired'\n",
      " 'management' 'unemployed' 'self-employed' 'unknown' 'entrepreneur'\n",
      " 'student']\n"
     ]
    }
   ],
   "source": [
    "# knowing the categorical variables\n",
    "print('Jobs:\\n', bank_client['job'].unique())"
   ]
  },
  {
   "cell_type": "code",
   "execution_count": 7,
   "metadata": {},
   "outputs": [
    {
     "name": "stdout",
     "output_type": "stream",
     "text": [
      "Marital:\n",
      " ['married' 'single' 'divorced' 'unknown']\n"
     ]
    }
   ],
   "source": [
    "print('Marital:\\n', bank_client['marital'].unique())"
   ]
  },
  {
   "cell_type": "code",
   "execution_count": 8,
   "metadata": {},
   "outputs": [
    {
     "name": "stdout",
     "output_type": "stream",
     "text": [
      "Education:\n",
      " ['basic.4y' 'high.school' 'basic.6y' 'basic.9y' 'professional.course'\n",
      " 'unknown' 'university.degree' 'illiterate']\n"
     ]
    }
   ],
   "source": [
    "print('Education:\\n', bank_client['education'].unique())"
   ]
  },
  {
   "cell_type": "code",
   "execution_count": 9,
   "metadata": {},
   "outputs": [
    {
     "name": "stdout",
     "output_type": "stream",
     "text": [
      "Default:\n",
      " ['no' 'unknown' 'yes']\n",
      "Housing:\n",
      " ['no' 'yes' 'unknown']\n",
      "Loan:\n",
      " ['no' 'yes' 'unknown']\n"
     ]
    }
   ],
   "source": [
    "print('Default:\\n', bank_client['default'].unique())\n",
    "print('Housing:\\n', bank_client['housing'].unique())\n",
    "print('Loan:\\n', bank_client['loan'].unique())"
   ]
  },
  {
   "cell_type": "markdown",
   "metadata": {},
   "source": [
    "**Exploring Age**\n",
    "- Trying to find some insights crossing those variables\n"
   ]
  },
  {
   "cell_type": "code",
   "execution_count": 10,
   "metadata": {},
   "outputs": [
    {
     "name": "stdout",
     "output_type": "stream",
     "text": [
      "Min age:  98\n",
      "Max age:  17\n",
      "Null Values:  False\n"
     ]
    }
   ],
   "source": [
    "#Trying to find some strange values or null values\n",
    "print('Min age: ', bank_client['age'].max())\n",
    "print('Max age: ', bank_client['age'].min())\n",
    "print('Null Values: ', bank_client['age'].isnull().any())"
   ]
  },
  {
   "cell_type": "markdown",
   "metadata": {},
   "source": [
    "Plotting Seaborn plots"
   ]
  },
  {
   "cell_type": "code",
   "execution_count": 11,
   "metadata": {},
   "outputs": [
    {
     "data": {
      "image/png": "[encoded data removed]",
      "text/plain": [
       "<Figure size 1440x576 with 1 Axes>"
      ]
     },
     "metadata": {
      "needs_background": "light"
     },
     "output_type": "display_data"
    }
   ],
   "source": [
    "fig, ax = plt.subplots()\n",
    "fig.set_size_inches(20, 8)\n",
    "sns.countplot(x = 'age', data = bank_client)\n",
    "ax.set_xlabel('Age', fontsize=15)\n",
    "ax.set_ylabel('Count', fontsize=15)\n",
    "ax.set_title('Age Count Distribution', fontsize=15)\n",
    "sns.despine()"
   ]
  },
  {
   "cell_type": "code",
   "execution_count": 12,
   "metadata": {},
   "outputs": [
    {
     "data": {
      "image/png": "[encoded data removed]",
      "text/plain": [
       "<Figure size 936x360 with 2 Axes>"
      ]
     },
     "metadata": {
      "needs_background": "light"
     },
     "output_type": "display_data"
    }
   ],
   "source": [
    "fig, (ax1, ax2) = plt.subplots(nrows = 1, ncols = 2, figsize = (13, 5))\n",
    "sns.boxplot(x = 'age', data = bank_client, orient = 'v', ax = ax1)\n",
    "ax1.set_xlabel('People Age', fontsize=15)\n",
    "ax1.set_ylabel('Age', fontsize=15)\n",
    "ax1.set_title('Age Distribution', fontsize=15)\n",
    "ax1.tick_params(labelsize=15)\n",
    "\n",
    "sns.distplot(bank_client['age'], ax = ax2)\n",
    "sns.despine(ax = ax2)\n",
    "ax2.set_xlabel('Age', fontsize=15)\n",
    "ax2.set_ylabel('Occurence', fontsize=15)\n",
    "ax2.set_title('Age x Ocucurence', fontsize=15)\n",
    "ax2.tick_params(labelsize=15)\n",
    "\n",
    "plt.subplots_adjust(wspace=0.5)\n",
    "plt.tight_layout() "
   ]
  },
  {
   "cell_type": "code",
   "execution_count": 13,
   "metadata": {},
   "outputs": [
    {
     "name": "stdout",
     "output_type": "stream",
     "text": [
      "1º Quartile:  32.0\n",
      "2º Quartile:  38.0\n",
      "3º Quartile:  47.0\n",
      "4º Quartile:  98.0\n",
      "Ages above:  69.5 are outliers\n"
     ]
    }
   ],
   "source": [
    "# Quartiles\n",
    "print('1º Quartile: ', bank_client['age'].quantile(q = 0.25))\n",
    "print('2º Quartile: ', bank_client['age'].quantile(q = 0.50))\n",
    "print('3º Quartile: ', bank_client['age'].quantile(q = 0.75))\n",
    "print('4º Quartile: ', bank_client['age'].quantile(q = 1.00))\n",
    "#Calculate the outliers:\n",
    "  # Interquartile range, IQR = Q3 - Q1\n",
    "  # lower 1.5*IQR whisker = Q1 - 1.5 * IQR \n",
    "  # Upper 1.5*IQR whisker = Q3 + 1.5 * IQR\n",
    "    \n",
    "print('Ages above: ', bank_client['age'].quantile(q = 0.75) + \n",
    "                      1.5*(bank_client['age'].quantile(q = 0.75) - bank_client['age'].quantile(q = 0.25)), 'are outliers')"
   ]
  },
  {
   "cell_type": "code",
   "execution_count": 14,
   "metadata": {},
   "outputs": [
    {
     "name": "stdout",
     "output_type": "stream",
     "text": [
      "Numerber of outliers:  469\n",
      "Number of clients:  41188\n",
      "Outliers are: 1.14 %\n"
     ]
    }
   ],
   "source": [
    "print('Numerber of outliers: ', bank_client[bank_client['age'] > 69.6]['age'].count())\n",
    "print('Number of clients: ', len(bank_client))\n",
    "#Outliers in %\n",
    "print('Outliers are:', round(bank_client[bank_client['age'] > 69.6]['age'].count()*100/len(bank_client),2), '%')"
   ]
  },
  {
   "cell_type": "code",
   "execution_count": 15,
   "metadata": {},
   "outputs": [
    {
     "name": "stdout",
     "output_type": "stream",
     "text": [
      "MEAN: 40.0\n",
      "STD : 10.4\n",
      "CV  : 26.0 , High middle dispersion\n"
     ]
    }
   ],
   "source": [
    "# Calculating some values to evaluete this independent variable\n",
    "print('MEAN:', round(bank_client['age'].mean(), 1))\n",
    "# A low standard deviation indicates that the data points tend to be close to the mean or expected value\n",
    "# A high standard deviation indicates that the data points are scattered\n",
    "print('STD :', round(bank_client['age'].std(), 1))\n",
    "# I thing the best way to give a precisly insight abou dispersion is using the CV (coefficient variation) (STD/MEAN)*100\n",
    "#    cv < 15%, low dispersion\n",
    "#    cv > 30%, high dispersion\n",
    "print('CV  :',round(bank_client['age'].std()*100/bank_client['age'].mean(), 1), ', High middle dispersion')"
   ]
  },
  {
   "cell_type": "markdown",
   "metadata": {},
   "source": [
    "**Conclusion about AGE**\n",
    "\n",
    "In our opinion due to almost high dispersion and just looking at this this graph we cannot conclude if age have a high effect to our variable y, need to keep searching for some pattern. high middle dispersion means we have people with all ages and maybe all of them can subscript a term deposit, or not. The outliers was calculated, so my thinking is fit the model with and without them"
   ]
  },
  {
   "cell_type": "markdown",
   "metadata": {},
   "source": [
    "#### Exploring Jobs"
   ]
  },
  {
   "cell_type": "code",
   "execution_count": 16,
   "metadata": {},
   "outputs": [
    {
     "data": {
      "image/png": "[encoded data removed]",
      "text/plain": [
       "<Figure size 1440x576 with 1 Axes>"
      ]
     },
     "metadata": {
      "needs_background": "light"
     },
     "output_type": "display_data"
    }
   ],
   "source": [
    "# What kind of jobs clients this bank have, if you cross jobs with default, loan or housing, there is no relation\n",
    "fig, ax = plt.subplots()\n",
    "fig.set_size_inches(20, 8)\n",
    "sns.countplot(x = 'job', data = bank_client)\n",
    "ax.set_xlabel('Job', fontsize=15)\n",
    "ax.set_ylabel('Count', fontsize=15)\n",
    "ax.set_title('Age Count Distribution', fontsize=15)\n",
    "ax.tick_params(labelsize=15)\n",
    "sns.despine()"
   ]
  },
  {
   "cell_type": "markdown",
   "metadata": {},
   "source": [
    "#### Exploring Marital data"
   ]
  },
  {
   "cell_type": "code",
   "execution_count": 17,
   "metadata": {},
   "outputs": [
    {
     "data": {
      "image/png": "[encoded data removed]",
      "text/plain": [
       "<Figure size 720x360 with 1 Axes>"
      ]
     },
     "metadata": {
      "needs_background": "light"
     },
     "output_type": "display_data"
    }
   ],
   "source": [
    "# What kind of 'marital clients' this bank have, if you cross marital with default, loan or housing, there is no relation\n",
    "fig, ax = plt.subplots()\n",
    "fig.set_size_inches(10, 5)\n",
    "sns.countplot(x = 'marital', data = bank_client)\n",
    "ax.set_xlabel('Marital', fontsize=15)\n",
    "ax.set_ylabel('Count', fontsize=15)\n",
    "ax.set_title('Age Count Distribution', fontsize=15)\n",
    "ax.tick_params(labelsize=15)\n",
    "sns.despine()"
   ]
  },
  {
   "cell_type": "markdown",
   "metadata": {},
   "source": [
    "#### Exploring EDUCATION data"
   ]
  },
  {
   "cell_type": "code",
   "execution_count": 18,
   "metadata": {},
   "outputs": [
    {
     "data": {
      "image/png": "[encoded data removed]",
      "text/plain": [
       "<Figure size 1440x360 with 1 Axes>"
      ]
     },
     "metadata": {
      "needs_background": "light"
     },
     "output_type": "display_data"
    }
   ],
   "source": [
    "# What kind of 'education clients this bank have, if you cross education with default, loan or housing, there is no relation\n",
    "fig, ax = plt.subplots()\n",
    "fig.set_size_inches(20, 5)\n",
    "sns.countplot(x = 'education', data = bank_client)\n",
    "ax.set_xlabel('Education', fontsize=15)\n",
    "ax.set_ylabel('Count', fontsize=15)\n",
    "ax.set_title('Education Count Distribution', fontsize=15)\n",
    "ax.tick_params(labelsize=15)\n",
    "sns.despine()"
   ]
  },
  {
   "cell_type": "markdown",
   "metadata": {},
   "source": [
    "#### DEFAULT, HOUSING, LOAN Data"
   ]
  },
  {
   "cell_type": "code",
   "execution_count": 19,
   "metadata": {},
   "outputs": [
    {
     "data": {
      "image/png": "[encoded data removed]",
      "text/plain": [
       "<Figure size 1440x576 with 3 Axes>"
      ]
     },
     "metadata": {
      "needs_background": "light"
     },
     "output_type": "display_data"
    }
   ],
   "source": [
    "\n",
    "# Default, has credit in default ?\n",
    "fig, (ax1, ax2, ax3) = plt.subplots(nrows = 1, ncols = 3, figsize = (20,8))\n",
    "sns.countplot(x = 'default', data = bank_client, ax = ax1, order = ['no', 'unknown', 'yes'])\n",
    "ax1.set_title('Default', fontsize=15)\n",
    "ax1.set_xlabel('')\n",
    "ax1.set_ylabel('Count', fontsize=15)\n",
    "ax1.tick_params(labelsize=15)\n",
    "\n",
    "# Housing, has housing loan ?\n",
    "sns.countplot(x = 'housing', data = bank_client, ax = ax2, order = ['no', 'unknown', 'yes'])\n",
    "ax2.set_title('Housing', fontsize=15)\n",
    "ax2.set_xlabel('')\n",
    "ax2.set_ylabel('Count', fontsize=15)\n",
    "ax2.tick_params(labelsize=15)\n",
    "\n",
    "# Loan, has personal loan ?\n",
    "sns.countplot(x = 'loan', data = bank_client, ax = ax3, order = ['no', 'unknown', 'yes'])\n",
    "ax3.set_title('Loan', fontsize=15)\n",
    "ax3.set_xlabel('')\n",
    "ax3.set_ylabel('Count', fontsize=15)\n",
    "ax3.tick_params(labelsize=15)\n",
    "\n",
    "plt.subplots_adjust(wspace=0.25)"
   ]
  },
  {
   "cell_type": "code",
   "execution_count": 20,
   "metadata": {},
   "outputs": [
    {
     "name": "stdout",
     "output_type": "stream",
     "text": [
      "Default:\n",
      " No credit in default: 32588 \n",
      " Unknown credit in default: 8597 \n",
      " Yes to credit in default: 3\n"
     ]
    }
   ],
   "source": [
    "print('Default:\\n No credit in default:'     , bank_client[bank_client['default'] == 'no']     ['age'].count(),\n",
    "              '\\n Unknown credit in default:', bank_client[bank_client['default'] == 'unknown']['age'].count(),\n",
    "              '\\n Yes to credit in default:' , bank_client[bank_client['default'] == 'yes']    ['age'].count())"
   ]
  },
  {
   "cell_type": "code",
   "execution_count": 21,
   "metadata": {},
   "outputs": [
    {
     "name": "stdout",
     "output_type": "stream",
     "text": [
      "Housing:\n",
      " No housing in loan: 18622 \n",
      " Unknown housing in loan: 990 \n",
      " Yes to housing in loan: 21576\n"
     ]
    }
   ],
   "source": [
    "print('Housing:\\n No housing in loan:'     , bank_client[bank_client['housing'] == 'no']     ['age'].count(),\n",
    "              '\\n Unknown housing in loan:', bank_client[bank_client['housing'] == 'unknown']['age'].count(),\n",
    "              '\\n Yes to housing in loan:' , bank_client[bank_client['housing'] == 'yes']    ['age'].count())"
   ]
  },
  {
   "cell_type": "code",
   "execution_count": 22,
   "metadata": {},
   "outputs": [
    {
     "name": "stdout",
     "output_type": "stream",
     "text": [
      "Housing:\n",
      " No to personal loan: 33950 \n",
      " Unknown to personal loan: 990 \n",
      " Yes to personal loan: 6248\n"
     ]
    }
   ],
   "source": [
    "print('Housing:\\n No to personal loan:'     , bank_client[bank_client['loan'] == 'no']     ['age'].count(),\n",
    "              '\\n Unknown to personal loan:', bank_client[bank_client['loan'] == 'unknown']['age'].count(),\n",
    "              '\\n Yes to personal loan:'    , bank_client[bank_client['loan'] == 'yes']    ['age'].count())"
   ]
  },
  {
   "cell_type": "markdown",
   "metadata": {},
   "source": [
    "**BANK CLIENTS CONCLUSION**\n",
    "\n",
    "The ages dont mean too much, has a medium dispersion and dont make sense relate with other variables will not tell any insight\n",
    "\n",
    "Jobs, Marital and Education i think the best analysis is just the count of each variable, if we related with the other ones its is not conclusive, all this kind of variables has yes, unknown and no for loan, default and housing.\n",
    "\n",
    "Default, loan and housing, its just to see the distribution of people."
   ]
  },
  {
   "cell_type": "markdown",
   "metadata": {},
   "source": [
    "#### Bank Client Categorical Treatment\n",
    "- Jobs, Marital, Education, Default, Housing, Loan. Converting to continuous due the feature scaling will be applied later"
   ]
  },
  {
   "cell_type": "markdown",
   "metadata": {},
   "source": [
    "# H2O implementation"
   ]
  },
  {
   "cell_type": "code",
   "execution_count": 24,
   "metadata": {},
   "outputs": [],
   "source": [
    "data_path=None\n",
    "all_variables=None\n",
    "test_path=None\n",
    "# target='search_term'\n",
    "target=None\n",
    "nthreads=1 \n",
    "min_mem_size=6 \n",
    "run_time=200\n",
    "classification=False\n",
    "scale=False\n",
    "max_models=9    \n",
    "model_path=None\n",
    "balance_y=False \n",
    "balance_threshold=0.2\n",
    "name=None \n",
    "server_path=None  \n",
    "analysis=0"
   ]
  },
  {
   "cell_type": "code",
   "execution_count": 25,
   "metadata": {},
   "outputs": [
    {
     "name": "stdout",
     "output_type": "stream",
     "text": [
      "1\n"
     ]
    }
   ],
   "source": [
    "pct_memory=0.5\n",
    "virtual_memory=psutil.virtual_memory()\n",
    "min_mem_size=int(round(int(pct_memory*virtual_memory.available)/1073741824,0))\n",
    "print(min_mem_size)"
   ]
  },
  {
   "cell_type": "code",
   "execution_count": 26,
   "metadata": {},
   "outputs": [],
   "source": [
    "# Functions\n",
    "\n",
    "def alphabet(n):\n",
    "  alpha='0123456789abcdefghijklmnopqrstuvwxyzABCDEFGHIJKLMNOPQRSTUVWXYZ'    \n",
    "  str=''\n",
    "  r=len(alpha)-1   \n",
    "  while len(str)<n:\n",
    "    i=random.randint(0,r)\n",
    "    str+=alpha[i]   \n",
    "  return str\n",
    "  \n",
    "  \n",
    "def set_meta_data(analysis,run_id,server,data,test,model_path,target,run_time,classification,scale,model,balance,balance_threshold,name,path,nthreads,min_mem_size):\n",
    "  m_data={}\n",
    "  m_data['start_time'] = time.time()\n",
    "  m_data['target']=target\n",
    "  m_data['server_path']=server\n",
    "  m_data['data_path']=data \n",
    "  m_data['test_path']=test\n",
    "  m_data['max_models']=model\n",
    "  m_data['run_time']=run_time\n",
    "  m_data['run_id'] =run_id\n",
    "  m_data['scale']=scale\n",
    "  m_data['classification']=classification\n",
    "  m_data['scale']=False\n",
    "  m_data['model_path']=model_path\n",
    "  m_data['balance']=balance\n",
    "  m_data['balance_threshold']=balance_threshold\n",
    "  m_data['project'] =name\n",
    "  m_data['end_time'] = time.time()\n",
    "  m_data['execution_time'] = 0.0\n",
    "  m_data['run_path'] =path\n",
    "  m_data['nthreads'] = nthreads\n",
    "  m_data['min_mem_size'] = min_mem_size\n",
    "  m_data['analysis'] = analysis\n",
    "  return m_data\n",
    "\n",
    "\n",
    "def dict_to_json(dct,n):\n",
    "  j = json.dumps(dct, indent=4)\n",
    "  f = open(n, 'w')\n",
    "  print(j, file=f)\n",
    "  f.close()\n",
    "  \n",
    "  \n",
    "def stackedensemble(mod):\n",
    "    coef_norm=None\n",
    "    try:\n",
    "      metalearner = h2o.get_model(mod.metalearner()['name'])\n",
    "      coef_norm=metalearner.coef_norm()\n",
    "    except:\n",
    "      pass        \n",
    "    return coef_norm\n",
    "\n",
    "def stackedensemble_df(df):\n",
    "    bm_algo={ 'GBM': None,'GLM': None,'DRF': None,'XRT': None,'Dee': None}\n",
    "    for index, row in df.iterrows():\n",
    "      if len(row['model_id'])>3:\n",
    "        key=row['model_id'][0:3]\n",
    "        if key in bm_algo:\n",
    "          if bm_algo[key] is None:\n",
    "                bm_algo[key]=row['model_id']\n",
    "    bm=list(bm_algo.values()) \n",
    "    bm=list(filter(None.__ne__, bm))             \n",
    "    return bm\n",
    "\n",
    "def se_stats(modl):\n",
    "    d={}\n",
    "    d['algo']=modl.algo\n",
    "    d['model_id']=modl.model_id   \n",
    "    d['auc']=modl.auc()   \n",
    "    d['roc']=modl.roc()\n",
    "    d['mse']=modl.mse()   \n",
    "    d['null_degrees_of_freedom']=modl.null_degrees_of_freedom()\n",
    "    d['null_deviance']=modl.null_deviance()\n",
    "    d['residual_degrees_of_freedom']=modl.residual_degrees_of_freedom()   \n",
    "    d['residual_deviance']=modl.residual_deviance()\n",
    "    d['rmse']=modl.rmse()\n",
    "    return d\n",
    "\n",
    "def get_model_by_algo(algo,models_dict):\n",
    "    mod=None\n",
    "    mod_id=None    \n",
    "    for m in list(models_dict.keys()):\n",
    "        if m[0:3]==algo:\n",
    "            mod_id=m\n",
    "            mod=h2o.get_model(m)      \n",
    "    return mod,mod_id     \n",
    "    \n",
    "    \n",
    "def gbm_stats(modl):\n",
    "    d={}\n",
    "    d['algo']=modl.algo\n",
    "    d['model_id']=modl.model_id   \n",
    "    d['varimp']=modl.varimp()  \n",
    "    return d\n",
    "    \n",
    "    \n",
    "def dl_stats(modl):\n",
    "    d={}\n",
    "    d['algo']=modl.algo\n",
    "    d['model_id']=modl.model_id   \n",
    "    d['varimp']=modl.varimp()  \n",
    "    return d\n",
    "    \n",
    "    \n",
    "def drf_stats(modl):\n",
    "    d={}\n",
    "    d['algo']=modl.algo\n",
    "    d['model_id']=modl.model_id   \n",
    "    d['varimp']=modl.varimp()  \n",
    "    d['roc']=modl.roc()      \n",
    "    return d\n",
    "    \n",
    "def xrt_stats(modl):\n",
    "    d={}\n",
    "    d['algo']=modl.algo\n",
    "    d['model_id']=modl.model_id   \n",
    "    d['varimp']=modl.varimp()  \n",
    "    d['roc']=modl.roc()      \n",
    "    return d\n",
    "    \n",
    "    \n",
    "def glm_stats(modl):\n",
    "    d={}\n",
    "    d['algo']=modl.algo\n",
    "    d['model_id']=modl.model_id   \n",
    "    d['coef']=modl.coef()  \n",
    "    d['coef_norm']=modl.coef_norm()      \n",
    "    return d\n",
    "    \n",
    "def model_performance_stats(perf):\n",
    "    d={}\n",
    "    try:    \n",
    "      d['mse']=perf.mse()\n",
    "    except:\n",
    "      pass      \n",
    "    try:    \n",
    "      d['rmse']=perf.rmse() \n",
    "    except:\n",
    "      pass      \n",
    "    try:    \n",
    "      d['null_degrees_of_freedom']=perf.null_degrees_of_freedom()\n",
    "    except:\n",
    "      pass      \n",
    "    try:    \n",
    "      d['residual_degrees_of_freedom']=perf.residual_degrees_of_freedom()\n",
    "    except:\n",
    "      pass      \n",
    "    try:    \n",
    "      d['residual_deviance']=perf.residual_deviance() \n",
    "    except:\n",
    "      pass      \n",
    "    try:    \n",
    "      d['null_deviance']=perf.null_deviance() \n",
    "    except:\n",
    "      pass      \n",
    "    try:    \n",
    "      d['aic']=perf.aic() \n",
    "    except:\n",
    "      pass      \n",
    "    try:\n",
    "      d['logloss']=perf.logloss() \n",
    "    except:\n",
    "      pass    \n",
    "    try:\n",
    "      d['auc']=perf.auc()\n",
    "    except:\n",
    "      pass  \n",
    "    try:\n",
    "      d['gini']=perf.gini()\n",
    "    except:\n",
    "      pass    \n",
    "    return d\n",
    "    \n",
    "def impute_missing_values(df, x, scal=False):\n",
    "    # determine column types\n",
    "    ints, reals, enums = [], [], []\n",
    "    for key, val in df.types.items():\n",
    "        if key in x:\n",
    "            if val == 'enum':\n",
    "                enums.append(key)\n",
    "            elif val == 'int':\n",
    "                ints.append(key)            \n",
    "            else: \n",
    "                reals.append(key)    \n",
    "    _ = df[reals].impute(method='mean')\n",
    "    _ = df[ints].impute(method='median')\n",
    "    if scal:\n",
    "        df[reals] = df[reals].scale()\n",
    "        df[ints] = df[ints].scale()    \n",
    "    return\n",
    "\n",
    "\n",
    "def get_independent_variables(df, targ):\n",
    "    C = [name for name in df.columns if name != targ]\n",
    "    # determine column types\n",
    "    ints, reals, enums = [], [], []\n",
    "    for key, val in df.types.items():\n",
    "        if key in C:\n",
    "            if val == 'enum':\n",
    "                enums.append(key)\n",
    "            elif val == 'int':\n",
    "                ints.append(key)            \n",
    "            else: \n",
    "                reals.append(key)    \n",
    "    x=ints+enums+reals\n",
    "    return x\n",
    "    \n",
    "def get_all_variables_csv(i):\n",
    "    ivd={}\n",
    "    try:\n",
    "      iv = pd.read_csv(i,header=None)\n",
    "    except:\n",
    "      sys.exit(1)    \n",
    "    col=iv.values.tolist()[0]\n",
    "    dt=iv.values.tolist()[1]\n",
    "    i=0\n",
    "    for c in col:\n",
    "      ivd[c.strip()]=dt[i].strip()\n",
    "      i+=1        \n",
    "    return ivd\n",
    "    \n",
    "    \n",
    "\n",
    "def check_all_variables(df,dct,y=None):     \n",
    "    targ=list(dct.keys())     \n",
    "    for key, val in df.types.items():\n",
    "        if key in targ:\n",
    "          if dct[key] not in ['real','int','enum']:                      \n",
    "            targ.remove(key)  \n",
    "    for key, val in df.types.items():\n",
    "        if key in targ:            \n",
    "          if dct[key] != val:\n",
    "            print('convert ',key,' ',dct[key],' ',val)\n",
    "            if dct[key]=='enum':\n",
    "                try:\n",
    "                  df[key] = df[key].asfactor() \n",
    "                except:\n",
    "                  targ.remove(key)                 \n",
    "            if dct[key]=='int': \n",
    "                try:                \n",
    "                  df[key] = df[key].asnumeric() \n",
    "                except:\n",
    "                  targ.remove(key)                  \n",
    "            if dct[key]=='real':\n",
    "                try:                \n",
    "                  df[key] = df[key].asnumeric()  \n",
    "                except:\n",
    "                  targ.remove(key)                  \n",
    "    if y is None:\n",
    "      y=df.columns[-1] \n",
    "    if y in targ:\n",
    "      targ.remove(y)\n",
    "    else:\n",
    "      y=targ.pop()            \n",
    "    return targ    \n",
    "    \n",
    "def predictions(mod,data,run_id):\n",
    "    test = h2o.import_file(data)\n",
    "    mod_perf=mod_best.model_performance(test)\n",
    "              \n",
    "    stats_test={}\n",
    "    stats_test=model_performance_stats(mod_perf)\n",
    "\n",
    "    n=run_id+'_test_stats.json'\n",
    "    dict_to_json(stats_test,n) \n",
    "\n",
    "    try:    \n",
    "      cf=mod_perf.confusion_matrix(metrics=[\"f1\",\"f2\",\"f0point5\",\"accuracy\",\"precision\",\"recall\",\"specificity\",\"absolute_mcc\",\"min_per_class_accuracy\",\"mean_per_class_accuracy\"])\n",
    "      cf_df=cf[0].table.as_data_frame()\n",
    "      cf_df.to_csv(run_id+'_test_confusion_matrix.csv')\n",
    "    except:\n",
    "      pass\n",
    "\n",
    "    predictions = mod_best.predict(test)\n",
    "    predictions_df=test.cbind(predictions).as_data_frame() \n",
    "    predictions_df.to_csv(run_id+'_predictions.csv')\n",
    "    return\n",
    "\n",
    "def predictions_test(mod,test,run_id):\n",
    "    mod_perf=mod_best.model_performance(test)          \n",
    "    stats_test={}\n",
    "    stats_test=model_performance_stats(mod_perf)\n",
    "    n=run_id+'_test_stats.json'\n",
    "    dict_to_json(stats_test,n) \n",
    "    try:\n",
    "      cf=mod_perf.confusion_matrix()\n",
    "#      cf=mod_perf.confusion_matrix(metrics=[\"f1\",\"f2\",\"f0point5\",\"accuracy\",\"precision\",\"recall\",\"specificity\",\"absolute_mcc\",\"min_per_class_accuracy\",\"mean_per_class_accuracy\"])\n",
    "      cf_df=cf.table.as_data_frame()\n",
    "      cf_df.to_csv(run_id+'_test_confusion_matrix.csv')\n",
    "    except:\n",
    "      pass\n",
    "    predictions = mod_best.predict(test)    \n",
    "    predictions_df=test.cbind(predictions).as_data_frame() \n",
    "    predictions_df.to_csv(run_id+'_predictions.csv')\n",
    "    return predictions\n",
    "\n",
    "def check_X(x,df):\n",
    "    for name in x:\n",
    "        if name not in df.columns:\n",
    "          x.remove(name)  \n",
    "    return x    \n",
    "    \n",
    "    \n",
    "def get_stacked_ensemble(lst):\n",
    "    se=None\n",
    "    for model in model_set:\n",
    "      if 'BestOfFamily' in model:\n",
    "        se=model\n",
    "    if se is None:     \n",
    "      for model in model_set:\n",
    "        if 'AllModels'in model:\n",
    "          se=model           \n",
    "    return se       \n",
    "    \n",
    "def get_variables_types(df):\n",
    "    d={}\n",
    "    for key, val in df.types.items():\n",
    "        d[key]=val           \n",
    "    return d    \n",
    "    \n",
    "#  End Functions"
   ]
  },
  {
   "cell_type": "code",
   "execution_count": 27,
   "metadata": {},
   "outputs": [],
   "source": [
    "all_variables=None"
   ]
  },
  {
   "cell_type": "code",
   "execution_count": 37,
   "metadata": {},
   "outputs": [],
   "source": [
    "data_path='C:/Users/Sharvari Karnik/Desktop/ADS/DSGroupProject/hyperparameter-db-project-ds18/bank-additional-full.csv'"
   ]
  },
  {
   "cell_type": "code",
   "execution_count": 38,
   "metadata": {},
   "outputs": [
    {
     "name": "stdout",
     "output_type": "stream",
     "text": [
      "FVohtYbr4\n"
     ]
    }
   ],
   "source": [
    "run_id=alphabet(9)\n",
    "if server_path==None:\n",
    "  server_path=os.path.abspath(os.curdir)\n",
    "os.chdir(server_path) \n",
    "run_dir = os.path.join(server_path,run_id)\n",
    "os.mkdir(run_dir)\n",
    "os.chdir(run_dir)    \n",
    "\n",
    "# run_id to std out\n",
    "print (run_id)"
   ]
  },
  {
   "cell_type": "code",
   "execution_count": 39,
   "metadata": {},
   "outputs": [
    {
     "name": "stdout",
     "output_type": "stream",
     "text": [
      "C:\\Users\\Sharvari Karnik\\Desktop\\ADS\\DSGroupProject\\hyperparameter-db-project-ds18\\FVohtYbr4\\logs   FVohtYbr4_autoh2o_log.zip\n"
     ]
    }
   ],
   "source": [
    "logfile=run_id+'_autoh2o_log.zip'\n",
    "logs_path=os.path.join(run_dir,'logs')\n",
    "print(logs_path,' ',logfile)"
   ]
  },
  {
   "cell_type": "code",
   "execution_count": 40,
   "metadata": {},
   "outputs": [
    {
     "name": "stdout",
     "output_type": "stream",
     "text": [
      "Checking whether there is an H2O instance running at http://localhost:20724..... not found.\n",
      "Attempting to start a local H2O server...\n",
      "; OpenJDK 64-Bit Server VM (build 25.152-b12, mixed mode)56-b12)\n",
      "  Starting server from C:\\Users\\Sharvari Karnik\\Anaconda3\\lib\\site-packages\\h2o\\backend\\bin\\h2o.jar\n",
      "  Ice root: C:\\Users\\SHARVA~1\\AppData\\Local\\Temp\\tmpx4v8etmw\n",
      "  JVM stdout: C:\\Users\\SHARVA~1\\AppData\\Local\\Temp\\tmpx4v8etmw\\h2o_Sharvari_Karnik_started_from_python.out\n",
      "  JVM stderr: C:\\Users\\SHARVA~1\\AppData\\Local\\Temp\\tmpx4v8etmw\\h2o_Sharvari_Karnik_started_from_python.err\n",
      "  Server is running at http://127.0.0.1:20724\n",
      "Connecting to H2O server at http://127.0.0.1:20724... successful.\n"
     ]
    },
    {
     "data": {
      "text/html": [
       "<div style=\"overflow:auto\"><table style=\"width:50%\"><tr><td>H2O cluster uptime:</td>\n",
       "<td>04 secs</td></tr>\n",
       "<tr><td>H2O cluster version:</td>\n",
       "<td>3.14.0.1</td></tr>\n",
       "<tr><td>H2O cluster version age:</td>\n",
       "<td>1 year, 8 months and 4 days !!!</td></tr>\n",
       "<tr><td>H2O cluster name:</td>\n",
       "<td>H2O_from_python_Sharvari_Karnik_ti7i99</td></tr>\n",
       "<tr><td>H2O cluster total nodes:</td>\n",
       "<td>1</td></tr>\n",
       "<tr><td>H2O cluster free memory:</td>\n",
       "<td>1.745 Gb</td></tr>\n",
       "<tr><td>H2O cluster total cores:</td>\n",
       "<td>8</td></tr>\n",
       "<tr><td>H2O cluster allowed cores:</td>\n",
       "<td>8</td></tr>\n",
       "<tr><td>H2O cluster status:</td>\n",
       "<td>accepting new members, healthy</td></tr>\n",
       "<tr><td>H2O connection url:</td>\n",
       "<td>http://127.0.0.1:20724</td></tr>\n",
       "<tr><td>H2O connection proxy:</td>\n",
       "<td>None</td></tr>\n",
       "<tr><td>H2O internal security:</td>\n",
       "<td>False</td></tr>\n",
       "<tr><td>H2O API Extensions:</td>\n",
       "<td>Algos, AutoML, Core V3, Core V4</td></tr>\n",
       "<tr><td>Python version:</td>\n",
       "<td>3.7.2 final</td></tr></table></div>"
      ],
      "text/plain": [
       "--------------------------  --------------------------------------\n",
       "H2O cluster uptime:         04 secs\n",
       "H2O cluster version:        3.14.0.1\n",
       "H2O cluster version age:    1 year, 8 months and 4 days !!!\n",
       "H2O cluster name:           H2O_from_python_Sharvari_Karnik_ti7i99\n",
       "H2O cluster total nodes:    1\n",
       "H2O cluster free memory:    1.745 Gb\n",
       "H2O cluster total cores:    8\n",
       "H2O cluster allowed cores:  8\n",
       "H2O cluster status:         accepting new members, healthy\n",
       "H2O connection url:         http://127.0.0.1:20724\n",
       "H2O connection proxy:\n",
       "H2O internal security:      False\n",
       "H2O API Extensions:         Algos, AutoML, Core V3, Core V4\n",
       "Python version:             3.7.2 final\n",
       "--------------------------  --------------------------------------"
      ]
     },
     "metadata": {},
     "output_type": "display_data"
    }
   ],
   "source": [
    "# 65535 Highest port no\n",
    "port_no=random.randint(5555,55555)\n",
    "h2o.init(strict_version_check=False,min_mem_size_GB=min_mem_size,port=port_no)"
   ]
  },
  {
   "cell_type": "code",
   "execution_count": 41,
   "metadata": {},
   "outputs": [
    {
     "name": "stdout",
     "output_type": "stream",
     "text": [
      "{'start_time': 1555274817.0593822, 'target': None, 'server_path': 'C:\\\\Users\\\\Sharvari Karnik\\\\Desktop\\\\ADS\\\\DSGroupProject\\\\hyperparameter-db-project-ds18', 'data_path': 'C:/Users/Sharvari Karnik/Desktop/ADS/DSGroupProject/hyperparameter-db-project-ds18/bank-additional-full.csv', 'test_path': None, 'max_models': 9, 'run_time': 200, 'run_id': 'FVohtYbr4', 'scale': False, 'classification': False, 'model_path': None, 'balance': False, 'balance_threshold': 0.2, 'project': None, 'end_time': 1555274817.0593822, 'execution_time': 0.0, 'run_path': 'C:\\\\Users\\\\Sharvari Karnik\\\\Desktop\\\\ADS\\\\DSGroupProject\\\\hyperparameter-db-project-ds18\\\\FVohtYbr4', 'nthreads': 1, 'min_mem_size': 1, 'analysis': 0}\n"
     ]
    }
   ],
   "source": [
    "# meta data\n",
    "meta_data = set_meta_data(analysis, run_id,server_path,data_path,test_path,model_path,target,run_time,classification,scale,max_models,balance_y,balance_threshold,name,run_dir,nthreads,min_mem_size)\n",
    "print(meta_data)"
   ]
  },
  {
   "cell_type": "code",
   "execution_count": 42,
   "metadata": {},
   "outputs": [
    {
     "name": "stdout",
     "output_type": "stream",
     "text": [
      "C:/Users/Sharvari Karnik/Desktop/ADS/DSGroupProject/hyperparameter-db-project-ds18/bank-additional-full.csv\n"
     ]
    }
   ],
   "source": [
    "print(data_path)"
   ]
  },
  {
   "cell_type": "code",
   "execution_count": 43,
   "metadata": {},
   "outputs": [
    {
     "name": "stdout",
     "output_type": "stream",
     "text": [
      "Parse progress: |█████████████████████████████████████████████████████████| 100%\n"
     ]
    },
    {
     "data": {
      "text/html": [
       "<table>\n",
       "<thead>\n",
       "<tr><th style=\"text-align: right;\">  age</th><th>job        </th><th>marital  </th><th>education          </th><th>default  </th><th>housing  </th><th>loan  </th><th>contact  </th><th>month  </th><th>day_of_week  </th><th style=\"text-align: right;\">  duration</th><th style=\"text-align: right;\">  campaign</th><th style=\"text-align: right;\">  pdays</th><th style=\"text-align: right;\">  previous</th><th>poutcome   </th><th style=\"text-align: right;\">  emp.var.rate</th><th style=\"text-align: right;\">  cons.price.idx</th><th style=\"text-align: right;\">  cons.conf.idx</th><th style=\"text-align: right;\">  euribor3m</th><th style=\"text-align: right;\">  nr.employed</th><th>y  </th></tr>\n",
       "</thead>\n",
       "<tbody>\n",
       "<tr><td style=\"text-align: right;\">   56</td><td>housemaid  </td><td>married  </td><td>basic.4y           </td><td>no       </td><td>no       </td><td>no    </td><td>telephone</td><td>may    </td><td>mon          </td><td style=\"text-align: right;\">       261</td><td style=\"text-align: right;\">         1</td><td style=\"text-align: right;\">    999</td><td style=\"text-align: right;\">         0</td><td>nonexistent</td><td style=\"text-align: right;\">           1.1</td><td style=\"text-align: right;\">          93.994</td><td style=\"text-align: right;\">          -36.4</td><td style=\"text-align: right;\">      4.857</td><td style=\"text-align: right;\">         5191</td><td>no </td></tr>\n",
       "<tr><td style=\"text-align: right;\">   57</td><td>services   </td><td>married  </td><td>high.school        </td><td>unknown  </td><td>no       </td><td>no    </td><td>telephone</td><td>may    </td><td>mon          </td><td style=\"text-align: right;\">       149</td><td style=\"text-align: right;\">         1</td><td style=\"text-align: right;\">    999</td><td style=\"text-align: right;\">         0</td><td>nonexistent</td><td style=\"text-align: right;\">           1.1</td><td style=\"text-align: right;\">          93.994</td><td style=\"text-align: right;\">          -36.4</td><td style=\"text-align: right;\">      4.857</td><td style=\"text-align: right;\">         5191</td><td>no </td></tr>\n",
       "<tr><td style=\"text-align: right;\">   37</td><td>services   </td><td>married  </td><td>high.school        </td><td>no       </td><td>yes      </td><td>no    </td><td>telephone</td><td>may    </td><td>mon          </td><td style=\"text-align: right;\">       226</td><td style=\"text-align: right;\">         1</td><td style=\"text-align: right;\">    999</td><td style=\"text-align: right;\">         0</td><td>nonexistent</td><td style=\"text-align: right;\">           1.1</td><td style=\"text-align: right;\">          93.994</td><td style=\"text-align: right;\">          -36.4</td><td style=\"text-align: right;\">      4.857</td><td style=\"text-align: right;\">         5191</td><td>no </td></tr>\n",
       "<tr><td style=\"text-align: right;\">   40</td><td>admin.     </td><td>married  </td><td>basic.6y           </td><td>no       </td><td>no       </td><td>no    </td><td>telephone</td><td>may    </td><td>mon          </td><td style=\"text-align: right;\">       151</td><td style=\"text-align: right;\">         1</td><td style=\"text-align: right;\">    999</td><td style=\"text-align: right;\">         0</td><td>nonexistent</td><td style=\"text-align: right;\">           1.1</td><td style=\"text-align: right;\">          93.994</td><td style=\"text-align: right;\">          -36.4</td><td style=\"text-align: right;\">      4.857</td><td style=\"text-align: right;\">         5191</td><td>no </td></tr>\n",
       "<tr><td style=\"text-align: right;\">   56</td><td>services   </td><td>married  </td><td>high.school        </td><td>no       </td><td>no       </td><td>yes   </td><td>telephone</td><td>may    </td><td>mon          </td><td style=\"text-align: right;\">       307</td><td style=\"text-align: right;\">         1</td><td style=\"text-align: right;\">    999</td><td style=\"text-align: right;\">         0</td><td>nonexistent</td><td style=\"text-align: right;\">           1.1</td><td style=\"text-align: right;\">          93.994</td><td style=\"text-align: right;\">          -36.4</td><td style=\"text-align: right;\">      4.857</td><td style=\"text-align: right;\">         5191</td><td>no </td></tr>\n",
       "<tr><td style=\"text-align: right;\">   45</td><td>services   </td><td>married  </td><td>basic.9y           </td><td>unknown  </td><td>no       </td><td>no    </td><td>telephone</td><td>may    </td><td>mon          </td><td style=\"text-align: right;\">       198</td><td style=\"text-align: right;\">         1</td><td style=\"text-align: right;\">    999</td><td style=\"text-align: right;\">         0</td><td>nonexistent</td><td style=\"text-align: right;\">           1.1</td><td style=\"text-align: right;\">          93.994</td><td style=\"text-align: right;\">          -36.4</td><td style=\"text-align: right;\">      4.857</td><td style=\"text-align: right;\">         5191</td><td>no </td></tr>\n",
       "<tr><td style=\"text-align: right;\">   59</td><td>admin.     </td><td>married  </td><td>professional.course</td><td>no       </td><td>no       </td><td>no    </td><td>telephone</td><td>may    </td><td>mon          </td><td style=\"text-align: right;\">       139</td><td style=\"text-align: right;\">         1</td><td style=\"text-align: right;\">    999</td><td style=\"text-align: right;\">         0</td><td>nonexistent</td><td style=\"text-align: right;\">           1.1</td><td style=\"text-align: right;\">          93.994</td><td style=\"text-align: right;\">          -36.4</td><td style=\"text-align: right;\">      4.857</td><td style=\"text-align: right;\">         5191</td><td>no </td></tr>\n",
       "<tr><td style=\"text-align: right;\">   41</td><td>blue-collar</td><td>married  </td><td>unknown            </td><td>unknown  </td><td>no       </td><td>no    </td><td>telephone</td><td>may    </td><td>mon          </td><td style=\"text-align: right;\">       217</td><td style=\"text-align: right;\">         1</td><td style=\"text-align: right;\">    999</td><td style=\"text-align: right;\">         0</td><td>nonexistent</td><td style=\"text-align: right;\">           1.1</td><td style=\"text-align: right;\">          93.994</td><td style=\"text-align: right;\">          -36.4</td><td style=\"text-align: right;\">      4.857</td><td style=\"text-align: right;\">         5191</td><td>no </td></tr>\n",
       "<tr><td style=\"text-align: right;\">   24</td><td>technician </td><td>single   </td><td>professional.course</td><td>no       </td><td>yes      </td><td>no    </td><td>telephone</td><td>may    </td><td>mon          </td><td style=\"text-align: right;\">       380</td><td style=\"text-align: right;\">         1</td><td style=\"text-align: right;\">    999</td><td style=\"text-align: right;\">         0</td><td>nonexistent</td><td style=\"text-align: right;\">           1.1</td><td style=\"text-align: right;\">          93.994</td><td style=\"text-align: right;\">          -36.4</td><td style=\"text-align: right;\">      4.857</td><td style=\"text-align: right;\">         5191</td><td>no </td></tr>\n",
       "<tr><td style=\"text-align: right;\">   25</td><td>services   </td><td>single   </td><td>high.school        </td><td>no       </td><td>yes      </td><td>no    </td><td>telephone</td><td>may    </td><td>mon          </td><td style=\"text-align: right;\">        50</td><td style=\"text-align: right;\">         1</td><td style=\"text-align: right;\">    999</td><td style=\"text-align: right;\">         0</td><td>nonexistent</td><td style=\"text-align: right;\">           1.1</td><td style=\"text-align: right;\">          93.994</td><td style=\"text-align: right;\">          -36.4</td><td style=\"text-align: right;\">      4.857</td><td style=\"text-align: right;\">         5191</td><td>no </td></tr>\n",
       "</tbody>\n",
       "</table>"
      ]
     },
     "metadata": {},
     "output_type": "display_data"
    },
    {
     "data": {
      "text/plain": []
     },
     "execution_count": 43,
     "metadata": {},
     "output_type": "execute_result"
    }
   ],
   "source": [
    "df = h2o.import_file(data_path)\n",
    "df.head()"
   ]
  },
  {
   "cell_type": "code",
   "execution_count": 44,
   "metadata": {
    "scrolled": true
   },
   "outputs": [
    {
     "name": "stdout",
     "output_type": "stream",
     "text": [
      "Rows:41188\n",
      "Cols:21\n",
      "\n",
      "\n"
     ]
    },
    {
     "data": {
      "text/html": [
       "<table>\n",
       "<thead>\n",
       "<tr><th>       </th><th>age               </th><th>job        </th><th>marital  </th><th>education          </th><th>default  </th><th>housing  </th><th>loan  </th><th>contact  </th><th>month  </th><th>day_of_week  </th><th>duration          </th><th>campaign         </th><th>pdays             </th><th>previous           </th><th>poutcome   </th><th>emp.var.rate       </th><th>cons.price.idx    </th><th>cons.conf.idx      </th><th>euribor3m         </th><th>nr.employed      </th><th>y   </th></tr>\n",
       "</thead>\n",
       "<tbody>\n",
       "<tr><td>type   </td><td>int               </td><td>enum       </td><td>enum     </td><td>enum               </td><td>enum     </td><td>enum     </td><td>enum  </td><td>enum     </td><td>enum   </td><td>enum         </td><td>int               </td><td>int              </td><td>int               </td><td>int                </td><td>enum       </td><td>real               </td><td>real              </td><td>real               </td><td>real              </td><td>real             </td><td>enum</td></tr>\n",
       "<tr><td>mins   </td><td>17.0              </td><td>           </td><td>         </td><td>                   </td><td>         </td><td>         </td><td>      </td><td>         </td><td>       </td><td>             </td><td>0.0               </td><td>1.0              </td><td>0.0               </td><td>0.0                </td><td>           </td><td>-3.4000000000000004</td><td>92.20100000000001 </td><td>-50.800000000000004</td><td>0.634             </td><td>4963.6           </td><td>    </td></tr>\n",
       "<tr><td>mean   </td><td>40.02406040594348 </td><td>           </td><td>         </td><td>                   </td><td>         </td><td>         </td><td>      </td><td>         </td><td>       </td><td>             </td><td>258.2850101971447 </td><td>2.567592502670681</td><td>962.4754540157328 </td><td>0.17296299893172778</td><td>           </td><td>0.0818855006312521 </td><td>93.57566436826262 </td><td>-40.50260027192386 </td><td>3.6212908128581147</td><td>5167.035910944936</td><td>    </td></tr>\n",
       "<tr><td>maxs   </td><td>98.0              </td><td>           </td><td>         </td><td>                   </td><td>         </td><td>         </td><td>      </td><td>         </td><td>       </td><td>             </td><td>4918.0            </td><td>56.0             </td><td>999.0             </td><td>7.0                </td><td>           </td><td>1.4000000000000001 </td><td>94.767            </td><td>-26.900000000000002</td><td>5.045             </td><td>5228.1           </td><td>    </td></tr>\n",
       "<tr><td>sigma  </td><td>10.421249980934045</td><td>           </td><td>         </td><td>                   </td><td>         </td><td>         </td><td>      </td><td>         </td><td>       </td><td>             </td><td>259.27924883646483</td><td>2.770013542902328</td><td>186.91090734474184</td><td>0.4949010798392899 </td><td>           </td><td>1.570959740517025  </td><td>0.5788400489541077</td><td>4.628197856174546  </td><td>1.734447404851267 </td><td>72.25152766826207</td><td>    </td></tr>\n",
       "<tr><td>zeros  </td><td>0                 </td><td>           </td><td>         </td><td>                   </td><td>         </td><td>         </td><td>      </td><td>         </td><td>       </td><td>             </td><td>4                 </td><td>0                </td><td>15                </td><td>35563              </td><td>           </td><td>0                  </td><td>0                 </td><td>0                  </td><td>0                 </td><td>0                </td><td>    </td></tr>\n",
       "<tr><td>missing</td><td>0                 </td><td>0          </td><td>0        </td><td>0                  </td><td>0        </td><td>0        </td><td>0     </td><td>0        </td><td>0      </td><td>0            </td><td>0                 </td><td>0                </td><td>0                 </td><td>0                  </td><td>0          </td><td>0                  </td><td>0                 </td><td>0                  </td><td>0                 </td><td>0                </td><td>0   </td></tr>\n",
       "<tr><td>0      </td><td>56.0              </td><td>housemaid  </td><td>married  </td><td>basic.4y           </td><td>no       </td><td>no       </td><td>no    </td><td>telephone</td><td>may    </td><td>mon          </td><td>261.0             </td><td>1.0              </td><td>999.0             </td><td>0.0                </td><td>nonexistent</td><td>1.1                </td><td>93.994            </td><td>-36.4              </td><td>4.857             </td><td>5191.0           </td><td>no  </td></tr>\n",
       "<tr><td>1      </td><td>57.0              </td><td>services   </td><td>married  </td><td>high.school        </td><td>unknown  </td><td>no       </td><td>no    </td><td>telephone</td><td>may    </td><td>mon          </td><td>149.0             </td><td>1.0              </td><td>999.0             </td><td>0.0                </td><td>nonexistent</td><td>1.1                </td><td>93.994            </td><td>-36.4              </td><td>4.857             </td><td>5191.0           </td><td>no  </td></tr>\n",
       "<tr><td>2      </td><td>37.0              </td><td>services   </td><td>married  </td><td>high.school        </td><td>no       </td><td>yes      </td><td>no    </td><td>telephone</td><td>may    </td><td>mon          </td><td>226.0             </td><td>1.0              </td><td>999.0             </td><td>0.0                </td><td>nonexistent</td><td>1.1                </td><td>93.994            </td><td>-36.4              </td><td>4.857             </td><td>5191.0           </td><td>no  </td></tr>\n",
       "<tr><td>3      </td><td>40.0              </td><td>admin.     </td><td>married  </td><td>basic.6y           </td><td>no       </td><td>no       </td><td>no    </td><td>telephone</td><td>may    </td><td>mon          </td><td>151.0             </td><td>1.0              </td><td>999.0             </td><td>0.0                </td><td>nonexistent</td><td>1.1                </td><td>93.994            </td><td>-36.4              </td><td>4.857             </td><td>5191.0           </td><td>no  </td></tr>\n",
       "<tr><td>4      </td><td>56.0              </td><td>services   </td><td>married  </td><td>high.school        </td><td>no       </td><td>no       </td><td>yes   </td><td>telephone</td><td>may    </td><td>mon          </td><td>307.0             </td><td>1.0              </td><td>999.0             </td><td>0.0                </td><td>nonexistent</td><td>1.1                </td><td>93.994            </td><td>-36.4              </td><td>4.857             </td><td>5191.0           </td><td>no  </td></tr>\n",
       "<tr><td>5      </td><td>45.0              </td><td>services   </td><td>married  </td><td>basic.9y           </td><td>unknown  </td><td>no       </td><td>no    </td><td>telephone</td><td>may    </td><td>mon          </td><td>198.0             </td><td>1.0              </td><td>999.0             </td><td>0.0                </td><td>nonexistent</td><td>1.1                </td><td>93.994            </td><td>-36.4              </td><td>4.857             </td><td>5191.0           </td><td>no  </td></tr>\n",
       "<tr><td>6      </td><td>59.0              </td><td>admin.     </td><td>married  </td><td>professional.course</td><td>no       </td><td>no       </td><td>no    </td><td>telephone</td><td>may    </td><td>mon          </td><td>139.0             </td><td>1.0              </td><td>999.0             </td><td>0.0                </td><td>nonexistent</td><td>1.1                </td><td>93.994            </td><td>-36.4              </td><td>4.857             </td><td>5191.0           </td><td>no  </td></tr>\n",
       "<tr><td>7      </td><td>41.0              </td><td>blue-collar</td><td>married  </td><td>unknown            </td><td>unknown  </td><td>no       </td><td>no    </td><td>telephone</td><td>may    </td><td>mon          </td><td>217.0             </td><td>1.0              </td><td>999.0             </td><td>0.0                </td><td>nonexistent</td><td>1.1                </td><td>93.994            </td><td>-36.4              </td><td>4.857             </td><td>5191.0           </td><td>no  </td></tr>\n",
       "<tr><td>8      </td><td>24.0              </td><td>technician </td><td>single   </td><td>professional.course</td><td>no       </td><td>yes      </td><td>no    </td><td>telephone</td><td>may    </td><td>mon          </td><td>380.0             </td><td>1.0              </td><td>999.0             </td><td>0.0                </td><td>nonexistent</td><td>1.1                </td><td>93.994            </td><td>-36.4              </td><td>4.857             </td><td>5191.0           </td><td>no  </td></tr>\n",
       "<tr><td>9      </td><td>25.0              </td><td>services   </td><td>single   </td><td>high.school        </td><td>no       </td><td>yes      </td><td>no    </td><td>telephone</td><td>may    </td><td>mon          </td><td>50.0              </td><td>1.0              </td><td>999.0             </td><td>0.0                </td><td>nonexistent</td><td>1.1                </td><td>93.994            </td><td>-36.4              </td><td>4.857             </td><td>5191.0           </td><td>no  </td></tr>\n",
       "</tbody>\n",
       "</table>"
      ]
     },
     "metadata": {},
     "output_type": "display_data"
    }
   ],
   "source": [
    "df.describe()"
   ]
  },
  {
   "cell_type": "code",
   "execution_count": 45,
   "metadata": {},
   "outputs": [],
   "source": [
    "# dependent variable\n",
    "# assign target and inputs for classification or regression\n",
    "if target==None:\n",
    "  target=df.columns[20]   \n",
    "y = target"
   ]
  },
  {
   "cell_type": "code",
   "execution_count": 46,
   "metadata": {},
   "outputs": [
    {
     "name": "stdout",
     "output_type": "stream",
     "text": [
      "y\n"
     ]
    }
   ],
   "source": [
    "print(y)"
   ]
  },
  {
   "cell_type": "code",
   "execution_count": 47,
   "metadata": {},
   "outputs": [
    {
     "name": "stdout",
     "output_type": "stream",
     "text": [
      "None\n"
     ]
    }
   ],
   "source": [
    "print(all_variables)"
   ]
  },
  {
   "cell_type": "code",
   "execution_count": 63,
   "metadata": {},
   "outputs": [],
   "source": [
    "if all_variables is not None:\n",
    "  ivd=get_all_variables_csv(all_variables)\n",
    "  print(ivd)    \n",
    "  X=check_all_variables(df,ivd,y)\n",
    "  print(X)"
   ]
  },
  {
   "cell_type": "code",
   "execution_count": 64,
   "metadata": {},
   "outputs": [],
   "source": [
    "# independent variables\n",
    "\n",
    "X = []  \n",
    "if all_variables is None:\n",
    "  X=get_independent_variables(df, target)  \n",
    "else: \n",
    "  ivd=get_all_variables_csv(all_variables)    \n",
    "  X=check_all_variables(df, ivd)\n",
    "\n",
    "\n",
    "X=check_X(X,df)\n",
    "\n",
    "\n",
    "# Add independent variables\n",
    "\n",
    "meta_data['X']=X  \n",
    "\n",
    "\n",
    "# impute missing values\n",
    "\n",
    "_=impute_missing_values(df,X, scale)"
   ]
  },
  {
   "cell_type": "code",
   "execution_count": 65,
   "metadata": {},
   "outputs": [],
   "source": [
    "if analysis == 3:\n",
    "  classification=False\n",
    "elif analysis == 2:\n",
    "  classification=True\n",
    "elif analysis == 1:\n",
    "  classification=True"
   ]
  },
  {
   "cell_type": "code",
   "execution_count": 66,
   "metadata": {},
   "outputs": [],
   "source": [
    "# Force target to be factors\n",
    "# Only 'int' or 'string' are allowed for asfactor(), got Target (Total orders):real \n",
    "\n",
    "if classification:\n",
    "    df[y] = df[y].asfactor()"
   ]
  },
  {
   "cell_type": "code",
   "execution_count": 67,
   "metadata": {},
   "outputs": [],
   "source": [
    "def check_y(y,df):\n",
    "  ok=False\n",
    "  C = [name for name in df.columns if name == y]\n",
    "  for key, val in df.types.items():\n",
    "    if key in C:\n",
    "      if val in ['real','int','enum']:        \n",
    "        ok=True         \n",
    "  return ok"
   ]
  },
  {
   "cell_type": "code",
   "execution_count": 68,
   "metadata": {},
   "outputs": [],
   "source": [
    "ok=check_y(y,df)\n",
    "if not ok:\n",
    "    print(ok)"
   ]
  },
  {
   "cell_type": "code",
   "execution_count": 69,
   "metadata": {},
   "outputs": [
    {
     "name": "stdout",
     "output_type": "stream",
     "text": [
      "True\n"
     ]
    }
   ],
   "source": [
    "print(ok)"
   ]
  },
  {
   "cell_type": "code",
   "execution_count": 70,
   "metadata": {},
   "outputs": [
    {
     "name": "stdout",
     "output_type": "stream",
     "text": [
      "[['no', 'yes']]\n"
     ]
    }
   ],
   "source": [
    "classification=True\n",
    "if classification:\n",
    "    print(df[y].levels())"
   ]
  },
  {
   "cell_type": "code",
   "execution_count": 56,
   "metadata": {},
   "outputs": [
    {
     "name": "stdout",
     "output_type": "stream",
     "text": [
      "[['no', 'yes']]\n"
     ]
    }
   ],
   "source": [
    "print(df[y].levels())"
   ]
  },
  {
   "cell_type": "code",
   "execution_count": 71,
   "metadata": {},
   "outputs": [
    {
     "data": {
      "text/plain": [
       "{'age': 'int',\n",
       " 'job': 'enum',\n",
       " 'marital': 'enum',\n",
       " 'education': 'enum',\n",
       " 'default': 'enum',\n",
       " 'housing': 'enum',\n",
       " 'loan': 'enum',\n",
       " 'contact': 'enum',\n",
       " 'month': 'enum',\n",
       " 'day_of_week': 'enum',\n",
       " 'duration': 'int',\n",
       " 'campaign': 'int',\n",
       " 'pdays': 'int',\n",
       " 'previous': 'int',\n",
       " 'poutcome': 'enum',\n",
       " 'emp.var.rate': 'real',\n",
       " 'cons.price.idx': 'real',\n",
       " 'cons.conf.idx': 'real',\n",
       " 'euribor3m': 'real',\n",
       " 'nr.employed': 'real',\n",
       " 'y': 'enum'}"
      ]
     },
     "execution_count": 71,
     "metadata": {},
     "output_type": "execute_result"
    }
   ],
   "source": [
    "allV=get_variables_types(df)\n",
    "allV"
   ]
  },
  {
   "cell_type": "code",
   "execution_count": 72,
   "metadata": {},
   "outputs": [],
   "source": [
    "meta_data['variables']=allV"
   ]
  },
  {
   "cell_type": "code",
   "execution_count": 73,
   "metadata": {},
   "outputs": [],
   "source": [
    "# Set up AutoML\n",
    "aml = H2OAutoML(max_runtime_secs=run_time,project_name = name)"
   ]
  },
  {
   "cell_type": "code",
   "execution_count": 74,
   "metadata": {},
   "outputs": [],
   "source": [
    "model_start_time = time.time()"
   ]
  },
  {
   "cell_type": "code",
   "execution_count": 76,
   "metadata": {},
   "outputs": [
    {
     "name": "stdout",
     "output_type": "stream",
     "text": [
      "AutoML progress: |████████████████████████████████████████████████████████| 100%\n",
      "Parse progress: |█████████████████████████████████████████████████████████| 100%\n"
     ]
    }
   ],
   "source": [
    "aml.train(x = X, y = y, training_frame = df)"
   ]
  },
  {
   "cell_type": "code",
   "execution_count": 78,
   "metadata": {},
   "outputs": [],
   "source": [
    "meta_data['model_execution_time'] = time.time() - model_start_time"
   ]
  },
  {
   "cell_type": "code",
   "execution_count": 79,
   "metadata": {},
   "outputs": [],
   "source": [
    "# get leaderboard\n",
    "aml_leaderboard_df=aml.leaderboard.as_data_frame()"
   ]
  },
  {
   "cell_type": "code",
   "execution_count": 80,
   "metadata": {},
   "outputs": [
    {
     "data": {
      "text/html": [
       "<div>\n",
       "<style scoped>\n",
       "    .dataframe tbody tr th:only-of-type {\n",
       "        vertical-align: middle;\n",
       "    }\n",
       "\n",
       "    .dataframe tbody tr th {\n",
       "        vertical-align: top;\n",
       "    }\n",
       "\n",
       "    .dataframe thead th {\n",
       "        text-align: right;\n",
       "    }\n",
       "</style>\n",
       "<table border=\"1\" class=\"dataframe\">\n",
       "  <thead>\n",
       "    <tr style=\"text-align: right;\">\n",
       "      <th></th>\n",
       "      <th>model_id</th>\n",
       "      <th>auc</th>\n",
       "      <th>logloss</th>\n",
       "    </tr>\n",
       "  </thead>\n",
       "  <tbody>\n",
       "    <tr>\n",
       "      <th>0</th>\n",
       "      <td>StackedEnsemble_0_AutoML_20190414_165814</td>\n",
       "      <td>0.947294</td>\n",
       "      <td>0.198235</td>\n",
       "    </tr>\n",
       "    <tr>\n",
       "      <th>1</th>\n",
       "      <td>GBM_grid_0_AutoML_20190414_165814_model_0</td>\n",
       "      <td>0.946974</td>\n",
       "      <td>0.181429</td>\n",
       "    </tr>\n",
       "    <tr>\n",
       "      <th>2</th>\n",
       "      <td>GBM_grid_0_AutoML_20190414_165814_model_1</td>\n",
       "      <td>0.946447</td>\n",
       "      <td>0.181971</td>\n",
       "    </tr>\n",
       "    <tr>\n",
       "      <th>3</th>\n",
       "      <td>GBM_grid_0_AutoML_20190414_165814_model_2</td>\n",
       "      <td>0.945800</td>\n",
       "      <td>0.182295</td>\n",
       "    </tr>\n",
       "    <tr>\n",
       "      <th>4</th>\n",
       "      <td>GBM_grid_0_AutoML_20190414_165814_model_3</td>\n",
       "      <td>0.943258</td>\n",
       "      <td>0.188850</td>\n",
       "    </tr>\n",
       "    <tr>\n",
       "      <th>5</th>\n",
       "      <td>DRF_0_AutoML_20190414_165814</td>\n",
       "      <td>0.941386</td>\n",
       "      <td>0.189986</td>\n",
       "    </tr>\n",
       "    <tr>\n",
       "      <th>6</th>\n",
       "      <td>XRT_0_AutoML_20190414_165814</td>\n",
       "      <td>0.941285</td>\n",
       "      <td>0.185789</td>\n",
       "    </tr>\n",
       "    <tr>\n",
       "      <th>7</th>\n",
       "      <td>GLM_grid_0_AutoML_20190414_165814_model_1</td>\n",
       "      <td>0.933566</td>\n",
       "      <td>0.213060</td>\n",
       "    </tr>\n",
       "    <tr>\n",
       "      <th>8</th>\n",
       "      <td>GLM_grid_0_AutoML_20190414_165814_model_0</td>\n",
       "      <td>0.933566</td>\n",
       "      <td>0.213060</td>\n",
       "    </tr>\n",
       "  </tbody>\n",
       "</table>\n",
       "</div>"
      ],
      "text/plain": [
       "                                    model_id       auc   logloss\n",
       "0   StackedEnsemble_0_AutoML_20190414_165814  0.947294  0.198235\n",
       "1  GBM_grid_0_AutoML_20190414_165814_model_0  0.946974  0.181429\n",
       "2  GBM_grid_0_AutoML_20190414_165814_model_1  0.946447  0.181971\n",
       "3  GBM_grid_0_AutoML_20190414_165814_model_2  0.945800  0.182295\n",
       "4  GBM_grid_0_AutoML_20190414_165814_model_3  0.943258  0.188850\n",
       "5               DRF_0_AutoML_20190414_165814  0.941386  0.189986\n",
       "6               XRT_0_AutoML_20190414_165814  0.941285  0.185789\n",
       "7  GLM_grid_0_AutoML_20190414_165814_model_1  0.933566  0.213060\n",
       "8  GLM_grid_0_AutoML_20190414_165814_model_0  0.933566  0.213060"
      ]
     },
     "execution_count": 80,
     "metadata": {},
     "output_type": "execute_result"
    }
   ],
   "source": [
    "aml_leaderboard_df"
   ]
  },
  {
   "cell_type": "code",
   "execution_count": 93,
   "metadata": {},
   "outputs": [
    {
     "name": "stdout",
     "output_type": "stream",
     "text": [
      "Model Details\n",
      "=============\n",
      "H2OStackedEnsembleEstimator :  Stacked Ensemble\n",
      "Model Key:  StackedEnsemble_0_AutoML_20190414_165814\n",
      "No model summary for this model\n",
      "\n",
      "\n",
      "ModelMetricsBinomialGLM: stackedensemble\n",
      "** Reported on train data. **\n",
      "\n",
      "MSE: 0.019670819107014806\n",
      "RMSE: 0.1402526973252736\n",
      "LogLoss: 0.08482817566834952\n",
      "Null degrees of freedom: 28866\n",
      "Residual degrees of freedom: 28859\n",
      "Null deviance: 20274.49632184981\n",
      "Residual deviance: 4897.469894036491\n",
      "AIC: 4913.469894036491\n",
      "AUC: 0.9959589965155384\n",
      "Gini: 0.9919179930310769\n",
      "Confusion Matrix (Act/Pred) for max f1 @ threshold = 0.40794870655508936: \n"
     ]
    },
    {
     "data": {
      "text/html": [
       "<div style=\"overflow:auto\"><table style=\"width:50%\"><tr><td><b></b></td>\n",
       "<td><b>no</b></td>\n",
       "<td><b>yes</b></td>\n",
       "<td><b>Error</b></td>\n",
       "<td><b>Rate</b></td></tr>\n",
       "<tr><td>no</td>\n",
       "<td>25446.0</td>\n",
       "<td>181.0</td>\n",
       "<td>0.0071</td>\n",
       "<td> (181.0/25627.0)</td></tr>\n",
       "<tr><td>yes</td>\n",
       "<td>435.0</td>\n",
       "<td>2805.0</td>\n",
       "<td>0.1343</td>\n",
       "<td> (435.0/3240.0)</td></tr>\n",
       "<tr><td>Total</td>\n",
       "<td>25881.0</td>\n",
       "<td>2986.0</td>\n",
       "<td>0.0213</td>\n",
       "<td> (616.0/28867.0)</td></tr></table></div>"
      ],
      "text/plain": [
       "       no     yes    Error    Rate\n",
       "-----  -----  -----  -------  ---------------\n",
       "no     25446  181    0.0071   (181.0/25627.0)\n",
       "yes    435    2805   0.1343   (435.0/3240.0)\n",
       "Total  25881  2986   0.0213   (616.0/28867.0)"
      ]
     },
     "metadata": {},
     "output_type": "display_data"
    },
    {
     "name": "stdout",
     "output_type": "stream",
     "text": [
      "Maximum Metrics: Maximum metrics at their respective thresholds\n",
      "\n"
     ]
    },
    {
     "data": {
      "text/html": [
       "<div style=\"overflow:auto\"><table style=\"width:50%\"><tr><td><b>metric</b></td>\n",
       "<td><b>threshold</b></td>\n",
       "<td><b>value</b></td>\n",
       "<td><b>idx</b></td></tr>\n",
       "<tr><td>max f1</td>\n",
       "<td>0.4079487</td>\n",
       "<td>0.9010601</td>\n",
       "<td>207.0</td></tr>\n",
       "<tr><td>max f2</td>\n",
       "<td>0.2017603</td>\n",
       "<td>0.9207169</td>\n",
       "<td>278.0</td></tr>\n",
       "<tr><td>max f0point5</td>\n",
       "<td>0.4968698</td>\n",
       "<td>0.9361641</td>\n",
       "<td>179.0</td></tr>\n",
       "<tr><td>max accuracy</td>\n",
       "<td>0.4079487</td>\n",
       "<td>0.9786608</td>\n",
       "<td>207.0</td></tr>\n",
       "<tr><td>max precision</td>\n",
       "<td>0.9683091</td>\n",
       "<td>1.0</td>\n",
       "<td>0.0</td></tr>\n",
       "<tr><td>max recall</td>\n",
       "<td>0.0526121</td>\n",
       "<td>1.0</td>\n",
       "<td>357.0</td></tr>\n",
       "<tr><td>max specificity</td>\n",
       "<td>0.9683091</td>\n",
       "<td>1.0</td>\n",
       "<td>0.0</td></tr>\n",
       "<tr><td>max absolute_mcc</td>\n",
       "<td>0.4079487</td>\n",
       "<td>0.8900538</td>\n",
       "<td>207.0</td></tr>\n",
       "<tr><td>max min_per_class_accuracy</td>\n",
       "<td>0.1804360</td>\n",
       "<td>0.9640223</td>\n",
       "<td>288.0</td></tr>\n",
       "<tr><td>max mean_per_class_accuracy</td>\n",
       "<td>0.1601973</td>\n",
       "<td>0.9670103</td>\n",
       "<td>298.0</td></tr></table></div>"
      ],
      "text/plain": [
       "metric                       threshold    value     idx\n",
       "---------------------------  -----------  --------  -----\n",
       "max f1                       0.407949     0.90106   207\n",
       "max f2                       0.20176      0.920717  278\n",
       "max f0point5                 0.49687      0.936164  179\n",
       "max accuracy                 0.407949     0.978661  207\n",
       "max precision                0.968309     1         0\n",
       "max recall                   0.0526121    1         357\n",
       "max specificity              0.968309     1         0\n",
       "max absolute_mcc             0.407949     0.890054  207\n",
       "max min_per_class_accuracy   0.180436     0.964022  288\n",
       "max mean_per_class_accuracy  0.160197     0.96701   298"
      ]
     },
     "metadata": {},
     "output_type": "display_data"
    },
    {
     "name": "stdout",
     "output_type": "stream",
     "text": [
      "Gains/Lift Table: Avg response rate: 11.22 %\n",
      "\n"
     ]
    },
    {
     "data": {
      "text/html": [
       "<div style=\"overflow:auto\"><table style=\"width:50%\"><tr><td><b></b></td>\n",
       "<td><b>group</b></td>\n",
       "<td><b>cumulative_data_fraction</b></td>\n",
       "<td><b>lower_threshold</b></td>\n",
       "<td><b>lift</b></td>\n",
       "<td><b>cumulative_lift</b></td>\n",
       "<td><b>response_rate</b></td>\n",
       "<td><b>cumulative_response_rate</b></td>\n",
       "<td><b>capture_rate</b></td>\n",
       "<td><b>cumulative_capture_rate</b></td>\n",
       "<td><b>gain</b></td>\n",
       "<td><b>cumulative_gain</b></td></tr>\n",
       "<tr><td></td>\n",
       "<td>1</td>\n",
       "<td>0.0100114</td>\n",
       "<td>0.9487044</td>\n",
       "<td>8.9095679</td>\n",
       "<td>8.9095679</td>\n",
       "<td>1.0</td>\n",
       "<td>1.0</td>\n",
       "<td>0.0891975</td>\n",
       "<td>0.0891975</td>\n",
       "<td>790.9567901</td>\n",
       "<td>790.9567901</td></tr>\n",
       "<tr><td></td>\n",
       "<td>2</td>\n",
       "<td>0.0200229</td>\n",
       "<td>0.9281627</td>\n",
       "<td>8.9095679</td>\n",
       "<td>8.9095679</td>\n",
       "<td>1.0</td>\n",
       "<td>1.0</td>\n",
       "<td>0.0891975</td>\n",
       "<td>0.1783951</td>\n",
       "<td>790.9567901</td>\n",
       "<td>790.9567901</td></tr>\n",
       "<tr><td></td>\n",
       "<td>3</td>\n",
       "<td>0.0299997</td>\n",
       "<td>0.9011633</td>\n",
       "<td>8.9095679</td>\n",
       "<td>8.9095679</td>\n",
       "<td>1.0</td>\n",
       "<td>1.0</td>\n",
       "<td>0.0888889</td>\n",
       "<td>0.2672840</td>\n",
       "<td>790.9567901</td>\n",
       "<td>790.9567901</td></tr>\n",
       "<tr><td></td>\n",
       "<td>4</td>\n",
       "<td>0.0400111</td>\n",
       "<td>0.8732408</td>\n",
       "<td>8.9095679</td>\n",
       "<td>8.9095679</td>\n",
       "<td>1.0</td>\n",
       "<td>1.0</td>\n",
       "<td>0.0891975</td>\n",
       "<td>0.3564815</td>\n",
       "<td>790.9567901</td>\n",
       "<td>790.9567901</td></tr>\n",
       "<tr><td></td>\n",
       "<td>5</td>\n",
       "<td>0.0500225</td>\n",
       "<td>0.8365206</td>\n",
       "<td>8.9095679</td>\n",
       "<td>8.9095679</td>\n",
       "<td>1.0</td>\n",
       "<td>1.0</td>\n",
       "<td>0.0891975</td>\n",
       "<td>0.4456790</td>\n",
       "<td>790.9567901</td>\n",
       "<td>790.9567901</td></tr>\n",
       "<tr><td></td>\n",
       "<td>6</td>\n",
       "<td>0.1000104</td>\n",
       "<td>0.4350178</td>\n",
       "<td>8.0389864</td>\n",
       "<td>8.4744279</td>\n",
       "<td>0.9022869</td>\n",
       "<td>0.9511604</td>\n",
       "<td>0.4018519</td>\n",
       "<td>0.8475309</td>\n",
       "<td>703.8986422</td>\n",
       "<td>747.4427938</td></tr>\n",
       "<tr><td></td>\n",
       "<td>7</td>\n",
       "<td>0.1499983</td>\n",
       "<td>0.1467450</td>\n",
       "<td>2.6179188</td>\n",
       "<td>6.5227091</td>\n",
       "<td>0.2938323</td>\n",
       "<td>0.7321016</td>\n",
       "<td>0.1308642</td>\n",
       "<td>0.9783951</td>\n",
       "<td>161.7918773</td>\n",
       "<td>552.2709064</td></tr>\n",
       "<tr><td></td>\n",
       "<td>8</td>\n",
       "<td>0.2000208</td>\n",
       "<td>0.0607187</td>\n",
       "<td>0.4257342</td>\n",
       "<td>4.9979374</td>\n",
       "<td>0.0477839</td>\n",
       "<td>0.5609629</td>\n",
       "<td>0.0212963</td>\n",
       "<td>0.9996914</td>\n",
       "<td>-57.4265800</td>\n",
       "<td>399.7937380</td></tr>\n",
       "<tr><td></td>\n",
       "<td>9</td>\n",
       "<td>0.2999965</td>\n",
       "<td>0.0280605</td>\n",
       "<td>0.0030872</td>\n",
       "<td>3.3333718</td>\n",
       "<td>0.0003465</td>\n",
       "<td>0.3741339</td>\n",
       "<td>0.0003086</td>\n",
       "<td>1.0</td>\n",
       "<td>-99.6912832</td>\n",
       "<td>233.3371824</td></tr>\n",
       "<tr><td></td>\n",
       "<td>10</td>\n",
       "<td>0.4000069</td>\n",
       "<td>0.0229348</td>\n",
       "<td>0.0</td>\n",
       "<td>2.4999567</td>\n",
       "<td>0.0</td>\n",
       "<td>0.2805924</td>\n",
       "<td>0.0</td>\n",
       "<td>1.0</td>\n",
       "<td>-100.0</td>\n",
       "<td>149.9956699</td></tr>\n",
       "<tr><td></td>\n",
       "<td>11</td>\n",
       "<td>0.5000173</td>\n",
       "<td>0.0218123</td>\n",
       "<td>0.0</td>\n",
       "<td>1.9999307</td>\n",
       "<td>0.0</td>\n",
       "<td>0.2244700</td>\n",
       "<td>0.0</td>\n",
       "<td>1.0</td>\n",
       "<td>-100.0</td>\n",
       "<td>99.9930719</td></tr>\n",
       "<tr><td></td>\n",
       "<td>12</td>\n",
       "<td>0.5999931</td>\n",
       "<td>0.0214185</td>\n",
       "<td>0.0</td>\n",
       "<td>1.6666859</td>\n",
       "<td>0.0</td>\n",
       "<td>0.1870670</td>\n",
       "<td>0.0</td>\n",
       "<td>1.0</td>\n",
       "<td>-100.0</td>\n",
       "<td>66.6685912</td></tr>\n",
       "<tr><td></td>\n",
       "<td>13</td>\n",
       "<td>0.7000035</td>\n",
       "<td>0.0212685</td>\n",
       "<td>0.0</td>\n",
       "<td>1.4285644</td>\n",
       "<td>0.0</td>\n",
       "<td>0.1603405</td>\n",
       "<td>0.0</td>\n",
       "<td>1.0</td>\n",
       "<td>-100.0</td>\n",
       "<td>42.8564359</td></tr>\n",
       "<tr><td></td>\n",
       "<td>14</td>\n",
       "<td>0.7999792</td>\n",
       "<td>0.0211776</td>\n",
       "<td>0.0</td>\n",
       "<td>1.2500325</td>\n",
       "<td>0.0</td>\n",
       "<td>0.1403023</td>\n",
       "<td>0.0</td>\n",
       "<td>1.0</td>\n",
       "<td>-100.0</td>\n",
       "<td>25.0032477</td></tr>\n",
       "<tr><td></td>\n",
       "<td>15</td>\n",
       "<td>0.8999896</td>\n",
       "<td>0.0211004</td>\n",
       "<td>0.0</td>\n",
       "<td>1.1111239</td>\n",
       "<td>0.0</td>\n",
       "<td>0.1247113</td>\n",
       "<td>0.0</td>\n",
       "<td>1.0</td>\n",
       "<td>-100.0</td>\n",
       "<td>11.1123941</td></tr>\n",
       "<tr><td></td>\n",
       "<td>16</td>\n",
       "<td>1.0</td>\n",
       "<td>0.0208425</td>\n",
       "<td>0.0</td>\n",
       "<td>1.0</td>\n",
       "<td>0.0</td>\n",
       "<td>0.1122389</td>\n",
       "<td>0.0</td>\n",
       "<td>1.0</td>\n",
       "<td>-100.0</td>\n",
       "<td>0.0</td></tr></table></div>"
      ],
      "text/plain": [
       "    group    cumulative_data_fraction    lower_threshold    lift        cumulative_lift    response_rate    cumulative_response_rate    capture_rate    cumulative_capture_rate    gain      cumulative_gain\n",
       "--  -------  --------------------------  -----------------  ----------  -----------------  ---------------  --------------------------  --------------  -------------------------  --------  -----------------\n",
       "    1        0.0100114                   0.948704           8.90957     8.90957            1                1                           0.0891975       0.0891975                  790.957   790.957\n",
       "    2        0.0200229                   0.928163           8.90957     8.90957            1                1                           0.0891975       0.178395                   790.957   790.957\n",
       "    3        0.0299997                   0.901163           8.90957     8.90957            1                1                           0.0888889       0.267284                   790.957   790.957\n",
       "    4        0.0400111                   0.873241           8.90957     8.90957            1                1                           0.0891975       0.356481                   790.957   790.957\n",
       "    5        0.0500225                   0.836521           8.90957     8.90957            1                1                           0.0891975       0.445679                   790.957   790.957\n",
       "    6        0.10001                     0.435018           8.03899     8.47443            0.902287         0.95116                     0.401852        0.847531                   703.899   747.443\n",
       "    7        0.149998                    0.146745           2.61792     6.52271            0.293832         0.732102                    0.130864        0.978395                   161.792   552.271\n",
       "    8        0.200021                    0.0607187          0.425734    4.99794            0.0477839        0.560963                    0.0212963       0.999691                   -57.4266  399.794\n",
       "    9        0.299997                    0.0280605          0.00308717  3.33337            0.0003465        0.374134                    0.000308642     1                          -99.6913  233.337\n",
       "    10       0.400007                    0.0229348          0           2.49996            0                0.280592                    0               1                          -100      149.996\n",
       "    11       0.500017                    0.0218123          0           1.99993            0                0.22447                     0               1                          -100      99.9931\n",
       "    12       0.599993                    0.0214185          0           1.66669            0                0.187067                    0               1                          -100      66.6686\n",
       "    13       0.700003                    0.0212685          0           1.42856            0                0.16034                     0               1                          -100      42.8564\n",
       "    14       0.799979                    0.0211776          0           1.25003            0                0.140302                    0               1                          -100      25.0032\n",
       "    15       0.89999                     0.0211004          0           1.11112            0                0.124711                    0               1                          -100      11.1124\n",
       "    16       1                           0.0208425          0           1                  0                0.112239                    0               1                          -100      0"
      ]
     },
     "metadata": {},
     "output_type": "display_data"
    },
    {
     "name": "stdout",
     "output_type": "stream",
     "text": [
      "\n",
      "\n",
      "ModelMetricsBinomialGLM: stackedensemble\n",
      "** Reported on validation data. **\n",
      "\n",
      "MSE: 0.060488525236920096\n",
      "RMSE: 0.24594415064587347\n",
      "LogLoss: 0.19959969420142512\n",
      "Null degrees of freedom: 6294\n",
      "Residual degrees of freedom: 6287\n",
      "Null deviance: 4385.902242623728\n",
      "Residual deviance: 2512.960149995942\n",
      "AIC: 2528.960149995942\n",
      "AUC: 0.9441573028530942\n",
      "Gini: 0.8883146057061884\n",
      "Confusion Matrix (Act/Pred) for max f1 @ threshold = 0.1888574685512852: \n"
     ]
    },
    {
     "data": {
      "text/html": [
       "<div style=\"overflow:auto\"><table style=\"width:50%\"><tr><td><b></b></td>\n",
       "<td><b>no</b></td>\n",
       "<td><b>yes</b></td>\n",
       "<td><b>Error</b></td>\n",
       "<td><b>Rate</b></td></tr>\n",
       "<tr><td>no</td>\n",
       "<td>5175.0</td>\n",
       "<td>422.0</td>\n",
       "<td>0.0754</td>\n",
       "<td> (422.0/5597.0)</td></tr>\n",
       "<tr><td>yes</td>\n",
       "<td>163.0</td>\n",
       "<td>535.0</td>\n",
       "<td>0.2335</td>\n",
       "<td> (163.0/698.0)</td></tr>\n",
       "<tr><td>Total</td>\n",
       "<td>5338.0</td>\n",
       "<td>957.0</td>\n",
       "<td>0.0929</td>\n",
       "<td> (585.0/6295.0)</td></tr></table></div>"
      ],
      "text/plain": [
       "       no    yes    Error    Rate\n",
       "-----  ----  -----  -------  --------------\n",
       "no     5175  422    0.0754   (422.0/5597.0)\n",
       "yes    163   535    0.2335   (163.0/698.0)\n",
       "Total  5338  957    0.0929   (585.0/6295.0)"
      ]
     },
     "metadata": {},
     "output_type": "display_data"
    },
    {
     "name": "stdout",
     "output_type": "stream",
     "text": [
      "Maximum Metrics: Maximum metrics at their respective thresholds\n",
      "\n"
     ]
    },
    {
     "data": {
      "text/html": [
       "<div style=\"overflow:auto\"><table style=\"width:50%\"><tr><td><b>metric</b></td>\n",
       "<td><b>threshold</b></td>\n",
       "<td><b>value</b></td>\n",
       "<td><b>idx</b></td></tr>\n",
       "<tr><td>max f1</td>\n",
       "<td>0.1888575</td>\n",
       "<td>0.6465257</td>\n",
       "<td>274.0</td></tr>\n",
       "<tr><td>max f2</td>\n",
       "<td>0.0633790</td>\n",
       "<td>0.7587362</td>\n",
       "<td>344.0</td></tr>\n",
       "<tr><td>max f0point5</td>\n",
       "<td>0.4441871</td>\n",
       "<td>0.6174411</td>\n",
       "<td>182.0</td></tr>\n",
       "<tr><td>max accuracy</td>\n",
       "<td>0.4441871</td>\n",
       "<td>0.9153296</td>\n",
       "<td>182.0</td></tr>\n",
       "<tr><td>max precision</td>\n",
       "<td>0.9626059</td>\n",
       "<td>1.0</td>\n",
       "<td>0.0</td></tr>\n",
       "<tr><td>max recall</td>\n",
       "<td>0.0212578</td>\n",
       "<td>1.0</td>\n",
       "<td>397.0</td></tr>\n",
       "<tr><td>max specificity</td>\n",
       "<td>0.9626059</td>\n",
       "<td>1.0</td>\n",
       "<td>0.0</td></tr>\n",
       "<tr><td>max absolute_mcc</td>\n",
       "<td>0.1888575</td>\n",
       "<td>0.6043482</td>\n",
       "<td>274.0</td></tr>\n",
       "<tr><td>max min_per_class_accuracy</td>\n",
       "<td>0.0805557</td>\n",
       "<td>0.8799357</td>\n",
       "<td>332.0</td></tr>\n",
       "<tr><td>max mean_per_class_accuracy</td>\n",
       "<td>0.0588185</td>\n",
       "<td>0.8879669</td>\n",
       "<td>348.0</td></tr></table></div>"
      ],
      "text/plain": [
       "metric                       threshold    value     idx\n",
       "---------------------------  -----------  --------  -----\n",
       "max f1                       0.188857     0.646526  274\n",
       "max f2                       0.063379     0.758736  344\n",
       "max f0point5                 0.444187     0.617441  182\n",
       "max accuracy                 0.444187     0.91533   182\n",
       "max precision                0.962606     1         0\n",
       "max recall                   0.0212578    1         397\n",
       "max specificity              0.962606     1         0\n",
       "max absolute_mcc             0.188857     0.604348  274\n",
       "max min_per_class_accuracy   0.0805557    0.879936  332\n",
       "max mean_per_class_accuracy  0.0588185    0.887967  348"
      ]
     },
     "metadata": {},
     "output_type": "display_data"
    },
    {
     "name": "stdout",
     "output_type": "stream",
     "text": [
      "Gains/Lift Table: Avg response rate: 11.09 %\n",
      "\n"
     ]
    },
    {
     "data": {
      "text/html": [
       "<div style=\"overflow:auto\"><table style=\"width:50%\"><tr><td><b></b></td>\n",
       "<td><b>group</b></td>\n",
       "<td><b>cumulative_data_fraction</b></td>\n",
       "<td><b>lower_threshold</b></td>\n",
       "<td><b>lift</b></td>\n",
       "<td><b>cumulative_lift</b></td>\n",
       "<td><b>response_rate</b></td>\n",
       "<td><b>cumulative_response_rate</b></td>\n",
       "<td><b>capture_rate</b></td>\n",
       "<td><b>cumulative_capture_rate</b></td>\n",
       "<td><b>gain</b></td>\n",
       "<td><b>cumulative_gain</b></td></tr>\n",
       "<tr><td></td>\n",
       "<td>1</td>\n",
       "<td>0.0100079</td>\n",
       "<td>0.9139481</td>\n",
       "<td>7.0144858</td>\n",
       "<td>7.0144858</td>\n",
       "<td>0.7777778</td>\n",
       "<td>0.7777778</td>\n",
       "<td>0.0702006</td>\n",
       "<td>0.0702006</td>\n",
       "<td>601.4485833</td>\n",
       "<td>601.4485833</td></tr>\n",
       "<tr><td></td>\n",
       "<td>2</td>\n",
       "<td>0.0200159</td>\n",
       "<td>0.8688640</td>\n",
       "<td>7.0144858</td>\n",
       "<td>7.0144858</td>\n",
       "<td>0.7777778</td>\n",
       "<td>0.7777778</td>\n",
       "<td>0.0702006</td>\n",
       "<td>0.1404011</td>\n",
       "<td>601.4485833</td>\n",
       "<td>601.4485833</td></tr>\n",
       "<tr><td></td>\n",
       "<td>3</td>\n",
       "<td>0.0300238</td>\n",
       "<td>0.8283187</td>\n",
       "<td>5.8692637</td>\n",
       "<td>6.6327451</td>\n",
       "<td>0.6507937</td>\n",
       "<td>0.7354497</td>\n",
       "<td>0.0587393</td>\n",
       "<td>0.1991404</td>\n",
       "<td>486.9263656</td>\n",
       "<td>563.2745107</td></tr>\n",
       "<tr><td></td>\n",
       "<td>4</td>\n",
       "<td>0.0400318</td>\n",
       "<td>0.7675084</td>\n",
       "<td>7.0144858</td>\n",
       "<td>6.7281803</td>\n",
       "<td>0.7777778</td>\n",
       "<td>0.7460317</td>\n",
       "<td>0.0702006</td>\n",
       "<td>0.2693410</td>\n",
       "<td>601.4485833</td>\n",
       "<td>572.8180288</td></tr>\n",
       "<tr><td></td>\n",
       "<td>5</td>\n",
       "<td>0.0500397</td>\n",
       "<td>0.7152106</td>\n",
       "<td>5.2966526</td>\n",
       "<td>6.4418747</td>\n",
       "<td>0.5873016</td>\n",
       "<td>0.7142857</td>\n",
       "<td>0.0530086</td>\n",
       "<td>0.3223496</td>\n",
       "<td>429.6652567</td>\n",
       "<td>544.1874744</td></tr>\n",
       "<tr><td></td>\n",
       "<td>6</td>\n",
       "<td>0.1000794</td>\n",
       "<td>0.4250364</td>\n",
       "<td>4.8671943</td>\n",
       "<td>5.6545345</td>\n",
       "<td>0.5396825</td>\n",
       "<td>0.6269841</td>\n",
       "<td>0.2435530</td>\n",
       "<td>0.5659026</td>\n",
       "<td>386.7194251</td>\n",
       "<td>465.4534498</td></tr>\n",
       "<tr><td></td>\n",
       "<td>7</td>\n",
       "<td>0.1501191</td>\n",
       "<td>0.1951180</td>\n",
       "<td>3.8651248</td>\n",
       "<td>5.0580646</td>\n",
       "<td>0.4285714</td>\n",
       "<td>0.5608466</td>\n",
       "<td>0.1934097</td>\n",
       "<td>0.7593123</td>\n",
       "<td>286.5124847</td>\n",
       "<td>405.8064614</td></tr>\n",
       "<tr><td></td>\n",
       "<td>8</td>\n",
       "<td>0.2</td>\n",
       "<td>0.0875343</td>\n",
       "<td>2.2977388</td>\n",
       "<td>4.3696275</td>\n",
       "<td>0.2547771</td>\n",
       "<td>0.4845115</td>\n",
       "<td>0.1146132</td>\n",
       "<td>0.8739255</td>\n",
       "<td>129.7738762</td>\n",
       "<td>336.9627507</td></tr>\n",
       "<tr><td></td>\n",
       "<td>9</td>\n",
       "<td>0.3000794</td>\n",
       "<td>0.0310822</td>\n",
       "<td>0.9304930</td>\n",
       "<td>3.2226425</td>\n",
       "<td>0.1031746</td>\n",
       "<td>0.3573319</td>\n",
       "<td>0.0931232</td>\n",
       "<td>0.9670487</td>\n",
       "<td>-6.9506981</td>\n",
       "<td>222.2642474</td></tr>\n",
       "<tr><td></td>\n",
       "<td>10</td>\n",
       "<td>0.4</td>\n",
       "<td>0.0236191</td>\n",
       "<td>0.2294086</td>\n",
       "<td>2.4749284</td>\n",
       "<td>0.0254372</td>\n",
       "<td>0.2744241</td>\n",
       "<td>0.0229226</td>\n",
       "<td>0.9899713</td>\n",
       "<td>-77.0591424</td>\n",
       "<td>147.4928367</td></tr>\n",
       "<tr><td></td>\n",
       "<td>11</td>\n",
       "<td>0.5000794</td>\n",
       "<td>0.0221021</td>\n",
       "<td>0.0572611</td>\n",
       "<td>1.9910877</td>\n",
       "<td>0.0063492</td>\n",
       "<td>0.2207751</td>\n",
       "<td>0.0057307</td>\n",
       "<td>0.9957020</td>\n",
       "<td>-94.2738891</td>\n",
       "<td>99.1087715</td></tr>\n",
       "<tr><td></td>\n",
       "<td>12</td>\n",
       "<td>0.6</td>\n",
       "<td>0.0215304</td>\n",
       "<td>0.0286761</td>\n",
       "<td>1.6642789</td>\n",
       "<td>0.0031797</td>\n",
       "<td>0.1845380</td>\n",
       "<td>0.0028653</td>\n",
       "<td>0.9985673</td>\n",
       "<td>-97.1323928</td>\n",
       "<td>66.4278892</td></tr>\n",
       "<tr><td></td>\n",
       "<td>13</td>\n",
       "<td>0.6999206</td>\n",
       "<td>0.0213033</td>\n",
       "<td>0.0</td>\n",
       "<td>1.4266866</td>\n",
       "<td>0.0</td>\n",
       "<td>0.1581934</td>\n",
       "<td>0.0</td>\n",
       "<td>0.9985673</td>\n",
       "<td>-100.0</td>\n",
       "<td>42.6686649</td></tr>\n",
       "<tr><td></td>\n",
       "<td>14</td>\n",
       "<td>0.8</td>\n",
       "<td>0.0211898</td>\n",
       "<td>0.0143153</td>\n",
       "<td>1.25</td>\n",
       "<td>0.0015873</td>\n",
       "<td>0.1386021</td>\n",
       "<td>0.0014327</td>\n",
       "<td>1.0</td>\n",
       "<td>-98.5684723</td>\n",
       "<td>25.0</td></tr>\n",
       "<tr><td></td>\n",
       "<td>15</td>\n",
       "<td>0.8999206</td>\n",
       "<td>0.0211066</td>\n",
       "<td>0.0</td>\n",
       "<td>1.1112092</td>\n",
       "<td>0.0</td>\n",
       "<td>0.1232127</td>\n",
       "<td>0.0</td>\n",
       "<td>1.0</td>\n",
       "<td>-100.0</td>\n",
       "<td>11.1209179</td></tr>\n",
       "<tr><td></td>\n",
       "<td>16</td>\n",
       "<td>1.0</td>\n",
       "<td>0.0208606</td>\n",
       "<td>0.0</td>\n",
       "<td>1.0</td>\n",
       "<td>0.0</td>\n",
       "<td>0.1108817</td>\n",
       "<td>0.0</td>\n",
       "<td>1.0</td>\n",
       "<td>-100.0</td>\n",
       "<td>0.0</td></tr></table></div>"
      ],
      "text/plain": [
       "    group    cumulative_data_fraction    lower_threshold    lift       cumulative_lift    response_rate    cumulative_response_rate    capture_rate    cumulative_capture_rate    gain      cumulative_gain\n",
       "--  -------  --------------------------  -----------------  ---------  -----------------  ---------------  --------------------------  --------------  -------------------------  --------  -----------------\n",
       "    1        0.0100079                   0.913948           7.01449    7.01449            0.777778         0.777778                    0.0702006       0.0702006                  601.449   601.449\n",
       "    2        0.0200159                   0.868864           7.01449    7.01449            0.777778         0.777778                    0.0702006       0.140401                   601.449   601.449\n",
       "    3        0.0300238                   0.828319           5.86926    6.63275            0.650794         0.73545                     0.0587393       0.19914                    486.926   563.275\n",
       "    4        0.0400318                   0.767508           7.01449    6.72818            0.777778         0.746032                    0.0702006       0.269341                   601.449   572.818\n",
       "    5        0.0500397                   0.715211           5.29665    6.44187            0.587302         0.714286                    0.0530086       0.32235                    429.665   544.187\n",
       "    6        0.100079                    0.425036           4.86719    5.65453            0.539683         0.626984                    0.243553        0.565903                   386.719   465.453\n",
       "    7        0.150119                    0.195118           3.86512    5.05806            0.428571         0.560847                    0.19341         0.759312                   286.512   405.806\n",
       "    8        0.2                         0.0875343          2.29774    4.36963            0.254777         0.484512                    0.114613        0.873926                   129.774   336.963\n",
       "    9        0.300079                    0.0310822          0.930493   3.22264            0.103175         0.357332                    0.0931232       0.967049                   -6.9507   222.264\n",
       "    10       0.4                         0.0236191          0.229409   2.47493            0.0254372        0.274424                    0.0229226       0.989971                   -77.0591  147.493\n",
       "    11       0.500079                    0.0221021          0.0572611  1.99109            0.00634921       0.220775                    0.00573066      0.995702                   -94.2739  99.1088\n",
       "    12       0.6                         0.0215304          0.0286761  1.66428            0.00317965       0.184538                    0.00286533      0.998567                   -97.1324  66.4279\n",
       "    13       0.699921                    0.0213033          0          1.42669            0                0.158193                    0               0.998567                   -100      42.6687\n",
       "    14       0.8                         0.0211898          0.0143153  1.25               0.0015873        0.138602                    0.00143266      1                          -98.5685  25\n",
       "    15       0.899921                    0.0211066          0          1.11121            0                0.123213                    0               1                          -100      11.1209\n",
       "    16       1                           0.0208606          0          1                  0                0.110882                    0               1                          -100      0"
      ]
     },
     "metadata": {},
     "output_type": "display_data"
    },
    {
     "name": "stdout",
     "output_type": "stream",
     "text": [
      "\n"
     ]
    },
    {
     "data": {
      "text/plain": []
     },
     "execution_count": 93,
     "metadata": {},
     "output_type": "execute_result"
    }
   ],
   "source": [
    "aml.leader"
   ]
  },
  {
   "cell_type": "code",
   "execution_count": 82,
   "metadata": {},
   "outputs": [],
   "source": [
    "# Start best model as first model\n",
    "model_set=aml_leaderboard_df['model_id']\n",
    "mod_best=h2o.get_model(model_set[0])"
   ]
  },
  {
   "cell_type": "code",
   "execution_count": 83,
   "metadata": {},
   "outputs": [
    {
     "data": {
      "text/plain": [
       "'StackedEnsemble_0_AutoML_20190414_165814'"
      ]
     },
     "execution_count": 83,
     "metadata": {},
     "output_type": "execute_result"
    }
   ],
   "source": [
    "mod_best._id"
   ]
  },
  {
   "cell_type": "code",
   "execution_count": 85,
   "metadata": {},
   "outputs": [],
   "source": [
    "# Get stacked ensemble  \n",
    "se=get_stacked_ensemble(model_set)"
   ]
  },
  {
   "cell_type": "code",
   "execution_count": 86,
   "metadata": {},
   "outputs": [
    {
     "name": "stdout",
     "output_type": "stream",
     "text": [
      "None\n"
     ]
    }
   ],
   "source": [
    "print(se)"
   ]
  },
  {
   "cell_type": "code",
   "execution_count": 87,
   "metadata": {},
   "outputs": [],
   "source": [
    "if se is not None:\n",
    "  mod_best=h2o.get_model(se)"
   ]
  },
  {
   "cell_type": "code",
   "execution_count": 88,
   "metadata": {},
   "outputs": [
    {
     "data": {
      "text/plain": [
       "['F0point5',\n",
       " 'F1',\n",
       " 'F2',\n",
       " '__class__',\n",
       " '__delattr__',\n",
       " '__dict__',\n",
       " '__dir__',\n",
       " '__doc__',\n",
       " '__eq__',\n",
       " '__format__',\n",
       " '__ge__',\n",
       " '__getattr__',\n",
       " '__getattribute__',\n",
       " '__gt__',\n",
       " '__hash__',\n",
       " '__init__',\n",
       " '__init_subclass__',\n",
       " '__le__',\n",
       " '__lt__',\n",
       " '__module__',\n",
       " '__ne__',\n",
       " '__new__',\n",
       " '__reduce__',\n",
       " '__reduce_ex__',\n",
       " '__repr__',\n",
       " '__setattr__',\n",
       " '__sizeof__',\n",
       " '__str__',\n",
       " '__subclasshook__',\n",
       " '__weakref__',\n",
       " '_bc',\n",
       " '_bcin',\n",
       " '_check_targets',\n",
       " '_compute_algo',\n",
       " '_estimator_type',\n",
       " '_future',\n",
       " '_get_metrics',\n",
       " '_id',\n",
       " '_is_xvalidated',\n",
       " '_job',\n",
       " '_keyify_if_h2oframe',\n",
       " '_metrics_class',\n",
       " '_model_json',\n",
       " '_parms',\n",
       " '_plot',\n",
       " '_resolve_model',\n",
       " '_xval_keys',\n",
       " 'accuracy',\n",
       " 'actual_params',\n",
       " 'aic',\n",
       " 'algo',\n",
       " 'auc',\n",
       " 'base_models',\n",
       " 'biases',\n",
       " 'catoffsets',\n",
       " 'coef',\n",
       " 'coef_norm',\n",
       " 'confusion_matrix',\n",
       " 'cross_validation_fold_assignment',\n",
       " 'cross_validation_holdout_predictions',\n",
       " 'cross_validation_metrics_summary',\n",
       " 'cross_validation_models',\n",
       " 'cross_validation_predictions',\n",
       " 'deepfeatures',\n",
       " 'default_params',\n",
       " 'download_mojo',\n",
       " 'download_pojo',\n",
       " 'error',\n",
       " 'fallout',\n",
       " 'find_idx_by_threshold',\n",
       " 'find_threshold_by_max_metric',\n",
       " 'fit',\n",
       " 'fnr',\n",
       " 'fpr',\n",
       " 'full_parameters',\n",
       " 'gains_lift',\n",
       " 'get_params',\n",
       " 'get_xval_models',\n",
       " 'gini',\n",
       " 'is_cross_validated',\n",
       " 'join',\n",
       " 'logloss',\n",
       " 'mae',\n",
       " 'max_per_class_error',\n",
       " 'mcc',\n",
       " 'mean_per_class_error',\n",
       " 'mean_residual_deviance',\n",
       " 'metalearner',\n",
       " 'metric',\n",
       " 'missrate',\n",
       " 'mixin',\n",
       " 'model_id',\n",
       " 'model_performance',\n",
       " 'mse',\n",
       " 'normmul',\n",
       " 'normsub',\n",
       " 'null_degrees_of_freedom',\n",
       " 'null_deviance',\n",
       " 'params',\n",
       " 'parms',\n",
       " 'partial_plot',\n",
       " 'plot',\n",
       " 'pprint_coef',\n",
       " 'precision',\n",
       " 'predict',\n",
       " 'predict_leaf_node_assignment',\n",
       " 'r2',\n",
       " 'recall',\n",
       " 'residual_degrees_of_freedom',\n",
       " 'residual_deviance',\n",
       " 'respmul',\n",
       " 'response_column',\n",
       " 'respsub',\n",
       " 'rmse',\n",
       " 'rmsle',\n",
       " 'roc',\n",
       " 'rotation',\n",
       " 'save_model_details',\n",
       " 'save_mojo',\n",
       " 'score_history',\n",
       " 'scoring_history',\n",
       " 'sensitivity',\n",
       " 'set_params',\n",
       " 'show',\n",
       " 'specificity',\n",
       " 'start',\n",
       " 'std_coef_plot',\n",
       " 'summary',\n",
       " 'tnr',\n",
       " 'tpr',\n",
       " 'train',\n",
       " 'training_frame',\n",
       " 'type',\n",
       " 'validation_frame',\n",
       " 'varimp',\n",
       " 'varimp_plot',\n",
       " 'weights',\n",
       " 'xval_keys',\n",
       " 'xvals']"
      ]
     },
     "execution_count": 88,
     "metadata": {},
     "output_type": "execute_result"
    }
   ],
   "source": [
    "dir(mod_best)"
   ]
  },
  {
   "cell_type": "code",
   "execution_count": 89,
   "metadata": {},
   "outputs": [
    {
     "data": {
      "text/plain": [
       "'StackedEnsemble_0_AutoML_20190414_165814'"
      ]
     },
     "execution_count": 89,
     "metadata": {},
     "output_type": "execute_result"
    }
   ],
   "source": [
    "mod_best._id"
   ]
  },
  {
   "cell_type": "code",
   "execution_count": 90,
   "metadata": {},
   "outputs": [
    {
     "data": {
      "text/plain": [
       "<function h2o.model.model_base.ModelBase._get_metrics(o, train, valid, xval)>"
      ]
     },
     "execution_count": 90,
     "metadata": {},
     "output_type": "execute_result"
    }
   ],
   "source": [
    "mod_best._get_metrics"
   ]
  },
  {
   "cell_type": "code",
   "execution_count": 91,
   "metadata": {},
   "outputs": [
    {
     "data": {
      "text/plain": [
       "h2o.estimators.stackedensemble.H2OStackedEnsembleEstimator"
      ]
     },
     "execution_count": 91,
     "metadata": {},
     "output_type": "execute_result"
    }
   ],
   "source": [
    "type(mod_best)"
   ]
  },
  {
   "cell_type": "code",
   "execution_count": 92,
   "metadata": {
    "scrolled": false
   },
   "outputs": [
    {
     "name": "stdout",
     "output_type": "stream",
     "text": [
      "Model Details\n",
      "=============\n",
      "H2OStackedEnsembleEstimator :  Stacked Ensemble\n",
      "Model Key:  StackedEnsemble_0_AutoML_20190414_165814\n",
      "No model summary for this model\n",
      "\n",
      "\n",
      "ModelMetricsBinomialGLM: stackedensemble\n",
      "** Reported on train data. **\n",
      "\n",
      "MSE: 0.019670819107014806\n",
      "RMSE: 0.1402526973252736\n",
      "LogLoss: 0.08482817566834952\n",
      "Null degrees of freedom: 28866\n",
      "Residual degrees of freedom: 28859\n",
      "Null deviance: 20274.49632184981\n",
      "Residual deviance: 4897.469894036491\n",
      "AIC: 4913.469894036491\n",
      "AUC: 0.9959589965155384\n",
      "Gini: 0.9919179930310769\n",
      "Confusion Matrix (Act/Pred) for max f1 @ threshold = 0.40794870655508936: \n"
     ]
    },
    {
     "data": {
      "text/html": [
       "<div style=\"overflow:auto\"><table style=\"width:50%\"><tr><td><b></b></td>\n",
       "<td><b>no</b></td>\n",
       "<td><b>yes</b></td>\n",
       "<td><b>Error</b></td>\n",
       "<td><b>Rate</b></td></tr>\n",
       "<tr><td>no</td>\n",
       "<td>25446.0</td>\n",
       "<td>181.0</td>\n",
       "<td>0.0071</td>\n",
       "<td> (181.0/25627.0)</td></tr>\n",
       "<tr><td>yes</td>\n",
       "<td>435.0</td>\n",
       "<td>2805.0</td>\n",
       "<td>0.1343</td>\n",
       "<td> (435.0/3240.0)</td></tr>\n",
       "<tr><td>Total</td>\n",
       "<td>25881.0</td>\n",
       "<td>2986.0</td>\n",
       "<td>0.0213</td>\n",
       "<td> (616.0/28867.0)</td></tr></table></div>"
      ],
      "text/plain": [
       "       no     yes    Error    Rate\n",
       "-----  -----  -----  -------  ---------------\n",
       "no     25446  181    0.0071   (181.0/25627.0)\n",
       "yes    435    2805   0.1343   (435.0/3240.0)\n",
       "Total  25881  2986   0.0213   (616.0/28867.0)"
      ]
     },
     "metadata": {},
     "output_type": "display_data"
    },
    {
     "name": "stdout",
     "output_type": "stream",
     "text": [
      "Maximum Metrics: Maximum metrics at their respective thresholds\n",
      "\n"
     ]
    },
    {
     "data": {
      "text/html": [
       "<div style=\"overflow:auto\"><table style=\"width:50%\"><tr><td><b>metric</b></td>\n",
       "<td><b>threshold</b></td>\n",
       "<td><b>value</b></td>\n",
       "<td><b>idx</b></td></tr>\n",
       "<tr><td>max f1</td>\n",
       "<td>0.4079487</td>\n",
       "<td>0.9010601</td>\n",
       "<td>207.0</td></tr>\n",
       "<tr><td>max f2</td>\n",
       "<td>0.2017603</td>\n",
       "<td>0.9207169</td>\n",
       "<td>278.0</td></tr>\n",
       "<tr><td>max f0point5</td>\n",
       "<td>0.4968698</td>\n",
       "<td>0.9361641</td>\n",
       "<td>179.0</td></tr>\n",
       "<tr><td>max accuracy</td>\n",
       "<td>0.4079487</td>\n",
       "<td>0.9786608</td>\n",
       "<td>207.0</td></tr>\n",
       "<tr><td>max precision</td>\n",
       "<td>0.9683091</td>\n",
       "<td>1.0</td>\n",
       "<td>0.0</td></tr>\n",
       "<tr><td>max recall</td>\n",
       "<td>0.0526121</td>\n",
       "<td>1.0</td>\n",
       "<td>357.0</td></tr>\n",
       "<tr><td>max specificity</td>\n",
       "<td>0.9683091</td>\n",
       "<td>1.0</td>\n",
       "<td>0.0</td></tr>\n",
       "<tr><td>max absolute_mcc</td>\n",
       "<td>0.4079487</td>\n",
       "<td>0.8900538</td>\n",
       "<td>207.0</td></tr>\n",
       "<tr><td>max min_per_class_accuracy</td>\n",
       "<td>0.1804360</td>\n",
       "<td>0.9640223</td>\n",
       "<td>288.0</td></tr>\n",
       "<tr><td>max mean_per_class_accuracy</td>\n",
       "<td>0.1601973</td>\n",
       "<td>0.9670103</td>\n",
       "<td>298.0</td></tr></table></div>"
      ],
      "text/plain": [
       "metric                       threshold    value     idx\n",
       "---------------------------  -----------  --------  -----\n",
       "max f1                       0.407949     0.90106   207\n",
       "max f2                       0.20176      0.920717  278\n",
       "max f0point5                 0.49687      0.936164  179\n",
       "max accuracy                 0.407949     0.978661  207\n",
       "max precision                0.968309     1         0\n",
       "max recall                   0.0526121    1         357\n",
       "max specificity              0.968309     1         0\n",
       "max absolute_mcc             0.407949     0.890054  207\n",
       "max min_per_class_accuracy   0.180436     0.964022  288\n",
       "max mean_per_class_accuracy  0.160197     0.96701   298"
      ]
     },
     "metadata": {},
     "output_type": "display_data"
    },
    {
     "name": "stdout",
     "output_type": "stream",
     "text": [
      "Gains/Lift Table: Avg response rate: 11.22 %\n",
      "\n"
     ]
    },
    {
     "data": {
      "text/html": [
       "<div style=\"overflow:auto\"><table style=\"width:50%\"><tr><td><b></b></td>\n",
       "<td><b>group</b></td>\n",
       "<td><b>cumulative_data_fraction</b></td>\n",
       "<td><b>lower_threshold</b></td>\n",
       "<td><b>lift</b></td>\n",
       "<td><b>cumulative_lift</b></td>\n",
       "<td><b>response_rate</b></td>\n",
       "<td><b>cumulative_response_rate</b></td>\n",
       "<td><b>capture_rate</b></td>\n",
       "<td><b>cumulative_capture_rate</b></td>\n",
       "<td><b>gain</b></td>\n",
       "<td><b>cumulative_gain</b></td></tr>\n",
       "<tr><td></td>\n",
       "<td>1</td>\n",
       "<td>0.0100114</td>\n",
       "<td>0.9487044</td>\n",
       "<td>8.9095679</td>\n",
       "<td>8.9095679</td>\n",
       "<td>1.0</td>\n",
       "<td>1.0</td>\n",
       "<td>0.0891975</td>\n",
       "<td>0.0891975</td>\n",
       "<td>790.9567901</td>\n",
       "<td>790.9567901</td></tr>\n",
       "<tr><td></td>\n",
       "<td>2</td>\n",
       "<td>0.0200229</td>\n",
       "<td>0.9281627</td>\n",
       "<td>8.9095679</td>\n",
       "<td>8.9095679</td>\n",
       "<td>1.0</td>\n",
       "<td>1.0</td>\n",
       "<td>0.0891975</td>\n",
       "<td>0.1783951</td>\n",
       "<td>790.9567901</td>\n",
       "<td>790.9567901</td></tr>\n",
       "<tr><td></td>\n",
       "<td>3</td>\n",
       "<td>0.0299997</td>\n",
       "<td>0.9011633</td>\n",
       "<td>8.9095679</td>\n",
       "<td>8.9095679</td>\n",
       "<td>1.0</td>\n",
       "<td>1.0</td>\n",
       "<td>0.0888889</td>\n",
       "<td>0.2672840</td>\n",
       "<td>790.9567901</td>\n",
       "<td>790.9567901</td></tr>\n",
       "<tr><td></td>\n",
       "<td>4</td>\n",
       "<td>0.0400111</td>\n",
       "<td>0.8732408</td>\n",
       "<td>8.9095679</td>\n",
       "<td>8.9095679</td>\n",
       "<td>1.0</td>\n",
       "<td>1.0</td>\n",
       "<td>0.0891975</td>\n",
       "<td>0.3564815</td>\n",
       "<td>790.9567901</td>\n",
       "<td>790.9567901</td></tr>\n",
       "<tr><td></td>\n",
       "<td>5</td>\n",
       "<td>0.0500225</td>\n",
       "<td>0.8365206</td>\n",
       "<td>8.9095679</td>\n",
       "<td>8.9095679</td>\n",
       "<td>1.0</td>\n",
       "<td>1.0</td>\n",
       "<td>0.0891975</td>\n",
       "<td>0.4456790</td>\n",
       "<td>790.9567901</td>\n",
       "<td>790.9567901</td></tr>\n",
       "<tr><td></td>\n",
       "<td>6</td>\n",
       "<td>0.1000104</td>\n",
       "<td>0.4350178</td>\n",
       "<td>8.0389864</td>\n",
       "<td>8.4744279</td>\n",
       "<td>0.9022869</td>\n",
       "<td>0.9511604</td>\n",
       "<td>0.4018519</td>\n",
       "<td>0.8475309</td>\n",
       "<td>703.8986422</td>\n",
       "<td>747.4427938</td></tr>\n",
       "<tr><td></td>\n",
       "<td>7</td>\n",
       "<td>0.1499983</td>\n",
       "<td>0.1467450</td>\n",
       "<td>2.6179188</td>\n",
       "<td>6.5227091</td>\n",
       "<td>0.2938323</td>\n",
       "<td>0.7321016</td>\n",
       "<td>0.1308642</td>\n",
       "<td>0.9783951</td>\n",
       "<td>161.7918773</td>\n",
       "<td>552.2709064</td></tr>\n",
       "<tr><td></td>\n",
       "<td>8</td>\n",
       "<td>0.2000208</td>\n",
       "<td>0.0607187</td>\n",
       "<td>0.4257342</td>\n",
       "<td>4.9979374</td>\n",
       "<td>0.0477839</td>\n",
       "<td>0.5609629</td>\n",
       "<td>0.0212963</td>\n",
       "<td>0.9996914</td>\n",
       "<td>-57.4265800</td>\n",
       "<td>399.7937380</td></tr>\n",
       "<tr><td></td>\n",
       "<td>9</td>\n",
       "<td>0.2999965</td>\n",
       "<td>0.0280605</td>\n",
       "<td>0.0030872</td>\n",
       "<td>3.3333718</td>\n",
       "<td>0.0003465</td>\n",
       "<td>0.3741339</td>\n",
       "<td>0.0003086</td>\n",
       "<td>1.0</td>\n",
       "<td>-99.6912832</td>\n",
       "<td>233.3371824</td></tr>\n",
       "<tr><td></td>\n",
       "<td>10</td>\n",
       "<td>0.4000069</td>\n",
       "<td>0.0229348</td>\n",
       "<td>0.0</td>\n",
       "<td>2.4999567</td>\n",
       "<td>0.0</td>\n",
       "<td>0.2805924</td>\n",
       "<td>0.0</td>\n",
       "<td>1.0</td>\n",
       "<td>-100.0</td>\n",
       "<td>149.9956699</td></tr>\n",
       "<tr><td></td>\n",
       "<td>11</td>\n",
       "<td>0.5000173</td>\n",
       "<td>0.0218123</td>\n",
       "<td>0.0</td>\n",
       "<td>1.9999307</td>\n",
       "<td>0.0</td>\n",
       "<td>0.2244700</td>\n",
       "<td>0.0</td>\n",
       "<td>1.0</td>\n",
       "<td>-100.0</td>\n",
       "<td>99.9930719</td></tr>\n",
       "<tr><td></td>\n",
       "<td>12</td>\n",
       "<td>0.5999931</td>\n",
       "<td>0.0214185</td>\n",
       "<td>0.0</td>\n",
       "<td>1.6666859</td>\n",
       "<td>0.0</td>\n",
       "<td>0.1870670</td>\n",
       "<td>0.0</td>\n",
       "<td>1.0</td>\n",
       "<td>-100.0</td>\n",
       "<td>66.6685912</td></tr>\n",
       "<tr><td></td>\n",
       "<td>13</td>\n",
       "<td>0.7000035</td>\n",
       "<td>0.0212685</td>\n",
       "<td>0.0</td>\n",
       "<td>1.4285644</td>\n",
       "<td>0.0</td>\n",
       "<td>0.1603405</td>\n",
       "<td>0.0</td>\n",
       "<td>1.0</td>\n",
       "<td>-100.0</td>\n",
       "<td>42.8564359</td></tr>\n",
       "<tr><td></td>\n",
       "<td>14</td>\n",
       "<td>0.7999792</td>\n",
       "<td>0.0211776</td>\n",
       "<td>0.0</td>\n",
       "<td>1.2500325</td>\n",
       "<td>0.0</td>\n",
       "<td>0.1403023</td>\n",
       "<td>0.0</td>\n",
       "<td>1.0</td>\n",
       "<td>-100.0</td>\n",
       "<td>25.0032477</td></tr>\n",
       "<tr><td></td>\n",
       "<td>15</td>\n",
       "<td>0.8999896</td>\n",
       "<td>0.0211004</td>\n",
       "<td>0.0</td>\n",
       "<td>1.1111239</td>\n",
       "<td>0.0</td>\n",
       "<td>0.1247113</td>\n",
       "<td>0.0</td>\n",
       "<td>1.0</td>\n",
       "<td>-100.0</td>\n",
       "<td>11.1123941</td></tr>\n",
       "<tr><td></td>\n",
       "<td>16</td>\n",
       "<td>1.0</td>\n",
       "<td>0.0208425</td>\n",
       "<td>0.0</td>\n",
       "<td>1.0</td>\n",
       "<td>0.0</td>\n",
       "<td>0.1122389</td>\n",
       "<td>0.0</td>\n",
       "<td>1.0</td>\n",
       "<td>-100.0</td>\n",
       "<td>0.0</td></tr></table></div>"
      ],
      "text/plain": [
       "    group    cumulative_data_fraction    lower_threshold    lift        cumulative_lift    response_rate    cumulative_response_rate    capture_rate    cumulative_capture_rate    gain      cumulative_gain\n",
       "--  -------  --------------------------  -----------------  ----------  -----------------  ---------------  --------------------------  --------------  -------------------------  --------  -----------------\n",
       "    1        0.0100114                   0.948704           8.90957     8.90957            1                1                           0.0891975       0.0891975                  790.957   790.957\n",
       "    2        0.0200229                   0.928163           8.90957     8.90957            1                1                           0.0891975       0.178395                   790.957   790.957\n",
       "    3        0.0299997                   0.901163           8.90957     8.90957            1                1                           0.0888889       0.267284                   790.957   790.957\n",
       "    4        0.0400111                   0.873241           8.90957     8.90957            1                1                           0.0891975       0.356481                   790.957   790.957\n",
       "    5        0.0500225                   0.836521           8.90957     8.90957            1                1                           0.0891975       0.445679                   790.957   790.957\n",
       "    6        0.10001                     0.435018           8.03899     8.47443            0.902287         0.95116                     0.401852        0.847531                   703.899   747.443\n",
       "    7        0.149998                    0.146745           2.61792     6.52271            0.293832         0.732102                    0.130864        0.978395                   161.792   552.271\n",
       "    8        0.200021                    0.0607187          0.425734    4.99794            0.0477839        0.560963                    0.0212963       0.999691                   -57.4266  399.794\n",
       "    9        0.299997                    0.0280605          0.00308717  3.33337            0.0003465        0.374134                    0.000308642     1                          -99.6913  233.337\n",
       "    10       0.400007                    0.0229348          0           2.49996            0                0.280592                    0               1                          -100      149.996\n",
       "    11       0.500017                    0.0218123          0           1.99993            0                0.22447                     0               1                          -100      99.9931\n",
       "    12       0.599993                    0.0214185          0           1.66669            0                0.187067                    0               1                          -100      66.6686\n",
       "    13       0.700003                    0.0212685          0           1.42856            0                0.16034                     0               1                          -100      42.8564\n",
       "    14       0.799979                    0.0211776          0           1.25003            0                0.140302                    0               1                          -100      25.0032\n",
       "    15       0.89999                     0.0211004          0           1.11112            0                0.124711                    0               1                          -100      11.1124\n",
       "    16       1                           0.0208425          0           1                  0                0.112239                    0               1                          -100      0"
      ]
     },
     "metadata": {},
     "output_type": "display_data"
    },
    {
     "name": "stdout",
     "output_type": "stream",
     "text": [
      "\n",
      "\n",
      "ModelMetricsBinomialGLM: stackedensemble\n",
      "** Reported on validation data. **\n",
      "\n",
      "MSE: 0.060488525236920096\n",
      "RMSE: 0.24594415064587347\n",
      "LogLoss: 0.19959969420142512\n",
      "Null degrees of freedom: 6294\n",
      "Residual degrees of freedom: 6287\n",
      "Null deviance: 4385.902242623728\n",
      "Residual deviance: 2512.960149995942\n",
      "AIC: 2528.960149995942\n",
      "AUC: 0.9441573028530942\n",
      "Gini: 0.8883146057061884\n",
      "Confusion Matrix (Act/Pred) for max f1 @ threshold = 0.1888574685512852: \n"
     ]
    },
    {
     "data": {
      "text/html": [
       "<div style=\"overflow:auto\"><table style=\"width:50%\"><tr><td><b></b></td>\n",
       "<td><b>no</b></td>\n",
       "<td><b>yes</b></td>\n",
       "<td><b>Error</b></td>\n",
       "<td><b>Rate</b></td></tr>\n",
       "<tr><td>no</td>\n",
       "<td>5175.0</td>\n",
       "<td>422.0</td>\n",
       "<td>0.0754</td>\n",
       "<td> (422.0/5597.0)</td></tr>\n",
       "<tr><td>yes</td>\n",
       "<td>163.0</td>\n",
       "<td>535.0</td>\n",
       "<td>0.2335</td>\n",
       "<td> (163.0/698.0)</td></tr>\n",
       "<tr><td>Total</td>\n",
       "<td>5338.0</td>\n",
       "<td>957.0</td>\n",
       "<td>0.0929</td>\n",
       "<td> (585.0/6295.0)</td></tr></table></div>"
      ],
      "text/plain": [
       "       no    yes    Error    Rate\n",
       "-----  ----  -----  -------  --------------\n",
       "no     5175  422    0.0754   (422.0/5597.0)\n",
       "yes    163   535    0.2335   (163.0/698.0)\n",
       "Total  5338  957    0.0929   (585.0/6295.0)"
      ]
     },
     "metadata": {},
     "output_type": "display_data"
    },
    {
     "name": "stdout",
     "output_type": "stream",
     "text": [
      "Maximum Metrics: Maximum metrics at their respective thresholds\n",
      "\n"
     ]
    },
    {
     "data": {
      "text/html": [
       "<div style=\"overflow:auto\"><table style=\"width:50%\"><tr><td><b>metric</b></td>\n",
       "<td><b>threshold</b></td>\n",
       "<td><b>value</b></td>\n",
       "<td><b>idx</b></td></tr>\n",
       "<tr><td>max f1</td>\n",
       "<td>0.1888575</td>\n",
       "<td>0.6465257</td>\n",
       "<td>274.0</td></tr>\n",
       "<tr><td>max f2</td>\n",
       "<td>0.0633790</td>\n",
       "<td>0.7587362</td>\n",
       "<td>344.0</td></tr>\n",
       "<tr><td>max f0point5</td>\n",
       "<td>0.4441871</td>\n",
       "<td>0.6174411</td>\n",
       "<td>182.0</td></tr>\n",
       "<tr><td>max accuracy</td>\n",
       "<td>0.4441871</td>\n",
       "<td>0.9153296</td>\n",
       "<td>182.0</td></tr>\n",
       "<tr><td>max precision</td>\n",
       "<td>0.9626059</td>\n",
       "<td>1.0</td>\n",
       "<td>0.0</td></tr>\n",
       "<tr><td>max recall</td>\n",
       "<td>0.0212578</td>\n",
       "<td>1.0</td>\n",
       "<td>397.0</td></tr>\n",
       "<tr><td>max specificity</td>\n",
       "<td>0.9626059</td>\n",
       "<td>1.0</td>\n",
       "<td>0.0</td></tr>\n",
       "<tr><td>max absolute_mcc</td>\n",
       "<td>0.1888575</td>\n",
       "<td>0.6043482</td>\n",
       "<td>274.0</td></tr>\n",
       "<tr><td>max min_per_class_accuracy</td>\n",
       "<td>0.0805557</td>\n",
       "<td>0.8799357</td>\n",
       "<td>332.0</td></tr>\n",
       "<tr><td>max mean_per_class_accuracy</td>\n",
       "<td>0.0588185</td>\n",
       "<td>0.8879669</td>\n",
       "<td>348.0</td></tr></table></div>"
      ],
      "text/plain": [
       "metric                       threshold    value     idx\n",
       "---------------------------  -----------  --------  -----\n",
       "max f1                       0.188857     0.646526  274\n",
       "max f2                       0.063379     0.758736  344\n",
       "max f0point5                 0.444187     0.617441  182\n",
       "max accuracy                 0.444187     0.91533   182\n",
       "max precision                0.962606     1         0\n",
       "max recall                   0.0212578    1         397\n",
       "max specificity              0.962606     1         0\n",
       "max absolute_mcc             0.188857     0.604348  274\n",
       "max min_per_class_accuracy   0.0805557    0.879936  332\n",
       "max mean_per_class_accuracy  0.0588185    0.887967  348"
      ]
     },
     "metadata": {},
     "output_type": "display_data"
    },
    {
     "name": "stdout",
     "output_type": "stream",
     "text": [
      "Gains/Lift Table: Avg response rate: 11.09 %\n",
      "\n"
     ]
    },
    {
     "data": {
      "text/html": [
       "<div style=\"overflow:auto\"><table style=\"width:50%\"><tr><td><b></b></td>\n",
       "<td><b>group</b></td>\n",
       "<td><b>cumulative_data_fraction</b></td>\n",
       "<td><b>lower_threshold</b></td>\n",
       "<td><b>lift</b></td>\n",
       "<td><b>cumulative_lift</b></td>\n",
       "<td><b>response_rate</b></td>\n",
       "<td><b>cumulative_response_rate</b></td>\n",
       "<td><b>capture_rate</b></td>\n",
       "<td><b>cumulative_capture_rate</b></td>\n",
       "<td><b>gain</b></td>\n",
       "<td><b>cumulative_gain</b></td></tr>\n",
       "<tr><td></td>\n",
       "<td>1</td>\n",
       "<td>0.0100079</td>\n",
       "<td>0.9139481</td>\n",
       "<td>7.0144858</td>\n",
       "<td>7.0144858</td>\n",
       "<td>0.7777778</td>\n",
       "<td>0.7777778</td>\n",
       "<td>0.0702006</td>\n",
       "<td>0.0702006</td>\n",
       "<td>601.4485833</td>\n",
       "<td>601.4485833</td></tr>\n",
       "<tr><td></td>\n",
       "<td>2</td>\n",
       "<td>0.0200159</td>\n",
       "<td>0.8688640</td>\n",
       "<td>7.0144858</td>\n",
       "<td>7.0144858</td>\n",
       "<td>0.7777778</td>\n",
       "<td>0.7777778</td>\n",
       "<td>0.0702006</td>\n",
       "<td>0.1404011</td>\n",
       "<td>601.4485833</td>\n",
       "<td>601.4485833</td></tr>\n",
       "<tr><td></td>\n",
       "<td>3</td>\n",
       "<td>0.0300238</td>\n",
       "<td>0.8283187</td>\n",
       "<td>5.8692637</td>\n",
       "<td>6.6327451</td>\n",
       "<td>0.6507937</td>\n",
       "<td>0.7354497</td>\n",
       "<td>0.0587393</td>\n",
       "<td>0.1991404</td>\n",
       "<td>486.9263656</td>\n",
       "<td>563.2745107</td></tr>\n",
       "<tr><td></td>\n",
       "<td>4</td>\n",
       "<td>0.0400318</td>\n",
       "<td>0.7675084</td>\n",
       "<td>7.0144858</td>\n",
       "<td>6.7281803</td>\n",
       "<td>0.7777778</td>\n",
       "<td>0.7460317</td>\n",
       "<td>0.0702006</td>\n",
       "<td>0.2693410</td>\n",
       "<td>601.4485833</td>\n",
       "<td>572.8180288</td></tr>\n",
       "<tr><td></td>\n",
       "<td>5</td>\n",
       "<td>0.0500397</td>\n",
       "<td>0.7152106</td>\n",
       "<td>5.2966526</td>\n",
       "<td>6.4418747</td>\n",
       "<td>0.5873016</td>\n",
       "<td>0.7142857</td>\n",
       "<td>0.0530086</td>\n",
       "<td>0.3223496</td>\n",
       "<td>429.6652567</td>\n",
       "<td>544.1874744</td></tr>\n",
       "<tr><td></td>\n",
       "<td>6</td>\n",
       "<td>0.1000794</td>\n",
       "<td>0.4250364</td>\n",
       "<td>4.8671943</td>\n",
       "<td>5.6545345</td>\n",
       "<td>0.5396825</td>\n",
       "<td>0.6269841</td>\n",
       "<td>0.2435530</td>\n",
       "<td>0.5659026</td>\n",
       "<td>386.7194251</td>\n",
       "<td>465.4534498</td></tr>\n",
       "<tr><td></td>\n",
       "<td>7</td>\n",
       "<td>0.1501191</td>\n",
       "<td>0.1951180</td>\n",
       "<td>3.8651248</td>\n",
       "<td>5.0580646</td>\n",
       "<td>0.4285714</td>\n",
       "<td>0.5608466</td>\n",
       "<td>0.1934097</td>\n",
       "<td>0.7593123</td>\n",
       "<td>286.5124847</td>\n",
       "<td>405.8064614</td></tr>\n",
       "<tr><td></td>\n",
       "<td>8</td>\n",
       "<td>0.2</td>\n",
       "<td>0.0875343</td>\n",
       "<td>2.2977388</td>\n",
       "<td>4.3696275</td>\n",
       "<td>0.2547771</td>\n",
       "<td>0.4845115</td>\n",
       "<td>0.1146132</td>\n",
       "<td>0.8739255</td>\n",
       "<td>129.7738762</td>\n",
       "<td>336.9627507</td></tr>\n",
       "<tr><td></td>\n",
       "<td>9</td>\n",
       "<td>0.3000794</td>\n",
       "<td>0.0310822</td>\n",
       "<td>0.9304930</td>\n",
       "<td>3.2226425</td>\n",
       "<td>0.1031746</td>\n",
       "<td>0.3573319</td>\n",
       "<td>0.0931232</td>\n",
       "<td>0.9670487</td>\n",
       "<td>-6.9506981</td>\n",
       "<td>222.2642474</td></tr>\n",
       "<tr><td></td>\n",
       "<td>10</td>\n",
       "<td>0.4</td>\n",
       "<td>0.0236191</td>\n",
       "<td>0.2294086</td>\n",
       "<td>2.4749284</td>\n",
       "<td>0.0254372</td>\n",
       "<td>0.2744241</td>\n",
       "<td>0.0229226</td>\n",
       "<td>0.9899713</td>\n",
       "<td>-77.0591424</td>\n",
       "<td>147.4928367</td></tr>\n",
       "<tr><td></td>\n",
       "<td>11</td>\n",
       "<td>0.5000794</td>\n",
       "<td>0.0221021</td>\n",
       "<td>0.0572611</td>\n",
       "<td>1.9910877</td>\n",
       "<td>0.0063492</td>\n",
       "<td>0.2207751</td>\n",
       "<td>0.0057307</td>\n",
       "<td>0.9957020</td>\n",
       "<td>-94.2738891</td>\n",
       "<td>99.1087715</td></tr>\n",
       "<tr><td></td>\n",
       "<td>12</td>\n",
       "<td>0.6</td>\n",
       "<td>0.0215304</td>\n",
       "<td>0.0286761</td>\n",
       "<td>1.6642789</td>\n",
       "<td>0.0031797</td>\n",
       "<td>0.1845380</td>\n",
       "<td>0.0028653</td>\n",
       "<td>0.9985673</td>\n",
       "<td>-97.1323928</td>\n",
       "<td>66.4278892</td></tr>\n",
       "<tr><td></td>\n",
       "<td>13</td>\n",
       "<td>0.6999206</td>\n",
       "<td>0.0213033</td>\n",
       "<td>0.0</td>\n",
       "<td>1.4266866</td>\n",
       "<td>0.0</td>\n",
       "<td>0.1581934</td>\n",
       "<td>0.0</td>\n",
       "<td>0.9985673</td>\n",
       "<td>-100.0</td>\n",
       "<td>42.6686649</td></tr>\n",
       "<tr><td></td>\n",
       "<td>14</td>\n",
       "<td>0.8</td>\n",
       "<td>0.0211898</td>\n",
       "<td>0.0143153</td>\n",
       "<td>1.25</td>\n",
       "<td>0.0015873</td>\n",
       "<td>0.1386021</td>\n",
       "<td>0.0014327</td>\n",
       "<td>1.0</td>\n",
       "<td>-98.5684723</td>\n",
       "<td>25.0</td></tr>\n",
       "<tr><td></td>\n",
       "<td>15</td>\n",
       "<td>0.8999206</td>\n",
       "<td>0.0211066</td>\n",
       "<td>0.0</td>\n",
       "<td>1.1112092</td>\n",
       "<td>0.0</td>\n",
       "<td>0.1232127</td>\n",
       "<td>0.0</td>\n",
       "<td>1.0</td>\n",
       "<td>-100.0</td>\n",
       "<td>11.1209179</td></tr>\n",
       "<tr><td></td>\n",
       "<td>16</td>\n",
       "<td>1.0</td>\n",
       "<td>0.0208606</td>\n",
       "<td>0.0</td>\n",
       "<td>1.0</td>\n",
       "<td>0.0</td>\n",
       "<td>0.1108817</td>\n",
       "<td>0.0</td>\n",
       "<td>1.0</td>\n",
       "<td>-100.0</td>\n",
       "<td>0.0</td></tr></table></div>"
      ],
      "text/plain": [
       "    group    cumulative_data_fraction    lower_threshold    lift       cumulative_lift    response_rate    cumulative_response_rate    capture_rate    cumulative_capture_rate    gain      cumulative_gain\n",
       "--  -------  --------------------------  -----------------  ---------  -----------------  ---------------  --------------------------  --------------  -------------------------  --------  -----------------\n",
       "    1        0.0100079                   0.913948           7.01449    7.01449            0.777778         0.777778                    0.0702006       0.0702006                  601.449   601.449\n",
       "    2        0.0200159                   0.868864           7.01449    7.01449            0.777778         0.777778                    0.0702006       0.140401                   601.449   601.449\n",
       "    3        0.0300238                   0.828319           5.86926    6.63275            0.650794         0.73545                     0.0587393       0.19914                    486.926   563.275\n",
       "    4        0.0400318                   0.767508           7.01449    6.72818            0.777778         0.746032                    0.0702006       0.269341                   601.449   572.818\n",
       "    5        0.0500397                   0.715211           5.29665    6.44187            0.587302         0.714286                    0.0530086       0.32235                    429.665   544.187\n",
       "    6        0.100079                    0.425036           4.86719    5.65453            0.539683         0.626984                    0.243553        0.565903                   386.719   465.453\n",
       "    7        0.150119                    0.195118           3.86512    5.05806            0.428571         0.560847                    0.19341         0.759312                   286.512   405.806\n",
       "    8        0.2                         0.0875343          2.29774    4.36963            0.254777         0.484512                    0.114613        0.873926                   129.774   336.963\n",
       "    9        0.300079                    0.0310822          0.930493   3.22264            0.103175         0.357332                    0.0931232       0.967049                   -6.9507   222.264\n",
       "    10       0.4                         0.0236191          0.229409   2.47493            0.0254372        0.274424                    0.0229226       0.989971                   -77.0591  147.493\n",
       "    11       0.500079                    0.0221021          0.0572611  1.99109            0.00634921       0.220775                    0.00573066      0.995702                   -94.2739  99.1088\n",
       "    12       0.6                         0.0215304          0.0286761  1.66428            0.00317965       0.184538                    0.00286533      0.998567                   -97.1324  66.4279\n",
       "    13       0.699921                    0.0213033          0          1.42669            0                0.158193                    0               0.998567                   -100      42.6687\n",
       "    14       0.8                         0.0211898          0.0143153  1.25               0.0015873        0.138602                    0.00143266      1                          -98.5685  25\n",
       "    15       0.899921                    0.0211066          0          1.11121            0                0.123213                    0               1                          -100      11.1209\n",
       "    16       1                           0.0208606          0          1                  0                0.110882                    0               1                          -100      0"
      ]
     },
     "metadata": {},
     "output_type": "display_data"
    },
    {
     "name": "stdout",
     "output_type": "stream",
     "text": [
      "\n",
      "<bound method ModelBase.coef_norm of >\n"
     ]
    }
   ],
   "source": [
    "mods=mod_best.coef_norm\n",
    "print(mods)"
   ]
  },
  {
   "cell_type": "code",
   "execution_count": 94,
   "metadata": {},
   "outputs": [],
   "source": [
    "bm=stackedensemble_df(aml_leaderboard_df)"
   ]
  },
  {
   "cell_type": "code",
   "execution_count": 95,
   "metadata": {},
   "outputs": [
    {
     "data": {
      "text/plain": [
       "['GBM_grid_0_AutoML_20190414_165814_model_0',\n",
       " 'GLM_grid_0_AutoML_20190414_165814_model_1',\n",
       " 'DRF_0_AutoML_20190414_165814',\n",
       " 'XRT_0_AutoML_20190414_165814']"
      ]
     },
     "execution_count": 95,
     "metadata": {},
     "output_type": "execute_result"
    }
   ],
   "source": [
    "bm"
   ]
  },
  {
   "cell_type": "code",
   "execution_count": 96,
   "metadata": {},
   "outputs": [
    {
     "data": {
      "text/html": [
       "<div>\n",
       "<style scoped>\n",
       "    .dataframe tbody tr th:only-of-type {\n",
       "        vertical-align: middle;\n",
       "    }\n",
       "\n",
       "    .dataframe tbody tr th {\n",
       "        vertical-align: top;\n",
       "    }\n",
       "\n",
       "    .dataframe thead th {\n",
       "        text-align: right;\n",
       "    }\n",
       "</style>\n",
       "<table border=\"1\" class=\"dataframe\">\n",
       "  <thead>\n",
       "    <tr style=\"text-align: right;\">\n",
       "      <th></th>\n",
       "      <th>model_id</th>\n",
       "      <th>auc</th>\n",
       "      <th>logloss</th>\n",
       "    </tr>\n",
       "  </thead>\n",
       "  <tbody>\n",
       "    <tr>\n",
       "      <th>0</th>\n",
       "      <td>StackedEnsemble_0_AutoML_20190414_165814</td>\n",
       "      <td>0.947294</td>\n",
       "      <td>0.198235</td>\n",
       "    </tr>\n",
       "    <tr>\n",
       "      <th>1</th>\n",
       "      <td>GBM_grid_0_AutoML_20190414_165814_model_0</td>\n",
       "      <td>0.946974</td>\n",
       "      <td>0.181429</td>\n",
       "    </tr>\n",
       "    <tr>\n",
       "      <th>2</th>\n",
       "      <td>GBM_grid_0_AutoML_20190414_165814_model_1</td>\n",
       "      <td>0.946447</td>\n",
       "      <td>0.181971</td>\n",
       "    </tr>\n",
       "    <tr>\n",
       "      <th>3</th>\n",
       "      <td>GBM_grid_0_AutoML_20190414_165814_model_2</td>\n",
       "      <td>0.945800</td>\n",
       "      <td>0.182295</td>\n",
       "    </tr>\n",
       "    <tr>\n",
       "      <th>4</th>\n",
       "      <td>GBM_grid_0_AutoML_20190414_165814_model_3</td>\n",
       "      <td>0.943258</td>\n",
       "      <td>0.188850</td>\n",
       "    </tr>\n",
       "    <tr>\n",
       "      <th>5</th>\n",
       "      <td>DRF_0_AutoML_20190414_165814</td>\n",
       "      <td>0.941386</td>\n",
       "      <td>0.189986</td>\n",
       "    </tr>\n",
       "    <tr>\n",
       "      <th>6</th>\n",
       "      <td>XRT_0_AutoML_20190414_165814</td>\n",
       "      <td>0.941285</td>\n",
       "      <td>0.185789</td>\n",
       "    </tr>\n",
       "    <tr>\n",
       "      <th>7</th>\n",
       "      <td>GLM_grid_0_AutoML_20190414_165814_model_1</td>\n",
       "      <td>0.933566</td>\n",
       "      <td>0.213060</td>\n",
       "    </tr>\n",
       "    <tr>\n",
       "      <th>8</th>\n",
       "      <td>GLM_grid_0_AutoML_20190414_165814_model_0</td>\n",
       "      <td>0.933566</td>\n",
       "      <td>0.213060</td>\n",
       "    </tr>\n",
       "  </tbody>\n",
       "</table>\n",
       "</div>"
      ],
      "text/plain": [
       "                                    model_id       auc   logloss\n",
       "0   StackedEnsemble_0_AutoML_20190414_165814  0.947294  0.198235\n",
       "1  GBM_grid_0_AutoML_20190414_165814_model_0  0.946974  0.181429\n",
       "2  GBM_grid_0_AutoML_20190414_165814_model_1  0.946447  0.181971\n",
       "3  GBM_grid_0_AutoML_20190414_165814_model_2  0.945800  0.182295\n",
       "4  GBM_grid_0_AutoML_20190414_165814_model_3  0.943258  0.188850\n",
       "5               DRF_0_AutoML_20190414_165814  0.941386  0.189986\n",
       "6               XRT_0_AutoML_20190414_165814  0.941285  0.185789\n",
       "7  GLM_grid_0_AutoML_20190414_165814_model_1  0.933566  0.213060\n",
       "8  GLM_grid_0_AutoML_20190414_165814_model_0  0.933566  0.213060"
      ]
     },
     "execution_count": 96,
     "metadata": {},
     "output_type": "execute_result"
    }
   ],
   "source": [
    "aml_leaderboard_df"
   ]
  },
  {
   "cell_type": "code",
   "execution_count": 97,
   "metadata": {},
   "outputs": [],
   "source": [
    "#  Get best_models and coef_norm()\n",
    "best_models={}\n",
    "best_models=stackedensemble(mod_best)\n",
    "bm=[]\n",
    "if best_models is not None: \n",
    "  if 'Intercept' in best_models.keys():\n",
    "    del best_models['Intercept']\n",
    "  bm=list(best_models.keys())\n",
    "else:\n",
    "  best_models={}\n",
    "  bm=stackedensemble_df(aml_leaderboard_df)   \n",
    "  for b in bm:   \n",
    "    best_models[b]=None\n",
    "\n",
    "if mod_best.model_id not in bm:\n",
    "    bm.append(mod_best.model_id)"
   ]
  },
  {
   "cell_type": "code",
   "execution_count": 98,
   "metadata": {},
   "outputs": [
    {
     "data": {
      "text/plain": [
       "['GBM_grid_0_AutoML_20190414_165814_model_0',\n",
       " 'GBM_grid_0_AutoML_20190414_165814_model_1',\n",
       " 'GBM_grid_0_AutoML_20190414_165814_model_2',\n",
       " 'GBM_grid_0_AutoML_20190414_165814_model_3',\n",
       " 'DRF_0_AutoML_20190414_165814',\n",
       " 'XRT_0_AutoML_20190414_165814',\n",
       " 'GLM_grid_0_AutoML_20190414_165814_model_1',\n",
       " 'GLM_grid_0_AutoML_20190414_165814_model_0',\n",
       " 'StackedEnsemble_0_AutoML_20190414_165814']"
      ]
     },
     "execution_count": 98,
     "metadata": {},
     "output_type": "execute_result"
    }
   ],
   "source": [
    "bm"
   ]
  },
  {
   "cell_type": "code",
   "execution_count": 100,
   "metadata": {},
   "outputs": [],
   "source": [
    "# Best of Family leaderboard\n",
    "\n",
    "aml_leaderboard_df=aml_leaderboard_df.loc[aml_leaderboard_df['model_id'].isin(bm)]"
   ]
  },
  {
   "cell_type": "code",
   "execution_count": 101,
   "metadata": {},
   "outputs": [
    {
     "data": {
      "text/html": [
       "<div>\n",
       "<style scoped>\n",
       "    .dataframe tbody tr th:only-of-type {\n",
       "        vertical-align: middle;\n",
       "    }\n",
       "\n",
       "    .dataframe tbody tr th {\n",
       "        vertical-align: top;\n",
       "    }\n",
       "\n",
       "    .dataframe thead th {\n",
       "        text-align: right;\n",
       "    }\n",
       "</style>\n",
       "<table border=\"1\" class=\"dataframe\">\n",
       "  <thead>\n",
       "    <tr style=\"text-align: right;\">\n",
       "      <th></th>\n",
       "      <th>model_id</th>\n",
       "      <th>auc</th>\n",
       "      <th>logloss</th>\n",
       "    </tr>\n",
       "  </thead>\n",
       "  <tbody>\n",
       "    <tr>\n",
       "      <th>0</th>\n",
       "      <td>StackedEnsemble_0_AutoML_20190414_165814</td>\n",
       "      <td>0.947294</td>\n",
       "      <td>0.198235</td>\n",
       "    </tr>\n",
       "    <tr>\n",
       "      <th>1</th>\n",
       "      <td>GBM_grid_0_AutoML_20190414_165814_model_0</td>\n",
       "      <td>0.946974</td>\n",
       "      <td>0.181429</td>\n",
       "    </tr>\n",
       "    <tr>\n",
       "      <th>2</th>\n",
       "      <td>GBM_grid_0_AutoML_20190414_165814_model_1</td>\n",
       "      <td>0.946447</td>\n",
       "      <td>0.181971</td>\n",
       "    </tr>\n",
       "    <tr>\n",
       "      <th>3</th>\n",
       "      <td>GBM_grid_0_AutoML_20190414_165814_model_2</td>\n",
       "      <td>0.945800</td>\n",
       "      <td>0.182295</td>\n",
       "    </tr>\n",
       "    <tr>\n",
       "      <th>4</th>\n",
       "      <td>GBM_grid_0_AutoML_20190414_165814_model_3</td>\n",
       "      <td>0.943258</td>\n",
       "      <td>0.188850</td>\n",
       "    </tr>\n",
       "    <tr>\n",
       "      <th>5</th>\n",
       "      <td>DRF_0_AutoML_20190414_165814</td>\n",
       "      <td>0.941386</td>\n",
       "      <td>0.189986</td>\n",
       "    </tr>\n",
       "    <tr>\n",
       "      <th>6</th>\n",
       "      <td>XRT_0_AutoML_20190414_165814</td>\n",
       "      <td>0.941285</td>\n",
       "      <td>0.185789</td>\n",
       "    </tr>\n",
       "    <tr>\n",
       "      <th>7</th>\n",
       "      <td>GLM_grid_0_AutoML_20190414_165814_model_1</td>\n",
       "      <td>0.933566</td>\n",
       "      <td>0.213060</td>\n",
       "    </tr>\n",
       "    <tr>\n",
       "      <th>8</th>\n",
       "      <td>GLM_grid_0_AutoML_20190414_165814_model_0</td>\n",
       "      <td>0.933566</td>\n",
       "      <td>0.213060</td>\n",
       "    </tr>\n",
       "  </tbody>\n",
       "</table>\n",
       "</div>"
      ],
      "text/plain": [
       "                                    model_id       auc   logloss\n",
       "0   StackedEnsemble_0_AutoML_20190414_165814  0.947294  0.198235\n",
       "1  GBM_grid_0_AutoML_20190414_165814_model_0  0.946974  0.181429\n",
       "2  GBM_grid_0_AutoML_20190414_165814_model_1  0.946447  0.181971\n",
       "3  GBM_grid_0_AutoML_20190414_165814_model_2  0.945800  0.182295\n",
       "4  GBM_grid_0_AutoML_20190414_165814_model_3  0.943258  0.188850\n",
       "5               DRF_0_AutoML_20190414_165814  0.941386  0.189986\n",
       "6               XRT_0_AutoML_20190414_165814  0.941285  0.185789\n",
       "7  GLM_grid_0_AutoML_20190414_165814_model_1  0.933566  0.213060\n",
       "8  GLM_grid_0_AutoML_20190414_165814_model_0  0.933566  0.213060"
      ]
     },
     "execution_count": 101,
     "metadata": {},
     "output_type": "execute_result"
    }
   ],
   "source": [
    "aml_leaderboard_df"
   ]
  },
  {
   "cell_type": "code",
   "execution_count": 102,
   "metadata": {},
   "outputs": [],
   "source": [
    "# save leaderboard\n",
    "leaderboard_stats=run_id+'_leaderboard.csv'\n",
    "aml_leaderboard_df.to_csv(leaderboard_stats)"
   ]
  },
  {
   "cell_type": "code",
   "execution_count": 103,
   "metadata": {},
   "outputs": [
    {
     "name": "stdout",
     "output_type": "stream",
     "text": [
      "StackedEnsemble_0_AutoML_20190414_165814\n"
     ]
    }
   ],
   "source": [
    "top=aml_leaderboard_df.iloc[0]['model_id']\n",
    "print(top)"
   ]
  },
  {
   "cell_type": "code",
   "execution_count": 104,
   "metadata": {},
   "outputs": [
    {
     "name": "stdout",
     "output_type": "stream",
     "text": [
      "StackedEnsemble_0_AutoML_20190414_165814\n",
      "stackedensemble\n"
     ]
    }
   ],
   "source": [
    "mod_best=h2o.get_model(top)\n",
    "print(mod_best._id)\n",
    "print(mod_best.algo)"
   ]
  },
  {
   "cell_type": "code",
   "execution_count": 105,
   "metadata": {},
   "outputs": [],
   "source": [
    "meta_data['mod_best']=mod_best._id\n",
    "meta_data['mod_best_algo']=mod_best.algo"
   ]
  },
  {
   "cell_type": "code",
   "execution_count": 106,
   "metadata": {},
   "outputs": [],
   "source": [
    "meta_data['models']=bm"
   ]
  },
  {
   "cell_type": "code",
   "execution_count": 107,
   "metadata": {},
   "outputs": [],
   "source": [
    "models_path=os.path.join(run_dir,'models')\n",
    "for mod in bm:\n",
    "  try:   \n",
    "    m=h2o.get_model(mod) \n",
    "    h2o.save_model(m, path = models_path)\n",
    "  except:    \n",
    "    pass"
   ]
  },
  {
   "cell_type": "code",
   "execution_count": 108,
   "metadata": {},
   "outputs": [
    {
     "name": "stdout",
     "output_type": "stream",
     "text": [
      "C:\\Users\\Sharvari Karnik\\Desktop\\ADS\\DSGroupProject\\hyperparameter-db-project-ds18\\FVohtYbr4\\models\n"
     ]
    }
   ],
   "source": [
    "print(models_path)"
   ]
  },
  {
   "cell_type": "code",
   "execution_count": 109,
   "metadata": {},
   "outputs": [
    {
     "name": "stdout",
     "output_type": "stream",
     "text": [
      "{'algo': 'gbm', 'model_id': 'GBM_grid_0_AutoML_20190414_165814_model_3', 'varimp': [('duration', 3248.26220703125, 1.0, 0.3462011856552524), ('nr.employed', 1522.5804443359375, 0.46873692679123347, 0.16227727981552426), ('job', 578.9849243164062, 0.1782445158100613, 0.0617084627099896), ('education', 519.3255615234375, 0.15987796810223495, 0.05534994211714636), ('month', 515.3641357421875, 0.1586584157604705, 0.05492773165045886), ('day_of_week', 492.3931884765625, 0.15158665067454188, 0.05247947819303496), ('euribor3m', 370.4949645996094, 0.11405943885860845, 0.03948751296802301), ('age', 369.5905456542969, 0.11378100722727191, 0.039391119607130376), ('pdays', 367.59710693359375, 0.11316731332153115, 0.03917865804933352), ('campaign', 215.13722229003906, 0.06623148273693821, 0.02292941785123339), ('poutcome', 214.75836181640625, 0.06611484791823032, 0.02288903873870803), ('cons.conf.idx', 196.6697540283203, 0.0605461448286426, 0.020961147126530695), ('emp.var.rate', 170.7333526611328, 0.05256144417515315, 0.01819683429319038), ('cons.price.idx', 163.75552368164062, 0.05041327123382229, 0.017453134273909106), ('marital', 126.81422424316406, 0.0390406365498018, 0.013515914662277162), ('housing', 102.3619384765625, 0.031512831154759585, 0.010909779509131544), ('loan', 63.2916374206543, 0.019484768589078806, 0.0067456499877573016), ('previous', 61.17213821411133, 0.01883226609037194, 0.00651975284906197), ('contact', 43.699703216552734, 0.01345325605856557, 0.004657533198399108), ('default', 39.598514556884766, 0.012190676747452552, 0.004220426743907989)]}\n"
     ]
    }
   ],
   "source": [
    "# GBM\n",
    " \n",
    "mod,mod_id=get_model_by_algo(\"GBM\",best_models)\n",
    "if mod is not None:\n",
    "    try:     \n",
    "        sh_df=mod.scoring_history()\n",
    "        sh_df.to_csv(run_id+'_gbm_scoring_history.csv') \n",
    "    except:\n",
    "        pass   \n",
    "    try:     \n",
    "        stats_gbm={}\n",
    "        stats_gbm=gbm_stats(mod)\n",
    "        n=run_id+'_gbm_stats.json'\n",
    "        dict_to_json(stats_gbm,n)\n",
    "        print(stats_gbm)\n",
    "    except:\n",
    "        pass"
   ]
  },
  {
   "cell_type": "code",
   "execution_count": 110,
   "metadata": {},
   "outputs": [
    {
     "name": "stdout",
     "output_type": "stream",
     "text": [
      "{'algo': 'gbm', 'model_id': 'GBM_grid_0_AutoML_20190414_165814_model_3', 'varimp': [('duration', 3248.26220703125, 1.0, 0.3462011856552524), ('nr.employed', 1522.5804443359375, 0.46873692679123347, 0.16227727981552426), ('job', 578.9849243164062, 0.1782445158100613, 0.0617084627099896), ('education', 519.3255615234375, 0.15987796810223495, 0.05534994211714636), ('month', 515.3641357421875, 0.1586584157604705, 0.05492773165045886), ('day_of_week', 492.3931884765625, 0.15158665067454188, 0.05247947819303496), ('euribor3m', 370.4949645996094, 0.11405943885860845, 0.03948751296802301), ('age', 369.5905456542969, 0.11378100722727191, 0.039391119607130376), ('pdays', 367.59710693359375, 0.11316731332153115, 0.03917865804933352), ('campaign', 215.13722229003906, 0.06623148273693821, 0.02292941785123339), ('poutcome', 214.75836181640625, 0.06611484791823032, 0.02288903873870803), ('cons.conf.idx', 196.6697540283203, 0.0605461448286426, 0.020961147126530695), ('emp.var.rate', 170.7333526611328, 0.05256144417515315, 0.01819683429319038), ('cons.price.idx', 163.75552368164062, 0.05041327123382229, 0.017453134273909106), ('marital', 126.81422424316406, 0.0390406365498018, 0.013515914662277162), ('housing', 102.3619384765625, 0.031512831154759585, 0.010909779509131544), ('loan', 63.2916374206543, 0.019484768589078806, 0.0067456499877573016), ('previous', 61.17213821411133, 0.01883226609037194, 0.00651975284906197), ('contact', 43.699703216552734, 0.01345325605856557, 0.004657533198399108), ('default', 39.598514556884766, 0.012190676747452552, 0.004220426743907989)]}\n"
     ]
    }
   ],
   "source": [
    "#dl\n",
    "if mod is not None:\n",
    "    try:    \n",
    "        sh_df=mod.scoring_history()\n",
    "        sh_df.to_csv(run_id+'_dl_scoring_history.csv') \n",
    "    except:\n",
    "        pass \n",
    "    try:\n",
    "        stats_dl={}\n",
    "        stats_dl=dl_stats(mod)\n",
    "        n=run_id+'_dl_stats.json'\n",
    "        dict_to_json(stats_dl,n)\n",
    "        print(stats_dl)\n",
    "    except:\n",
    "        pass    \n",
    "    try:\n",
    "        cf=mod.confusion_matrix()    \n",
    "        cf_df.to_csv(run_id+'_dl_confusion_matrix.csv')\n",
    "    except:\n",
    "        pass"
   ]
  },
  {
   "cell_type": "code",
   "execution_count": 111,
   "metadata": {},
   "outputs": [
    {
     "name": "stdout",
     "output_type": "stream",
     "text": [
      "{'algo': 'drf', 'model_id': 'DRF_0_AutoML_20190414_165814', 'varimp': [('duration', 25473.892578125, 1.0, 0.2814761634049042), ('nr.employed', 9520.4072265625, 0.3737319374086505, 0.10519663188366876), ('age', 6523.6611328125, 0.25609204061787216, 0.07208380507165156), ('euribor3m', 6318.6416015625, 0.24804381906628822, 0.06981842254707905), ('job', 6299.392578125, 0.24728818176513898, 0.06960572865862592), ('education', 4794.13134765625, 0.1881978316801523, 0.05297320362245122), ('day_of_week', 4752.75830078125, 0.18657369643077437, 0.05251604826360565), ('poutcome', 4070.292236328125, 0.1597828923807026, 0.04497507552505887), ('pdays', 3462.365966796875, 0.13591821336995374, 0.03825773723622374), ('month', 3019.580322265625, 0.11853627446237275, 0.03336513575997941), ('cons.conf.idx', 2854.088134765625, 0.11203973346486097, 0.03153651432459712), ('campaign', 2744.135986328125, 0.10772346542297095, 0.030321587755938725), ('marital', 2037.19677734375, 0.0799719466153805, 0.022510196713319122), ('housing', 1730.7335205078125, 0.06794146262491631, 0.019123902235779137), ('cons.price.idx', 1666.568359375, 0.06542260293607893, 0.01841490327440992), ('loan', 1373.369140625, 0.05391281039648973, 0.015175171028779962), ('emp.var.rate', 1254.2977294921875, 0.049238557697667336, 0.013859480312330417), ('previous', 1130.5782470703125, 0.044381840882895346, 0.01249243029656431), ('contact', 770.2687377929688, 0.03023757501648632, 0.008511156606308553), ('default', 704.7051391601562, 0.027663818436814102, 0.007786705478724288)], 'roc': ([0.00023412806805322512, 0.00023412806805322512, 0.0002731494127287626, 0.0002731494127287626, 0.00035119210207983765, 0.00035119210207983765, 0.00035119210207983765, 0.0004292347914309127, 0.00046825613610645023, 0.0005462988254575252, 0.0005853201701330628, 0.0006633628594841379, 0.0007023842041596753, 0.0009365122722129005, 0.000975533616888438, 0.0012096616849416632, 0.0012096616849416632, 0.0012486830296172006, 0.001287704374292738, 0.0013657470636438131, 0.0014437897529948882, 0.0014828110976704257, 0.0017169391657236507, 0.0019120458891013384, 0.0020681312678034885, 0.002107152612479026, 0.002107152612479026, 0.002185195301830101, 0.0022242166465056387, 0.0024973660592344012, 0.002614430093261014, 0.0027314941272876263, 0.0028875795059897765, 0.0029656221953408514, 0.003082686229367464, 0.0031217075740430015, 0.0031997502633940764, 0.0033558356420962266, 0.0034338783314473015, 0.0035899637101494517, 0.0035899637101494517, 0.0038631131228782146, 0.003980177156904827, 0.0041752838802825145, 0.004214305224958052, 0.004292347914309127, 0.004526475982362352, 0.00456549732703789, 0.004682561361064502, 0.004799625395091114, 0.005150817497170952, 0.005306902875873103, 0.005580052288601865, 0.005853201701330628, 0.006009287080032778, 0.006243415148086003, 0.006516564560814766, 0.0065555859054903035, 0.006750692628867991, 0.007023842041596754, 0.007414055488352129, 0.007570140867054279, 0.007726226245756429, 0.007882311624458578, 0.008584695828618254, 0.008779802551995942, 0.008896866586022555, 0.009209037343426854, 0.009638272134857767, 0.009794357513559917, 0.009950442892262067, 0.010145549615639755, 0.010301634994341904, 0.010574784407070667, 0.010886955164474969, 0.011121083232528193, 0.011355211300581418, 0.011355211300581418, 0.011706403402661256, 0.012018574160065555, 0.01209661684941663, 0.012408787606820931, 0.01287704374292738, 0.013072150466305069, 0.013189214500331682, 0.013657470636438131, 0.013852577359815819, 0.014164748117220119, 0.014281812151246732, 0.014398876185273345, 0.014593982908651031, 0.014750068287353183, 0.01541343114683732, 0.015608537870215008, 0.01572560190424162, 0.016115815350996994, 0.016427986108401297, 0.016701135521130058, 0.016701135521130058, 0.017013306278534358, 0.017247434346587584, 0.017442541069965272, 0.017871775861396183, 0.018027861240098333, 0.018457096031529247, 0.01873024544425801, 0.019120458891013385, 0.019315565614391073, 0.019549693682444295, 0.019783821750497522, 0.020213056541928436, 0.020564248644008274, 0.020915440746088112, 0.021617824950247784, 0.0220470597416787, 0.022359230499082998, 0.02247629453310961, 0.023178678737269285, 0.02341280680532251, 0.02372497756272681, 0.02403714832013111, 0.024154212354157725, 0.024583447145588636, 0.024973660592344012, 0.025090724626370624, 0.02544191672845046, 0.025519959417801538, 0.026144300932610137, 0.026300386311312287, 0.02676864244741874, 0.027471026651578412, 0.027783197408982715, 0.028368517579115776, 0.028602645647169002, 0.028992859093924378, 0.02910992312795099, 0.0295391579193819, 0.030163499434190503, 0.03055371288094588, 0.03082686229367464, 0.03113903305107894, 0.03176337456588754, 0.03191945994458969, 0.03211456666796738, 0.03277792952745152, 0.03324618566355796, 0.033753463144339954, 0.03418269793577087, 0.03468997541655285, 0.03539235962071253, 0.03601670113552113, 0.03648495727162758, 0.0367190853396808, 0.03707027744176064, 0.03730440550981387, 0.03761657626721817, 0.038006789713973546, 0.03824091778202677, 0.038397003160728915, 0.04101143325398993, 0.04136262535606977, 0.04163577476879853, 0.04218207359425606, 0.04257228704101143, 0.04304054317711788, 0.043274671245171106, 0.04366488469192648, 0.04401607679400632, 0.04464041830881492, 0.045264759823623525, 0.04573301595972997, 0.046162250751160885, 0.04631833612986303, 0.04663050688726734, 0.04702072033402271, 0.04741093378077808, 0.047918211261560074, 0.048503531431693135, 0.04889374487844851, 0.04920591563585281, 0.04983025715066141, 0.050220470597416786, 0.0506497053888477, 0.05088383345690092, 0.051352089593007376, 0.052288601865220274, 0.05271783665665119, 0.05291294338002887, 0.05326413548210871, 0.05388847699691732, 0.0543957544776993, 0.055410309439263276, 0.05650290709017833, 0.05704920591563585, 0.057790611464471064, 0.05849299566863074, 0.05872712373668396, 0.05927342256214149, 0.05966363600889687, 0.060444062902407614, 0.06075623365981192, 0.061224489795918366, 0.06169274593202482, 0.062161002068131264, 0.0627073008935888, 0.06305849299566862, 0.06356577047645062, 0.0640730479572326, 0.06497053888476997, 0.06543879502087642, 0.06649237132711593, 0.06696062746322239, 0.06754594763335545, 0.06797518242478635, 0.0687556093182971, 0.06949701486713232, 0.07004331369258984, 0.07055059117337184, 0.07097982596480275, 0.07218948764974441, 0.07289187185390408, 0.07324306395598393, 0.07390642681546807, 0.07437468295157451, 0.07472587505365434, 0.07570140867054279, 0.07718421976821321, 0.0776914972489952, 0.0783158387638038, 0.07897920162328793, 0.07940843641471886, 0.07979864986147422, 0.08061809809966052, 0.08155461037187342, 0.08229601592070863, 0.08319350684824599, 0.08389589105240566, 0.08444218987786319, 0.08522261677137394, 0.0856908729074804, 0.08678347055839544, 0.0873687907285285, 0.08850040972411909, 0.08928083661762984, 0.0897490927537363, 0.0908026690599758, 0.09130994654075779, 0.09209037343426854, 0.09322199242985914, 0.09404144066804541, 0.0950559956296094, 0.09560229445506692, 0.09669489210598198, 0.09720216958676396, 0.09825574589300347, 0.09923127950989191, 0.09985562102470051, 0.10016779178210482, 0.10071409060756234, 0.10106528270964217, 0.10321145666679674, 0.10399188356030749, 0.10465524641979163, 0.10527958793460022, 0.10606001482811098, 0.10664533499824404, 0.10781597533851016, 0.10867444492137199, 0.11015725601904242, 0.1111718109806064, 0.11171810980606392, 0.11292777149100558, 0.1134740703164631, 0.11425449720997385, 0.11526905217153784, 0.11573730830764428, 0.11686892730323487, 0.11745424747336793, 0.1186639091583096, 0.11901510126038943, 0.11987357084325126, 0.12233191555781012, 0.12303429976196979, 0.12354157724275179, 0.12404885472353377, 0.12498536699574668, 0.12623405002536386, 0.12717056229757678, 0.12841924532719398, 0.12904358684200257, 0.12970694970148672, 0.13126780348850822, 0.13232137979474773, 0.1334529987903383, 0.13431146837320013, 0.13649666367503024, 0.1371990478791899, 0.1377063253599719, 0.1384087095641316, 0.1400085846958286, 0.14078901158933937, 0.1421547586529832, 0.14274007882311623, 0.14398876185273343, 0.14484723143559528, 0.14554961563975494, 0.14746166152885629, 0.14835915245639364, 0.14925664338393102, 0.15031021969017053, 0.15230030826862292, 0.15323682054083584, 0.1539392047449955, 0.154992781051235, 0.15553907987669255, 0.1579974245912514, 0.15932415031021968, 0.16014359854840599, 0.16232879385023607, 0.16318726343309792, 0.16439692511803958, 0.16677722714324736, 0.16763569672610917, 0.16876731572169976, 0.17028914816404572, 0.1711866390915831, 0.17208413001912046, 0.17446443204432824, 0.17563507238459436, 0.17739103289499356, 0.17852265189058414, 0.1799274202989035, 0.1805517618137121, 0.181995551566707, 0.18347836266437742, 0.18581964334490966, 0.18699028368517578, 0.1889803722636282, 0.19093143949740507, 0.19229718656104888, 0.19319467748858626, 0.19643344909665586, 0.19686268388808678, 0.19815038826237952, 0.20142818121512468, 0.20252077886603972, 0.20380848324033246, 0.20774963905256175, 0.20989581300971633, 0.21450033168142973, 0.21637335622585555, 0.21742693253209505, 0.22238264330588833, 0.22448979591836735, 0.22858703710929879, 0.23069418972177783, 0.2346353455340071, 0.23611815663167754, 0.23966909899715144, 0.24286884926054553, 0.24528817263042885, 0.2477465173449877, 0.24895617902992936, 0.2506340968509775, 0.25180473719124363, 0.2531314629102119, 0.2546923166972334, 0.25621414913957935, 0.25734576813516996, 0.25941389940297344, 0.26163811604947906, 0.2643696101767667, 0.2662426347211925, 0.2676083817848363, 0.26975455574199086, 0.27225192180122526, 0.27432005306902874, 0.27705154719631636, 0.28036836149373706, 0.2843095173059664, 0.28817263042884456, 0.29379170406212196, 0.29761579584032466, 0.3033519335076287, 0.31193662933624694, 0.3214968587817536, 0.32758418855113747, 0.33979786943458073, 0.35884028563624304, 0.38049713193116635, 0.39805673703515826, 0.4179966441643579, 0.43621961212783394, 0.4643149802942209, 0.5010730869785773, 0.5207788660397237, 0.575096577828072, 0.650017559605104, 0.7090178327545167, 1.0], [0.012962962962962963, 0.013271604938271606, 0.014197530864197531, 0.015123456790123457, 0.015432098765432098, 0.016049382716049384, 0.016666666666666666, 0.018518518518518517, 0.020061728395061727, 0.022839506172839506, 0.025617283950617284, 0.027160493827160494, 0.03148148148148148, 0.03333333333333333, 0.037037037037037035, 0.03981481481481482, 0.04135802469135803, 0.04259259259259259, 0.04351851851851852, 0.04537037037037037, 0.04691358024691358, 0.047839506172839504, 0.05339506172839506, 0.05740740740740741, 0.05771604938271605, 0.061419753086419754, 0.06234567901234568, 0.0669753086419753, 0.06759259259259259, 0.07438271604938272, 0.07623456790123456, 0.08117283950617284, 0.08425925925925926, 0.08549382716049382, 0.0882716049382716, 0.08950617283950617, 0.09567901234567901, 0.09753086419753086, 0.09845679012345679, 0.10308641975308643, 0.10432098765432099, 0.11018518518518519, 0.11265432098765432, 0.11820987654320987, 0.11882716049382716, 0.12253086419753087, 0.1259259259259259, 0.12932098765432098, 0.13117283950617284, 0.13333333333333333, 0.1425925925925926, 0.14506172839506173, 0.14660493827160495, 0.14969135802469136, 0.1537037037037037, 0.15617283950617283, 0.15987654320987654, 0.1617283950617284, 0.16450617283950617, 0.1685185185185185, 0.17407407407407408, 0.17777777777777778, 0.179320987654321, 0.18209876543209877, 0.19135802469135801, 0.19444444444444445, 0.19475308641975309, 0.19753086419753085, 0.20246913580246914, 0.20462962962962963, 0.20709876543209876, 0.21141975308641975, 0.21604938271604937, 0.21882716049382717, 0.22098765432098766, 0.22191358024691357, 0.22777777777777777, 0.2302469135802469, 0.23209876543209876, 0.23703703703703705, 0.24228395061728394, 0.24660493827160493, 0.25092592592592594, 0.25493827160493826, 0.25771604938271603, 0.262037037037037, 0.2654320987654321, 0.2691358024691358, 0.27253086419753086, 0.2762345679012346, 0.2796296296296296, 0.283641975308642, 0.2919753086419753, 0.29506172839506173, 0.29691358024691356, 0.2993827160493827, 0.3030864197530864, 0.30648148148148147, 0.3117283950617284, 0.31512345679012344, 0.3219135802469136, 0.32407407407407407, 0.3287037037037037, 0.33240740740740743, 0.3376543209876543, 0.34012345679012346, 0.34382716049382717, 0.3472222222222222, 0.3549382716049383, 0.35771604938271606, 0.36018518518518516, 0.362962962962963, 0.36820987654320986, 0.3734567901234568, 0.37777777777777777, 0.3808641975308642, 0.38364197530864197, 0.3907407407407407, 0.39228395061728394, 0.39537037037037037, 0.3993827160493827, 0.4012345679012346, 0.4046296296296296, 0.40555555555555556, 0.4074074074074074, 0.4126543209876543, 0.4148148148148148, 0.4185185185185185, 0.42006172839506173, 0.4225308641975309, 0.429320987654321, 0.43148148148148147, 0.43425925925925923, 0.43580246913580245, 0.4410493827160494, 0.44382716049382714, 0.4466049382716049, 0.45154320987654323, 0.454320987654321, 0.45771604938271604, 0.4604938271604938, 0.4645061728395062, 0.4660493827160494, 0.4682098765432099, 0.47160493827160493, 0.4737654320987654, 0.4783950617283951, 0.48055555555555557, 0.4842592592592593, 0.48734567901234566, 0.49290123456790125, 0.4959876543209877, 0.49876543209876545, 0.5003086419753087, 0.5027777777777778, 0.5058641975308642, 0.5083333333333333, 0.5108024691358025, 0.5126543209876543, 0.5308641975308642, 0.5333333333333333, 0.5345679012345679, 0.5382716049382716, 0.5404320987654321, 0.542283950617284, 0.5435185185185185, 0.5459876543209876, 0.5478395061728395, 0.5530864197530864, 0.5570987654320988, 0.5598765432098766, 0.5626543209876543, 0.5660493827160494, 0.5697530864197531, 0.5725308641975309, 0.5756172839506173, 0.5790123456790124, 0.5833333333333334, 0.5858024691358025, 0.5867283950617284, 0.5898148148148148, 0.5919753086419753, 0.5962962962962963, 0.5996913580246913, 0.6040123456790123, 0.6061728395061728, 0.6089506172839506, 0.6114197530864197, 0.6172839506172839, 0.6212962962962963, 0.6246913580246913, 0.6287037037037037, 0.6317901234567901, 0.633641975308642, 0.6367283950617284, 0.6410493827160494, 0.6432098765432098, 0.6450617283950617, 0.6469135802469136, 0.6540123456790123, 0.6558641975308642, 0.6583333333333333, 0.6598765432098765, 0.6614197530864198, 0.6651234567901234, 0.6679012345679012, 0.6703703703703704, 0.6728395061728395, 0.6756172839506173, 0.6777777777777778, 0.6824074074074075, 0.6854938271604938, 0.6873456790123457, 0.6895061728395062, 0.6916666666666667, 0.6950617283950618, 0.6987654320987654, 0.7012345679012346, 0.7021604938271605, 0.7080246913580247, 0.7098765432098766, 0.7141975308641976, 0.7179012345679012, 0.7203703703703703, 0.7228395061728395, 0.725925925925926, 0.7333333333333333, 0.733641975308642, 0.7364197530864197, 0.7410493827160494, 0.7435185185185185, 0.7453703703703703, 0.7475308641975309, 0.7512345679012346, 0.7546296296296297, 0.7570987654320988, 0.7601851851851852, 0.7638888888888888, 0.7645061728395062, 0.766358024691358, 0.7709876543209877, 0.7725308641975308, 0.7774691358024691, 0.7790123456790123, 0.7824074074074074, 0.7854938271604939, 0.7873456790123456, 0.7898148148148149, 0.7929012345679012, 0.7941358024691358, 0.7975308641975308, 0.7987654320987654, 0.803395061728395, 0.8052469135802469, 0.8064814814814815, 0.8089506172839506, 0.8108024691358025, 0.812037037037037, 0.8138888888888889, 0.8154320987654321, 0.8212962962962963, 0.8231481481481482, 0.825, 0.8256172839506173, 0.8274691358024692, 0.8302469135802469, 0.8320987654320988, 0.8364197530864198, 0.8404320987654321, 0.8429012345679012, 0.8441358024691358, 0.846604938271605, 0.8484567901234568, 0.850925925925926, 0.8533950617283951, 0.8537037037037037, 0.8558641975308642, 0.8574074074074074, 0.8589506172839506, 0.8595679012345679, 0.8608024691358025, 0.8679012345679012, 0.8703703703703703, 0.8712962962962963, 0.8722222222222222, 0.8746913580246913, 0.8768518518518519, 0.8777777777777778, 0.8799382716049383, 0.8808641975308642, 0.8833333333333333, 0.887962962962963, 0.8895061728395062, 0.8901234567901235, 0.8910493827160494, 0.8935185185185185, 0.895679012345679, 0.8969135802469136, 0.8981481481481481, 0.8993827160493827, 0.9006172839506172, 0.9027777777777778, 0.9027777777777778, 0.9046296296296297, 0.9070987654320988, 0.9083333333333333, 0.9092592592592592, 0.9098765432098765, 0.9111111111111111, 0.9120370370370371, 0.9141975308641975, 0.9157407407407407, 0.9157407407407407, 0.9160493827160494, 0.9160493827160494, 0.9197530864197531, 0.9200617283950617, 0.9212962962962963, 0.9234567901234568, 0.9237654320987654, 0.9246913580246914, 0.9265432098765433, 0.9268518518518518, 0.9271604938271605, 0.9290123456790124, 0.9302469135802469, 0.9314814814814815, 0.932716049382716, 0.9330246913580247, 0.9345679012345679, 0.9358024691358025, 0.9373456790123457, 0.9382716049382716, 0.9395061728395062, 0.9404320987654321, 0.942283950617284, 0.9429012345679012, 0.9441358024691358, 0.945679012345679, 0.946604938271605, 0.9472222222222222, 0.9496913580246914, 0.95, 0.9503086419753086, 0.9530864197530864, 0.953395061728395, 0.953395061728395, 0.9549382716049383, 0.9567901234567902, 0.9580246913580247, 0.9586419753086419, 0.9592592592592593, 0.9604938271604938, 0.9608024691358025, 0.9614197530864198, 0.9623456790123457, 0.9632716049382716, 0.9632716049382716, 0.9651234567901235, 0.9657407407407408, 0.9657407407407408, 0.966358024691358, 0.966358024691358, 0.9666666666666667, 0.9666666666666667, 0.9675925925925926, 0.9679012345679012, 0.9685185185185186, 0.9688271604938271, 0.9697530864197531, 0.9700617283950618, 0.9712962962962963, 0.971604938271605, 0.9722222222222222, 0.9725308641975309, 0.9728395061728395, 0.9731481481481481, 0.9737654320987654, 0.9740740740740741, 0.9740740740740741, 0.9753086419753086, 0.9756172839506173, 0.975925925925926, 0.9768518518518519, 0.9774691358024692, 0.9777777777777777, 0.9780864197530864, 0.9790123456790123, 0.9799382716049383, 0.9808641975308642, 0.9811728395061728, 0.9814814814814815, 0.9827160493827161, 0.983641975308642, 0.9845679012345679, 0.9848765432098765, 0.987037037037037, 0.9898148148148148, 0.9901234567901235, 1.0])}"
     ]
    },
    {
     "name": "stdout",
     "output_type": "stream",
     "text": [
      "\n"
     ]
    }
   ],
   "source": [
    "# DRF\n",
    "\n",
    "mod,mod_id=get_model_by_algo(\"DRF\",best_models)\n",
    "if mod is not None:\n",
    "    try:     \n",
    "         sh_df=mod.scoring_history()\n",
    "         sh_df.to_csv(run_id+'_drf_scoring_history.csv') \n",
    "    except:\n",
    "         pass  \n",
    "    try: \n",
    "         stats_drf={}\n",
    "         stats_drf=drf_stats(mod)\n",
    "         n=run_id+'_drf_stats.json'\n",
    "         dict_to_json(stats_drf,n)\n",
    "         print(stats_drf)\n",
    "    except:\n",
    "         pass"
   ]
  },
  {
   "cell_type": "code",
   "execution_count": 112,
   "metadata": {},
   "outputs": [
    {
     "name": "stdout",
     "output_type": "stream",
     "text": [
      "{'algo': 'drf', 'model_id': 'XRT_0_AutoML_20190414_165814', 'varimp': [('duration', 21357.314453125, 1.0, 0.28327033886709346), ('euribor3m', 9249.177734375, 0.43306838763249383, 0.12267542891728232), ('job', 5197.85205078125, 0.24337573257112863, 0.06894112623745073), ('nr.employed', 5163.92138671875, 0.24178701859039986, 0.0684910906897668), ('age', 5011.05859375, 0.23462962090801553, 0.06646361222287124), ('pdays', 4076.36767578125, 0.19086518039185382, 0.05406644432752936), ('education', 4008.005859375, 0.18766431838477468, 0.05315973506211725), ('day_of_week', 3308.145263671875, 0.15489518923048995, 0.04387721274220346), ('cons.conf.idx', 2472.052001953125, 0.11574732428923969, 0.03278778377437228), ('campaign', 2109.2998046875, 0.09876240804137561, 0.027976460793210627), ('poutcome', 2095.94580078125, 0.09813714197922349, 0.027799341463902703), ('month', 2046.82080078125, 0.09583699323590562, 0.027147777549938332), ('cons.price.idx', 1682.7896728515625, 0.07879219442804697, 0.022319491615714778), ('emp.var.rate', 1628.9239501953125, 0.07627007383210432, 0.02160504965983843), ('housing', 1302.949951171875, 0.061007199853314306, 0.01728153017578084), ('marital', 1226.4468994140625, 0.05742514594266363, 0.016266840550670625), ('previous', 1126.9925537109375, 0.05276845814039303, 0.01494773901892317), ('loan', 1041.2049560546875, 0.04875167982097761, 0.01380990486322837), ('contact', 788.9851684570312, 0.03694215254397713, 0.010464616069612262), ('default', 501.2652587890625, 0.023470425548551, 0.00664847539849293)], 'roc': ([0.00011706403402661256, 0.00015608537870215008, 0.00023412806805322512, 0.0003902134467553752, 0.0004292347914309127, 0.00046825613610645023, 0.0005072774807819878, 0.0006243415148086003, 0.0006243415148086003, 0.0007023842041596753, 0.0007804268935107504, 0.0008584695828618254, 0.0008974909275373629, 0.001131618995590588, 0.001131618995590588, 0.0012486830296172006, 0.0013267257189682757, 0.0014437897529948882, 0.0014828110976704257, 0.0015608537870215008, 0.0015998751316970382, 0.0015998751316970382, 0.0017169391657236507, 0.001873024544425801, 0.002029109923127951, 0.002107152612479026, 0.002185195301830101, 0.0022242166465056387, 0.0023803020252077885, 0.0024973660592344012, 0.002575408748585476, 0.0027705154719631637, 0.0028875795059897765, 0.0029656221953408514, 0.0031217075740430015, 0.0031997502633940764, 0.0033558356420962266, 0.0037850704335271393, 0.003902134467553752, 0.004019198501580365, 0.004253326569633589, 0.00440941194833574, 0.004682561361064502, 0.004799625395091114, 0.00487766808444219, 0.0049947321184688025, 0.00518983884184649, 0.005384945565224178, 0.005423966909899715, 0.00550200959925079, 0.005775159011979553, 0.005853201701330628, 0.005892223046006165, 0.006048308424708315, 0.006204393803410466, 0.006321457837437078, 0.0065555859054903035, 0.006672649939516916, 0.006945799352245679, 0.007218948764974441, 0.007414055488352129, 0.007570140867054279, 0.007882311624458578, 0.007960354313809655, 0.008701759862644867, 0.008857845241347017, 0.009091973309400241, 0.00928708003277793, 0.009443165411480079, 0.00975533616888438, 0.009950442892262067, 0.010145549615639755, 0.010418699028368518, 0.010574784407070667, 0.01100401919850158, 0.011121083232528193, 0.01162836071331018, 0.011667382057985717, 0.011862488781363405, 0.012213680883443243, 0.01260389433019862, 0.01287704374292738, 0.013111171810980607, 0.013306278534358293, 0.013462363913060445, 0.013735513325789206, 0.014008662738517969, 0.014203769461895657, 0.014672025598002108, 0.01478908963202872, 0.015023217700081944, 0.015218324423459632, 0.015452452491512858, 0.015764623248917156, 0.015842665938268233, 0.016271900729699144, 0.01650602879775237, 0.017130370312560973, 0.017247434346587584, 0.01763764779334296, 0.01810590392944941, 0.018496117376204785, 0.018808288133609085, 0.019276544269715534, 0.01951067233776876, 0.019900885784524133, 0.02044718460998166, 0.020681312678034885, 0.02122761150349241, 0.0214227182268701, 0.02200803839700316, 0.022437273188434075, 0.022632379911811763, 0.022827486635189447, 0.02313965739259375, 0.0232957427712959, 0.0236079135287002, 0.024115191009482187, 0.024349319077535413, 0.024466383111562025, 0.024817575213641863, 0.024973660592344012, 0.025246810005072774, 0.02563702345182815, 0.026066258243259064, 0.026495493034689975, 0.0267296211027432, 0.0270417918601475, 0.027432005306902877, 0.028017325477035938, 0.028212432200413626, 0.028524602957817925, 0.02864166699184454, 0.02895383774924884, 0.02957817926405744, 0.029968392710812815, 0.03020252077886604, 0.03055371288094588, 0.031021969017052328, 0.03160728918718539, 0.03195848128926523, 0.032504780114722756, 0.03277792952745152, 0.0332852070082335, 0.03398759121239318, 0.03441682600382409, 0.03472899676122839, 0.035197252897334844, 0.03566550903344129, 0.036055722480196666, 0.036680063995005265, 0.03699223475240957, 0.03746049088851602, 0.03785070433527139, 0.038006789713973546, 0.0397237288796972, 0.039840792913723805, 0.04027002770515472, 0.04093339056463886, 0.04151871073477192, 0.042104030904904985, 0.04257228704101143, 0.04296250048776681, 0.043547820657899874, 0.04425020486205954, 0.04464041830881492, 0.04487454637686815, 0.045537909236352286, 0.04581105864908105, 0.0462793147851875, 0.04643540016388965, 0.047098763023373784, 0.047606040504155775, 0.04780114722753346, 0.048191360674288836, 0.0484645100870176, 0.049010808912475126, 0.04959612908260819, 0.050220470597416786, 0.05041557732079448, 0.050766769422874315, 0.05111796152495415, 0.05174230303976275, 0.0522105591758692, 0.05240566589924689, 0.05291294338002887, 0.05322511413743317, 0.05381043430756624, 0.054551839856401454, 0.0550200959925079, 0.05537128809458774, 0.05591758692004527, 0.05681507784758263, 0.05771256877511999, 0.05818082491122644, 0.058610059702657355, 0.05931244390681703, 0.060014828110976706, 0.060444062902407614, 0.06192687400007804, 0.06247317282553557, 0.06259023685956218, 0.06333164240839739, 0.06434619736996137, 0.06485347485074336, 0.06578998712295625, 0.06649237132711593, 0.06688258477387131, 0.06742888359932883, 0.06789713973543528, 0.06883365200764818, 0.06949701486713232, 0.06984820696921216, 0.07066765520739844, 0.07148710344558473, 0.07234557302844656, 0.07273578647520193, 0.07355523471338822, 0.0742576189175479, 0.07597455808327155, 0.07632575018535138, 0.07683302766613337, 0.07722324111288875, 0.07780856128302181, 0.07851094548718149, 0.07936941507004332, 0.08014984196355407, 0.0805010340656339, 0.08139852499317127, 0.08210090919733094, 0.08311546415889491, 0.08362274163967691, 0.08389589105240566, 0.08475436063526749, 0.08553478752877824, 0.08647129980099114, 0.08744683341787958, 0.08838334569009249, 0.08928083661762984, 0.08994419947711398, 0.09088071174932688, 0.09177820267686425, 0.09251960822569946, 0.09333905646388574, 0.09376829125531666, 0.0942365473914231, 0.09540718773168923, 0.09626565731455106, 0.09700706286338627, 0.09767042572287041, 0.09817770320365239, 0.09884106606313653, 0.09927030085456745, 0.10032387716080696, 0.10165060287977523, 0.10247005111796152, 0.10375775549225426, 0.10461622507511609, 0.10578686541538221, 0.10594295079408436, 0.10703554844499942, 0.10789401802786124, 0.10914270105747845, 0.11011823467436688, 0.11093768291255317, 0.11191321652944161, 0.11269364342295235, 0.11363015569516526, 0.11437156124400047, 0.11546415889491551, 0.11620556444375073, 0.11702501268193702, 0.11819565302220314, 0.11889803722636282, 0.12061497639208647, 0.12155148866429938, 0.12237093690248566, 0.12283919303859211, 0.12393179068950716, 0.12494634565107114, 0.1258438365786085, 0.12642915674874156, 0.12799001053576306, 0.12982401373551333, 0.13091661138642838, 0.13173605962461465, 0.13243844382877434, 0.13321887072228508, 0.13407734030514692, 0.13536504467943966, 0.1364576423303547, 0.13747219729191867, 0.13805751746205175, 0.1391501151129668, 0.14055488352128614, 0.1419596519296055, 0.14277910016779177, 0.14449603933351543, 0.14593982908651032, 0.14691536270339875, 0.14843719514574472, 0.14980294220938853, 0.15042728372419714, 0.15210520154524526, 0.15390018340031997, 0.1550708237405861, 0.1556951652553947, 0.15682678425098528, 0.15768525383384713, 0.15979240644632614, 0.16108011082061888, 0.162758028641667, 0.1645139891520662, 0.165372458734928, 0.1664260350411675, 0.16744059000273148, 0.16966480664923714, 0.17091348967885434, 0.1722402153978226, 0.17356694111679088, 0.17532290162719008, 0.17559605103991885, 0.1775471182736957, 0.17852265189058414, 0.18020056971163226, 0.18176142349865376, 0.18402466148983493, 0.184609981659968, 0.18675615561712255, 0.1889803722636282, 0.18948764974441018, 0.19257033597377765, 0.19459944589690562, 0.1955359581691185, 0.197604089436922, 0.2008428610449916, 0.20295001365747065, 0.20611074257618917, 0.2112225387286846, 0.21469543840480743, 0.21649042025988216, 0.2211339602762711, 0.22246068599523938, 0.22566043625863347, 0.22983572013891598, 0.23073321106645334, 0.2330744917469856, 0.23611815663167754, 0.2395130136184493, 0.24224450774573691, 0.2452491512857533, 0.24790260272368986, 0.2502438834042221, 0.2528583134974831, 0.2547703593865845, 0.25691653334373904, 0.258945643266867, 0.2603113903305108, 0.26253560697701644, 0.26351114059390485, 0.2656182932063839, 0.26874000078042687, 0.2716666016310922, 0.27455418113708197, 0.27763686736644944, 0.280290318804386, 0.2833339836890779, 0.2849728801654505, 0.2876653529480626, 0.2898505482498927, 0.2924259569984782, 0.2952745151597924, 0.29851328676786204, 0.30502985132867677, 0.30998556210247, 0.31833612986303506, 0.3213017520583759, 0.32735006048308424, 0.3349982440394896, 0.3436219612127834, 0.3524798064541304, 0.363991103133414, 0.3759316346041285, 0.3849455652241776, 0.39821282241386036, 0.4105045459866547, 0.4418777071057869, 0.4694657977913919, 0.48628399734654854, 0.5203886525929684, 0.5514496429546962, 0.5799742459125141, 0.607913528700199, 0.6485737698521091, 0.6842392788855504, 0.7156904826940337, 0.7615795840324657, 0.805517618137121, 0.8795020876419402, 1.0], [0.009567901234567902, 0.012037037037037037, 0.014197530864197531, 0.014506172839506172, 0.016975308641975308, 0.018518518518518517, 0.019135802469135803, 0.020061728395061727, 0.022222222222222223, 0.025, 0.02808641975308642, 0.030555555555555555, 0.03487654320987654, 0.037654320987654324, 0.039197530864197534, 0.04104938271604938, 0.04259259259259259, 0.04691358024691358, 0.04814814814814815, 0.05123456790123457, 0.05277777777777778, 0.05555555555555555, 0.05925925925925926, 0.062037037037037036, 0.06481481481481481, 0.06882716049382716, 0.07376543209876543, 0.07530864197530865, 0.07839506172839507, 0.08117283950617284, 0.08395061728395062, 0.08734567901234568, 0.09012345679012346, 0.09320987654320988, 0.09907407407407408, 0.10030864197530864, 0.10462962962962963, 0.10740740740740741, 0.1117283950617284, 0.1154320987654321, 0.12191358024691358, 0.12407407407407407, 0.12777777777777777, 0.13209876543209875, 0.1345679012345679, 0.13641975308641976, 0.14012345679012345, 0.14228395061728394, 0.14444444444444443, 0.1478395061728395, 0.15339506172839507, 0.15648148148148147, 0.15864197530864196, 0.16296296296296298, 0.16913580246913582, 0.175, 0.18024691358024691, 0.18209876543209877, 0.18734567901234567, 0.1904320987654321, 0.19320987654320987, 0.1962962962962963, 0.20030864197530865, 0.20246913580246914, 0.20987654320987653, 0.21358024691358024, 0.2175925925925926, 0.21975308641975308, 0.22191358024691357, 0.22746913580246914, 0.229320987654321, 0.2324074074074074, 0.2361111111111111, 0.23919753086419754, 0.24074074074074073, 0.24351851851851852, 0.24814814814814815, 0.25, 0.2537037037037037, 0.25617283950617287, 0.25895061728395063, 0.26080246913580246, 0.26512345679012345, 0.2682098765432099, 0.27098765432098765, 0.2740740740740741, 0.2777777777777778, 0.2845679012345679, 0.2882716049382716, 0.29290123456790124, 0.29660493827160495, 0.2993827160493827, 0.30185185185185187, 0.3101851851851852, 0.3114197530864197, 0.3148148148148148, 0.3169753086419753, 0.325, 0.3287037037037037, 0.3317901234567901, 0.3358024691358025, 0.33858024691358024, 0.3435185185185185, 0.3469135802469136, 0.35185185185185186, 0.35617283950617284, 0.3589506172839506, 0.3611111111111111, 0.36635802469135803, 0.36944444444444446, 0.37623456790123455, 0.3808641975308642, 0.3848765432098765, 0.3882716049382716, 0.39197530864197533, 0.3947530864197531, 0.3993827160493827, 0.404320987654321, 0.40987654320987654, 0.4126543209876543, 0.41512345679012347, 0.42098765432098767, 0.4222222222222222, 0.4271604938271605, 0.43209876543209874, 0.43703703703703706, 0.4398148148148148, 0.4425925925925926, 0.44537037037037036, 0.4487654320987654, 0.45123456790123456, 0.4558641975308642, 0.458641975308642, 0.4638888888888889, 0.4700617283950617, 0.4756172839506173, 0.4802469135802469, 0.48333333333333334, 0.4882716049382716, 0.49074074074074076, 0.4962962962962963, 0.4993827160493827, 0.5015432098765432, 0.5055555555555555, 0.5111111111111111, 0.5157407407407407, 0.5172839506172839, 0.5209876543209877, 0.5246913580246914, 0.5277777777777778, 0.5317901234567901, 0.5358024691358024, 0.5404320987654321, 0.5441358024691358, 0.546604938271605, 0.5561728395061728, 0.5583333333333333, 0.5648148148148148, 0.567283950617284, 0.5703703703703704, 0.5734567901234567, 0.5753086419753086, 0.5780864197530864, 0.5808641975308642, 0.5833333333333334, 0.5854938271604938, 0.5876543209876544, 0.5941358024691358, 0.5969135802469135, 0.6006172839506173, 0.6037037037037037, 0.6067901234567902, 0.6108024691358025, 0.612037037037037, 0.6157407407407407, 0.6169753086419754, 0.6203703703703703, 0.6231481481481481, 0.6262345679012346, 0.6299382716049383, 0.6324074074074074, 0.6339506172839506, 0.6373456790123457, 0.6404320987654321, 0.6422839506172839, 0.6487654320987655, 0.65, 0.653395061728395, 0.6555555555555556, 0.6583333333333333, 0.6604938271604939, 0.6626543209876543, 0.6660493827160494, 0.6697530864197531, 0.6725308641975308, 0.675, 0.6780864197530864, 0.6802469135802469, 0.6830246913580247, 0.687962962962963, 0.6901234567901234, 0.691358024691358, 0.6959876543209876, 0.6996913580246914, 0.7018518518518518, 0.7037037037037037, 0.7046296296296296, 0.7074074074074074, 0.7111111111111111, 0.7154320987654321, 0.7194444444444444, 0.7228395061728395, 0.7237654320987654, 0.7268518518518519, 0.7290123456790123, 0.7311728395061728, 0.7333333333333333, 0.7364197530864197, 0.7379629629629629, 0.7441358024691358, 0.745679012345679, 0.7469135802469136, 0.7481481481481481, 0.7521604938271605, 0.7561728395061729, 0.7589506172839506, 0.7611111111111111, 0.7620370370370371, 0.7651234567901235, 0.7660493827160494, 0.7682098765432098, 0.7709876543209877, 0.7737654320987655, 0.7771604938271605, 0.778395061728395, 0.7805555555555556, 0.7845679012345679, 0.7888888888888889, 0.792283950617284, 0.7938271604938272, 0.7950617283950617, 0.7978395061728395, 0.8018518518518518, 0.8040123456790124, 0.8052469135802469, 0.8067901234567901, 0.8095679012345679, 0.8111111111111111, 0.8123456790123457, 0.8138888888888889, 0.8148148148148148, 0.8179012345679012, 0.8191358024691358, 0.821604938271605, 0.825, 0.8262345679012346, 0.8287037037037037, 0.8308641975308642, 0.8330246913580247, 0.8336419753086419, 0.8354938271604938, 0.8373456790123457, 0.8395061728395061, 0.8410493827160493, 0.8432098765432099, 0.8472222222222222, 0.8487654320987654, 0.850925925925926, 0.8530864197530864, 0.8567901234567902, 0.8580246913580247, 0.8601851851851852, 0.8617283950617284, 0.8648148148148148, 0.8669753086419754, 0.8682098765432099, 0.870679012345679, 0.8716049382716049, 0.8734567901234568, 0.8762345679012346, 0.8768518518518519, 0.879320987654321, 0.8811728395061729, 0.8845679012345679, 0.8861111111111111, 0.8870370370370371, 0.8882716049382716, 0.8891975308641975, 0.8898148148148148, 0.8916666666666667, 0.8944444444444445, 0.894753086419753, 0.8953703703703704, 0.8969135802469136, 0.8975308641975308, 0.8993827160493827, 0.9012345679012346, 0.9030864197530865, 0.904320987654321, 0.9055555555555556, 0.9070987654320988, 0.908641975308642, 0.9104938271604939, 0.9117283950617284, 0.9148148148148149, 0.9169753086419753, 0.9175925925925926, 0.9182098765432098, 0.9191358024691358, 0.9206790123456791, 0.9231481481481482, 0.9246913580246914, 0.9256172839506173, 0.9262345679012346, 0.9274691358024691, 0.9280864197530864, 0.929320987654321, 0.9302469135802469, 0.9308641975308642, 0.9324074074074075, 0.9330246913580247, 0.9345679012345679, 0.9376543209876543, 0.9385802469135802, 0.9398148148148148, 0.9416666666666667, 0.9432098765432099, 0.9435185185185185, 0.9441358024691358, 0.945679012345679, 0.9462962962962963, 0.9478395061728395, 0.95, 0.9512345679012346, 0.9518518518518518, 0.9530864197530864, 0.9540123456790124, 0.9546296296296296, 0.9549382716049383, 0.9564814814814815, 0.9570987654320988, 0.9586419753086419, 0.9589506172839506, 0.9589506172839506, 0.9592592592592593, 0.9592592592592593, 0.9604938271604938, 0.9617283950617284, 0.9629629629629629, 0.9645061728395061, 0.9645061728395061, 0.9645061728395061, 0.9654320987654321, 0.9657407407407408, 0.966358024691358, 0.9675925925925926, 0.9685185185185186, 0.9700617283950618, 0.971604938271605, 0.9719135802469135, 0.9728395061728395, 0.9743827160493828, 0.975, 0.9756172839506173, 0.9762345679012345, 0.9762345679012345, 0.9765432098765432, 0.9765432098765432, 0.9765432098765432, 0.9771604938271605, 0.9771604938271605, 0.9780864197530864, 0.979320987654321, 0.9805555555555555, 0.9805555555555555, 0.9811728395061728, 0.9814814814814815, 0.9817901234567902, 0.9824074074074074, 0.9827160493827161, 0.9833333333333333, 0.9842592592592593, 0.9845679012345679, 0.9845679012345679, 0.9851851851851852, 0.9851851851851852, 0.9861111111111112, 0.9876543209876543, 0.9876543209876543, 0.9885802469135803, 0.9898148148148148, 0.9904320987654321, 0.9922839506172839, 0.9932098765432099, 0.9938271604938271, 0.9944444444444445, 0.9953703703703703, 0.9962962962962963, 0.9972222222222222, 1.0])}"
     ]
    },
    {
     "name": "stdout",
     "output_type": "stream",
     "text": [
      "\n"
     ]
    }
   ],
   "source": [
    "# XRT\n",
    "\n",
    "mod,mod_id=get_model_by_algo(\"XRT\",best_models)\n",
    "if mod is not None:\n",
    "    try:     \n",
    "         sh_df=mod.scoring_history()\n",
    "         sh_df.to_csv(run_id+'_xrt_scoring_history.csv')\n",
    "    except:\n",
    "         pass     \n",
    "    try:        \n",
    "         stats_xrt={}\n",
    "         stats_xrt=xrt_stats(mod)\n",
    "         n=run_id+'_xrt_stats.json'\n",
    "         dict_to_json(stats_xrt,n)\n",
    "         print(stats_xrt)\n",
    "    except:\n",
    "         pass"
   ]
  },
  {
   "cell_type": "code",
   "execution_count": 113,
   "metadata": {},
   "outputs": [
    {
     "name": "stdout",
     "output_type": "stream",
     "text": [
      "{'algo': 'glm', 'model_id': 'GLM_grid_0_AutoML_20190414_165814_model_0', 'coef': {'Intercept': -247.45442553270152, 'job.admin.': 0.06766307495598559, 'job.blue-collar': -0.17459726493585595, 'job.entrepreneur': 0.010502300257853325, 'job.housemaid': -0.03861251776480746, 'job.management': 0.043788207865825456, 'job.retired': 0.32283280186828317, 'job.self-employed': -0.08980280549944009, 'job.services': -0.1334230115189897, 'job.student': 0.1590555754189604, 'job.technician': 0.04065516479403617, 'job.unemployed': 0.011823604816264781, 'job.unknown': -0.22687404734879635, 'month.apr': -0.265590466069406, 'month.aug': 0.6471861175880036, 'month.dec': -0.006801929098540485, 'month.jul': -0.09456690575068481, 'month.jun': -0.8126503982287043, 'month.mar': 1.7926982139992276, 'month.may': -0.6767772865093279, 'month.nov': -0.6755106277537659, 'month.oct': -0.08740730038240635, 'month.sep': 0.23868288873607785, 'education.basic.4y': -0.19631100528303216, 'education.basic.6y': 0.03273647167634346, 'education.basic.9y': -0.11764157978568367, 'education.high.school': -0.07365207995412884, 'education.illiterate': 0.5704994910685255, 'education.professional.course': -0.060995718310361074, 'education.university.degree': 0.011641461176910098, 'education.unknown': -0.03780179967390229, 'day_of_week.fri': -0.002319520872176096, 'day_of_week.mon': -0.18954765512287974, 'day_of_week.thu': 0.057052819966628504, 'day_of_week.tue': 0.09986895187144007, 'day_of_week.wed': 0.13379426247937168, 'marital.divorced': 0.03986390618895211, 'marital.married': 0.04206145868421066, 'marital.single': 0.16435542994797533, 'marital.unknown': -0.2160636683156065, 'loan.no': 0.04664899271070883, 'loan.unknown': -0.02212774434532903, 'loan.yes': -0.008361211726576109, 'default.no': 0.20370565664859888, 'default.unknown': -0.1786247568116707, 'default.yes': -0.033867842159287544, 'housing.no': 0.03689443968216436, 'housing.unknown': -0.02268665703756339, 'housing.yes': -0.014759161335487663, 'poutcome.failure': -0.40841788016252806, 'poutcome.nonexistent': -0.1405475316929725, 'poutcome.success': 0.5787760501257253, 'contact.cellular': 0.3117810865262801, 'contact.telephone': -0.31976388831392555, 'age': 0.0013637144059130675, 'duration': 0.00471580309430729, 'campaign': -0.0471139770192165, 'pdays': -0.0009642536827283817, 'previous': -0.12239239150463582, 'emp.var.rate': -1.7713398224656207, 'cons.price.idx': 2.2733601635276757, 'cons.conf.idx': 0.023881964734361917, 'euribor3m': 0.3064175661322328, 'nr.employed': 0.006109351044763464}, 'coef_norm': {'Intercept': -2.95698144399308, 'job.admin.': 0.06766307495598559, 'job.blue-collar': -0.17459726493585595, 'job.entrepreneur': 0.010502300257853325, 'job.housemaid': -0.03861251776480746, 'job.management': 0.043788207865825456, 'job.retired': 0.32283280186828317, 'job.self-employed': -0.08980280549944009, 'job.services': -0.1334230115189897, 'job.student': 0.1590555754189604, 'job.technician': 0.04065516479403617, 'job.unemployed': 0.011823604816264781, 'job.unknown': -0.22687404734879635, 'month.apr': -0.265590466069406, 'month.aug': 0.6471861175880036, 'month.dec': -0.006801929098540485, 'month.jul': -0.09456690575068481, 'month.jun': -0.8126503982287043, 'month.mar': 1.7926982139992276, 'month.may': -0.6767772865093279, 'month.nov': -0.6755106277537659, 'month.oct': -0.08740730038240635, 'month.sep': 0.23868288873607785, 'education.basic.4y': -0.19631100528303216, 'education.basic.6y': 0.03273647167634346, 'education.basic.9y': -0.11764157978568367, 'education.high.school': -0.07365207995412884, 'education.illiterate': 0.5704994910685255, 'education.professional.course': -0.060995718310361074, 'education.university.degree': 0.011641461176910098, 'education.unknown': -0.03780179967390229, 'day_of_week.fri': -0.002319520872176096, 'day_of_week.mon': -0.18954765512287974, 'day_of_week.thu': 0.057052819966628504, 'day_of_week.tue': 0.09986895187144007, 'day_of_week.wed': 0.13379426247937168, 'marital.divorced': 0.03986390618895211, 'marital.married': 0.04206145868421066, 'marital.single': 0.16435542994797533, 'marital.unknown': -0.2160636683156065, 'loan.no': 0.04664899271070883, 'loan.unknown': -0.02212774434532903, 'loan.yes': -0.008361211726576109, 'default.no': 0.20370565664859888, 'default.unknown': -0.1786247568116707, 'default.yes': -0.033867842159287544, 'housing.no': 0.03689443968216436, 'housing.unknown': -0.02268665703756339, 'housing.yes': -0.014759161335487663, 'poutcome.failure': -0.40841788016252806, 'poutcome.nonexistent': -0.1405475316929725, 'poutcome.success': 0.5787760501257253, 'contact.cellular': 0.3117810865262801, 'contact.telephone': -0.31976388831392555, 'age': 0.014204049815551852, 'duration': 1.212873258583017, 'campaign': -0.12885498132511033, 'pdays': -0.18211726415223872, 'previous': -0.060891394179262176, 'emp.var.rate': -2.781678389447199, 'cons.price.idx': 1.319535512989082, 'cons.conf.idx': 0.11038033830234394, 'euribor3m': 0.5313963536687921, 'nr.employed': 0.44093956457849387}}\n"
     ]
    }
   ],
   "source": [
    "# GLM\n",
    "\n",
    "mod,mod_id=get_model_by_algo(\"GLM\",best_models)\n",
    "if mod is not None:\n",
    "    try:     \n",
    "         stats_glm={}\n",
    "         stats_glm=glm_stats(mod)\n",
    "         n=run_id+'_glm_stats.json'\n",
    "         dict_to_json(stats_glm,n)\n",
    "         print(stats_glm)\n",
    "    except:\n",
    "         pass"
   ]
  },
  {
   "cell_type": "code",
   "execution_count": 114,
   "metadata": {},
   "outputs": [],
   "source": [
    "# split into training and test for showing how to predict\n",
    "train, test = df.split_frame([0.8])"
   ]
  },
  {
   "cell_type": "code",
   "execution_count": 115,
   "metadata": {},
   "outputs": [
    {
     "name": "stdout",
     "output_type": "stream",
     "text": [
      "stackedensemble prediction progress: |████████████████████████████████████| 100%\n"
     ]
    }
   ],
   "source": [
    "predictions_df=predictions_test(mod_best,test,run_id)"
   ]
  },
  {
   "cell_type": "code",
   "execution_count": 116,
   "metadata": {},
   "outputs": [
    {
     "data": {
      "text/html": [
       "<table>\n",
       "<thead>\n",
       "<tr><th>predict  </th><th style=\"text-align: right;\">      no</th><th style=\"text-align: right;\">      yes</th></tr>\n",
       "</thead>\n",
       "<tbody>\n",
       "<tr><td>no       </td><td style=\"text-align: right;\">0.977532</td><td style=\"text-align: right;\">0.022468 </td></tr>\n",
       "<tr><td>no       </td><td style=\"text-align: right;\">0.977159</td><td style=\"text-align: right;\">0.0228413</td></tr>\n",
       "<tr><td>no       </td><td style=\"text-align: right;\">0.977494</td><td style=\"text-align: right;\">0.0225062</td></tr>\n",
       "<tr><td>no       </td><td style=\"text-align: right;\">0.978771</td><td style=\"text-align: right;\">0.0212286</td></tr>\n",
       "<tr><td>no       </td><td style=\"text-align: right;\">0.976454</td><td style=\"text-align: right;\">0.0235462</td></tr>\n",
       "<tr><td>no       </td><td style=\"text-align: right;\">0.977976</td><td style=\"text-align: right;\">0.0220242</td></tr>\n",
       "<tr><td>no       </td><td style=\"text-align: right;\">0.978753</td><td style=\"text-align: right;\">0.0212469</td></tr>\n",
       "<tr><td>no       </td><td style=\"text-align: right;\">0.978967</td><td style=\"text-align: right;\">0.0210331</td></tr>\n",
       "<tr><td>no       </td><td style=\"text-align: right;\">0.97871 </td><td style=\"text-align: right;\">0.0212899</td></tr>\n",
       "<tr><td>no       </td><td style=\"text-align: right;\">0.978871</td><td style=\"text-align: right;\">0.0211289</td></tr>\n",
       "</tbody>\n",
       "</table>"
      ]
     },
     "metadata": {},
     "output_type": "display_data"
    },
    {
     "data": {
      "text/plain": []
     },
     "execution_count": 116,
     "metadata": {},
     "output_type": "execute_result"
    }
   ],
   "source": [
    "predictions_df.head()"
   ]
  },
  {
   "cell_type": "code",
   "execution_count": 117,
   "metadata": {},
   "outputs": [
    {
     "name": "stdout",
     "output_type": "stream",
     "text": [
      "Rows:8354\n",
      "Cols:3\n",
      "\n",
      "\n"
     ]
    },
    {
     "data": {
      "text/html": [
       "<table>\n",
       "<thead>\n",
       "<tr><th>       </th><th>predict  </th><th>no                  </th><th>yes                 </th></tr>\n",
       "</thead>\n",
       "<tbody>\n",
       "<tr><td>type   </td><td>enum     </td><td>real                </td><td>real                </td></tr>\n",
       "<tr><td>mins   </td><td>         </td><td>0.030095420925428273</td><td>0.02086066834000961 </td></tr>\n",
       "<tr><td>mean   </td><td>         </td><td>0.8839694450178174  </td><td>0.11603055498218257 </td></tr>\n",
       "<tr><td>maxs   </td><td>         </td><td>0.9791393316599903  </td><td>0.9699045790745717  </td></tr>\n",
       "<tr><td>sigma  </td><td>         </td><td>0.23209567704424064 </td><td>0.23209567704424064 </td></tr>\n",
       "<tr><td>zeros  </td><td>         </td><td>0                   </td><td>0                   </td></tr>\n",
       "<tr><td>missing</td><td>0        </td><td>0                   </td><td>0                   </td></tr>\n",
       "<tr><td>0      </td><td>no       </td><td>0.977531954124919   </td><td>0.022468045875081045</td></tr>\n",
       "<tr><td>1      </td><td>no       </td><td>0.9771587041103503  </td><td>0.02284129588964972 </td></tr>\n",
       "<tr><td>2      </td><td>no       </td><td>0.9774938473190209  </td><td>0.022506152680979153</td></tr>\n",
       "<tr><td>3      </td><td>no       </td><td>0.9787713695891493  </td><td>0.021228630410850644</td></tr>\n",
       "<tr><td>4      </td><td>no       </td><td>0.9764538294661064  </td><td>0.023546170533893643</td></tr>\n",
       "<tr><td>5      </td><td>no       </td><td>0.9779757971727161  </td><td>0.02202420282728387 </td></tr>\n",
       "<tr><td>6      </td><td>no       </td><td>0.9787530527497855  </td><td>0.02124694725021448 </td></tr>\n",
       "<tr><td>7      </td><td>no       </td><td>0.9789669481723582  </td><td>0.021033051827641765</td></tr>\n",
       "<tr><td>8      </td><td>no       </td><td>0.9787101260260032  </td><td>0.02128987397399683 </td></tr>\n",
       "<tr><td>9      </td><td>no       </td><td>0.9788711018489141  </td><td>0.02112889815108589 </td></tr>\n",
       "</tbody>\n",
       "</table>"
      ]
     },
     "metadata": {},
     "output_type": "display_data"
    }
   ],
   "source": [
    "predictions_df.describe()"
   ]
  },
  {
   "cell_type": "code",
   "execution_count": 118,
   "metadata": {},
   "outputs": [],
   "source": [
    "# Update and save meta data\n",
    "\n",
    "meta_data['end_time'] = time.time()\n",
    "meta_data['execution_time'] = meta_data['end_time'] - meta_data['start_time']\n",
    "  \n",
    "n=run_id+'_meta_data.json'\n",
    "dict_to_json(meta_data,n)"
   ]
  },
  {
   "cell_type": "code",
   "execution_count": 119,
   "metadata": {},
   "outputs": [
    {
     "data": {
      "text/plain": [
       "{'start_time': 1555274817.0593822,\n",
       " 'target': None,\n",
       " 'server_path': 'C:\\\\Users\\\\Sharvari Karnik\\\\Desktop\\\\ADS\\\\DSGroupProject\\\\hyperparameter-db-project-ds18',\n",
       " 'data_path': 'C:/Users/Sharvari Karnik/Desktop/ADS/DSGroupProject/hyperparameter-db-project-ds18/bank-additional-full.csv',\n",
       " 'test_path': None,\n",
       " 'max_models': 9,\n",
       " 'run_time': 200,\n",
       " 'run_id': 'FVohtYbr4',\n",
       " 'scale': False,\n",
       " 'classification': False,\n",
       " 'model_path': None,\n",
       " 'balance': False,\n",
       " 'balance_threshold': 0.2,\n",
       " 'project': None,\n",
       " 'end_time': 1555276679.8538115,\n",
       " 'execution_time': 1862.7944293022156,\n",
       " 'run_path': 'C:\\\\Users\\\\Sharvari Karnik\\\\Desktop\\\\ADS\\\\DSGroupProject\\\\hyperparameter-db-project-ds18\\\\FVohtYbr4',\n",
       " 'nthreads': 1,\n",
       " 'min_mem_size': 1,\n",
       " 'analysis': 0,\n",
       " 'X': ['age',\n",
       "  'duration',\n",
       "  'campaign',\n",
       "  'pdays',\n",
       "  'previous',\n",
       "  'job',\n",
       "  'marital',\n",
       "  'education',\n",
       "  'default',\n",
       "  'housing',\n",
       "  'loan',\n",
       "  'contact',\n",
       "  'month',\n",
       "  'day_of_week',\n",
       "  'poutcome',\n",
       "  'emp.var.rate',\n",
       "  'cons.price.idx',\n",
       "  'cons.conf.idx',\n",
       "  'euribor3m',\n",
       "  'nr.employed'],\n",
       " 'variables': {'age': 'int',\n",
       "  'job': 'enum',\n",
       "  'marital': 'enum',\n",
       "  'education': 'enum',\n",
       "  'default': 'enum',\n",
       "  'housing': 'enum',\n",
       "  'loan': 'enum',\n",
       "  'contact': 'enum',\n",
       "  'month': 'enum',\n",
       "  'day_of_week': 'enum',\n",
       "  'duration': 'int',\n",
       "  'campaign': 'int',\n",
       "  'pdays': 'int',\n",
       "  'previous': 'int',\n",
       "  'poutcome': 'enum',\n",
       "  'emp.var.rate': 'real',\n",
       "  'cons.price.idx': 'real',\n",
       "  'cons.conf.idx': 'real',\n",
       "  'euribor3m': 'real',\n",
       "  'nr.employed': 'real',\n",
       "  'y': 'enum'},\n",
       " 'model_execution_time': 309.49141120910645,\n",
       " 'mod_best': 'StackedEnsemble_0_AutoML_20190414_165814',\n",
       " 'mod_best_algo': 'stackedensemble',\n",
       " 'models': ['GBM_grid_0_AutoML_20190414_165814_model_0',\n",
       "  'GBM_grid_0_AutoML_20190414_165814_model_1',\n",
       "  'GBM_grid_0_AutoML_20190414_165814_model_2',\n",
       "  'GBM_grid_0_AutoML_20190414_165814_model_3',\n",
       "  'DRF_0_AutoML_20190414_165814',\n",
       "  'XRT_0_AutoML_20190414_165814',\n",
       "  'GLM_grid_0_AutoML_20190414_165814_model_1',\n",
       "  'GLM_grid_0_AutoML_20190414_165814_model_0',\n",
       "  'StackedEnsemble_0_AutoML_20190414_165814']}"
      ]
     },
     "execution_count": 119,
     "metadata": {},
     "output_type": "execute_result"
    }
   ],
   "source": [
    "meta_data"
   ]
  },
  {
   "cell_type": "code",
   "execution_count": 120,
   "metadata": {},
   "outputs": [
    {
     "name": "stdout",
     "output_type": "stream",
     "text": [
      "Writing H2O logs to C:\\Users\\Sharvari Karnik\\Desktop\\ADS\\DSGroupProject\\hyperparameter-db-project-ds18\\FVohtYbr4\\logs\\FVohtYbr4_autoh2o_log.zip\n"
     ]
    },
    {
     "data": {
      "text/plain": [
       "'C:\\\\Users\\\\Sharvari Karnik\\\\Desktop\\\\ADS\\\\DSGroupProject\\\\hyperparameter-db-project-ds18\\\\FVohtYbr4\\\\logs\\\\FVohtYbr4_autoh2o_log.zip'"
      ]
     },
     "execution_count": 120,
     "metadata": {},
     "output_type": "execute_result"
    }
   ],
   "source": [
    "# Save logs\n",
    "h2o.download_all_logs(dirname=logs_path, filename=logfile)"
   ]
  },
  {
   "cell_type": "code",
   "execution_count": 121,
   "metadata": {},
   "outputs": [],
   "source": [
    "# Clean up\n",
    "os.chdir(server_path)"
   ]
  },
  {
   "cell_type": "code",
   "execution_count": 122,
   "metadata": {},
   "outputs": [],
   "source": [
    "def predictions_test(mod,test,run_id):\n",
    "    mod_perf=mod_best.model_performance(test)          \n",
    "    stats_test={}\n",
    "    stats_test=model_performance_stats(mod_perf)\n",
    "    print(stats_test)   \n",
    "    n=run_id+'_test_stats.json'\n",
    "    dict_to_json(stats_test,n) \n",
    "    try:\n",
    "      cf=mod_perf.confusion_matrix()\n",
    "      print(cf)   \n",
    "#      cf=mod_perf.confusion_matrix(metrics=[\"f1\",\"f2\",\"f0point5\",\"accuracy\",\"precision\",\"recall\",\"specificity\",\"absolute_mcc\",\"min_per_class_accuracy\",\"mean_per_class_accuracy\"])\n",
    "      cf_df=cf.table.as_data_frame()\n",
    "      print(cf_df)    \n",
    "      cf_df.to_csv(run_id+'_test_confusion_matrix.csv')\n",
    "    except:\n",
    "      pass\n",
    "    predictions = mod_best.predict(test)    \n",
    "    predictions_df=test.cbind(predictions).as_data_frame() \n",
    "    predictions_df.to_csv(run_id+'_predictions.csv')\n",
    "    return predictions"
   ]
  },
  {
   "cell_type": "code",
   "execution_count": 123,
   "metadata": {},
   "outputs": [
    {
     "name": "stdout",
     "output_type": "stream",
     "text": [
      "H2O session _sid_9430 closed.\n"
     ]
    }
   ],
   "source": [
    "h2o.cluster().shutdown()"
   ]
  },
  {
   "cell_type": "code",
   "execution_count": null,
   "metadata": {},
   "outputs": [],
   "source": []
  }
 ],
 "metadata": {
  "kernelspec": {
   "display_name": "Python 3",
   "language": "python",
   "name": "python3"
  },
  "language_info": {
   "codemirror_mode": {
    "name": "ipython",
    "version": 3
   },
   "file_extension": ".py",
   "mimetype": "text/x-python",
   "name": "python",
   "nbconvert_exporter": "python",
   "pygments_lexer": "ipython3",
   "version": "3.7.2"
  }
 },
 "nbformat": 4,
 "nbformat_minor": 2
}
